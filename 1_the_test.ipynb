{
 "cells": [
  {
   "cell_type": "code",
   "execution_count": 1,
   "id": "aad87980",
   "metadata": {},
   "outputs": [],
   "source": [
    "import pandas as pd\n",
    "\n",
    "file_name = 'data/1-s2.0-S1097276521002665-mmc6.xlsx'\n",
    "different_genes_xls = pd.ExcelFile(file_name)"
   ]
  },
  {
   "cell_type": "code",
   "execution_count": 2,
   "id": "24c2ef9d",
   "metadata": {},
   "outputs": [],
   "source": [
    "xls_sheets = [sheets for sheets in different_genes_xls.sheet_names if sheets[:2] == '5B']"
   ]
  },
  {
   "cell_type": "code",
   "execution_count": 3,
   "id": "7eb460c3",
   "metadata": {},
   "outputs": [],
   "source": [
    "import joblib \n",
    "out_file_path = './'\n",
    "gene_signature_dir = out_file_path + 'gene_signatures/'\n",
    "out_filename = gene_signature_dir + 'metabolism_terms_mouse.pickle'\n",
    "metabolism_sig = joblib.load(out_filename)"
   ]
  },
  {
   "cell_type": "markdown",
   "id": "05d9aa2b",
   "metadata": {},
   "source": [
    "# Jaccard Index"
   ]
  },
  {
   "cell_type": "code",
   "execution_count": 4,
   "id": "7967f7c8",
   "metadata": {},
   "outputs": [
    {
     "name": "stdout",
     "output_type": "stream",
     "text": [
      "5BA_diffexpr-nonnaive-cluster1 KEGG_MM_GLYCOSAMINOGLYCAN_BIOSYNTHESIS_KERATAN_SULFATE 0.030303030303030304\n",
      "5BA_diffexpr-nonnaive-cluster1 KEGG_MM_PI3K-AKT_SIGNALING_PATHWAY 0.002680965147453083\n",
      "5BA_diffexpr-nonnaive-cluster1 KEGG_MM_NOD-LIKE_RECEPTOR_SIGNALING_PATHWAY 0.012987012987012988\n",
      "5BB_diffexpr-nonnaive-cluster2 KEGG_MM_GLYCOSAMINOGLYCAN_BIOSYNTHESIS_HEPARAN_SULFATE_HEPARIN 0.015384615384615385\n",
      "5BB_diffexpr-nonnaive-cluster2 KEGG_MM_PI3K-AKT_SIGNALING_PATHWAY 0.005050505050505051\n",
      "5BD_diffexpr-nonnaive-cluster4 KEGG_MM_GLYCOLYSIS_GLUCONEOGENESIS 0.012875536480686695\n",
      "5BD_diffexpr-nonnaive-cluster4 KEGG_MM_FRUCTOSE_AND_MANNOSE_METABOLISM 0.00966183574879227\n",
      "5BD_diffexpr-nonnaive-cluster4 KEGG_MM_PURINE_METABOLISM 0.008902077151335312\n",
      "5BD_diffexpr-nonnaive-cluster4 KEGG_MM_PYRIMIDINE_METABOLISM 0.018726591760299626\n",
      "5BD_diffexpr-nonnaive-cluster4 KEGG_MM_GLYCINE_SERINE_AND_THREONINE_METABOLISM 0.0048543689320388345\n",
      "5BD_diffexpr-nonnaive-cluster4 KEGG_MM_CYSTEINE_AND_METHIONINE_METABOLISM 0.0048543689320388345\n",
      "5BD_diffexpr-nonnaive-cluster4 KEGG_MM_GLUTATHIONE_METABOLISM 0.013513513513513514\n",
      "5BD_diffexpr-nonnaive-cluster4 KEGG_MM_AMINO_SUGAR_AND_NUCLEOTIDE_SUGAR_METABOLISM 0.004629629629629629\n",
      "5BD_diffexpr-nonnaive-cluster4 KEGG_MM_INOSITOL_PHOSPHATE_METABOLISM 0.0043859649122807015\n",
      "5BD_diffexpr-nonnaive-cluster4 KEGG_MM_PYRUVATE_METABOLISM 0.004761904761904762\n",
      "5BD_diffexpr-nonnaive-cluster4 KEGG_MM_PROPANOATE_METABOLISM 0.005050505050505051\n",
      "5BD_diffexpr-nonnaive-cluster4 KEGG_MM_VITAMIN_B6_METABOLISM 0.005649717514124294\n",
      "5BD_diffexpr-nonnaive-cluster4 KEGG_MM_FOLATE_BIOSYNTHESIS 0.005555555555555556\n",
      "5BD_diffexpr-nonnaive-cluster4 KEGG_MM_METABOLISM_OF_XENOBIOTICS_BY_CYTOCHROME_P450 0.0038022813688212928\n",
      "5BD_diffexpr-nonnaive-cluster4 KEGG_MM_METABOLIC_PATHWAYS 0.007874015748031496\n",
      "5BD_diffexpr-nonnaive-cluster4 KEGG_MM_RNA_DEGRADATION 0.004081632653061225\n",
      "5BD_diffexpr-nonnaive-cluster4 KEGG_MM_HIF-1_SIGNALING_PATHWAY 0.007142857142857143\n",
      "5BD_diffexpr-nonnaive-cluster4 KEGG_MM_PI3K-AKT_SIGNALING_PATHWAY 0.007662835249042145\n",
      "5BD_diffexpr-nonnaive-cluster4 KEGG_MM_NOD-LIKE_RECEPTOR_SIGNALING_PATHWAY 0.008849557522123894\n",
      "5BF_diffexpr-nonnaive-cluster6 KEGG_MM_PURINE_METABOLISM 0.004975124378109453\n",
      "5BF_diffexpr-nonnaive-cluster6 KEGG_MM_PYRIMIDINE_METABOLISM 0.007633587786259542\n",
      "5BF_diffexpr-nonnaive-cluster6 KEGG_MM_GLUTATHIONE_METABOLISM 0.011627906976744186\n",
      "5BF_diffexpr-nonnaive-cluster6 KEGG_MM_METABOLIC_PATHWAYS 0.0007930214115781126\n",
      "5BF_diffexpr-nonnaive-cluster6 KEGG_MM_NOD-LIKE_RECEPTOR_SIGNALING_PATHWAY 0.011111111111111112\n",
      "5BG_diffexpr-nonnaive-cluster8 KEGG_MM_PURINE_METABOLISM 0.004201680672268907\n",
      "5BG_diffexpr-nonnaive-cluster8 KEGG_MM_PYRIMIDINE_METABOLISM 0.011904761904761904\n",
      "5BG_diffexpr-nonnaive-cluster8 KEGG_MM_GLUTATHIONE_METABOLISM 0.008130081300813009\n",
      "5BG_diffexpr-nonnaive-cluster8 KEGG_MM_METABOLIC_PATHWAYS 0.0015408320493066256\n",
      "5BH_diffexpr-nonnaive-cluster9 KEGG_MM_GLYCOLYSIS_GLUCONEOGENESIS 0.007462686567164179\n",
      "5BH_diffexpr-nonnaive-cluster9 KEGG_MM_PURINE_METABOLISM 0.004201680672268907\n",
      "5BH_diffexpr-nonnaive-cluster9 KEGG_MM_CYSTEINE_AND_METHIONINE_METABOLISM 0.009345794392523364\n",
      "5BH_diffexpr-nonnaive-cluster9 KEGG_MM_GLUTATHIONE_METABOLISM 0.008130081300813009\n",
      "5BH_diffexpr-nonnaive-cluster9 KEGG_MM_INOSITOL_PHOSPHATE_METABOLISM 0.007751937984496124\n",
      "5BH_diffexpr-nonnaive-cluster9 KEGG_MM_GLYCOSPHINGOLIPID_BIOSYNTHESIS_GANGLIO_SERIES 0.012048192771084338\n",
      "5BH_diffexpr-nonnaive-cluster9 KEGG_MM_PYRUVATE_METABOLISM 0.009009009009009009\n",
      "5BH_diffexpr-nonnaive-cluster9 KEGG_MM_PROPANOATE_METABOLISM 0.010101010101010102\n",
      "5BH_diffexpr-nonnaive-cluster9 KEGG_MM_METABOLISM_OF_XENOBIOTICS_BY_CYTOCHROME_P450 0.006097560975609756\n",
      "5BH_diffexpr-nonnaive-cluster9 KEGG_MM_METABOLIC_PATHWAYS 0.0030816640986132513\n",
      "5BH_diffexpr-nonnaive-cluster9 KEGG_MM_MTOR_SIGNALING_PATHWAY 0.007692307692307693\n",
      "5BH_diffexpr-nonnaive-cluster9 KEGG_MM_PI3K-AKT_SIGNALING_PATHWAY 0.002364066193853428\n",
      "5BJ_diffexpr-nonnaive-cluster11 KEGG_MM_GLYCOSAMINOGLYCAN_BIOSYNTHESIS_KERATAN_SULFATE 0.0196078431372549\n",
      "5BJ_diffexpr-nonnaive-cluster11 KEGG_MM_PI3K-AKT_SIGNALING_PATHWAY 0.005115089514066497\n",
      "5BJ_diffexpr-nonnaive-cluster11 KEGG_MM_NOD-LIKE_RECEPTOR_SIGNALING_PATHWAY 0.010526315789473684\n",
      "5BK_diffexpr-nonnaive-cluster12 KEGG_MM_GLYCOSPHINGOLIPID_BIOSYNTHESIS_GANGLIO_SERIES 0.02127659574468085\n",
      "5BK_diffexpr-nonnaive-cluster12 KEGG_MM_METABOLIC_PATHWAYS 0.000792393026941363\n",
      "5BK_diffexpr-nonnaive-cluster12 KEGG_MM_PI3K-AKT_SIGNALING_PATHWAY 0.007751937984496124\n",
      "5BL_diffexpr-nonnaive-cluster13 KEGG_MM_GLYCOSAMINOGLYCAN_BIOSYNTHESIS_HEPARAN_SULFATE_HEPARIN 0.016129032258064516\n",
      "5BL_diffexpr-nonnaive-cluster13 KEGG_MM_RNA_DEGRADATION 0.008620689655172414\n",
      "5BL_diffexpr-nonnaive-cluster13 KEGG_MM_PI3K-AKT_SIGNALING_PATHWAY 0.005089058524173028\n",
      "5BM_diffexpr-nonnaive-cluster14 KEGG_MM_PURINE_METABOLISM 0.00546448087431694\n",
      "5BM_diffexpr-nonnaive-cluster14 KEGG_MM_PYRIMIDINE_METABOLISM 0.008849557522123894\n",
      "5BM_diffexpr-nonnaive-cluster14 KEGG_MM_GLUTATHIONE_METABOLISM 0.014705882352941176\n",
      "5BM_diffexpr-nonnaive-cluster14 KEGG_MM_METABOLIC_PATHWAYS 0.0008045052292839903\n",
      "5BM_diffexpr-nonnaive-cluster14 KEGG_MM_NOD-LIKE_RECEPTOR_SIGNALING_PATHWAY 0.013888888888888888\n",
      "5BP_diffexpr-nonnaive-cluster17 KEGG_MM_MTOR_SIGNALING_PATHWAY 0.009523809523809525\n",
      "5BP_diffexpr-nonnaive-cluster17 KEGG_MM_PI3K-AKT_SIGNALING_PATHWAY 0.002512562814070352\n",
      "5BQ_diffexpr-nonnaive-cluster18 KEGG_MM_GLYCOSAMINOGLYCAN_BIOSYNTHESIS_KERATAN_SULFATE 0.008\n",
      "5BQ_diffexpr-nonnaive-cluster18 KEGG_MM_GLYCOSPHINGOLIPID_BIOSYNTHESIS_GANGLIO_SERIES 0.008\n",
      "5BQ_diffexpr-nonnaive-cluster18 KEGG_MM_FOLATE_BIOSYNTHESIS 0.008130081300813009\n",
      "5BQ_diffexpr-nonnaive-cluster18 KEGG_MM_METABOLIC_PATHWAYS 0.0014925373134328358\n",
      "5BQ_diffexpr-nonnaive-cluster18 KEGG_MM_RNA_DEGRADATION 0.010638297872340425\n",
      "5BQ_diffexpr-nonnaive-cluster18 KEGG_MM_HIF-1_SIGNALING_PATHWAY 0.004484304932735426\n",
      "5BQ_diffexpr-nonnaive-cluster18 KEGG_MM_MTOR_SIGNALING_PATHWAY 0.005813953488372093\n",
      "5BQ_diffexpr-nonnaive-cluster18 KEGG_MM_PI3K-AKT_SIGNALING_PATHWAY 0.012903225806451613\n",
      "5BQ_diffexpr-nonnaive-cluster18 KEGG_MM_NOD-LIKE_RECEPTOR_SIGNALING_PATHWAY 0.011834319526627219\n",
      "5BQ_diffexpr-nonnaive-cluster18 KEGG_MM_ADIPOCYTOKINE_SIGNALING_PATHWAY 0.011111111111111112\n",
      "5BR_diffexpr-nonnaive-cluster20 KEGG_MM_PURINE_METABOLISM 0.008130081300813009\n",
      "5BR_diffexpr-nonnaive-cluster20 KEGG_MM_PYRIMIDINE_METABOLISM 0.022727272727272728\n",
      "5BR_diffexpr-nonnaive-cluster20 KEGG_MM_GLUTATHIONE_METABOLISM 0.015267175572519083\n",
      "5BR_diffexpr-nonnaive-cluster20 KEGG_MM_FOLATE_BIOSYNTHESIS 0.011235955056179775\n",
      "5BR_diffexpr-nonnaive-cluster20 KEGG_MM_METABOLIC_PATHWAYS 0.0038284839203675345\n",
      "5BS_diffexpr-nonnaive-cluster21 KEGG_MM_PI3K-AKT_SIGNALING_PATHWAY 0.005089058524173028\n",
      "5BS_diffexpr-nonnaive-cluster21 KEGG_MM_INSULIN_SIGNALING_PATHWAY 0.0056179775280898875\n"
     ]
    }
   ],
   "source": [
    "for sheet_name in xls_sheets:\n",
    "    df = pd.read_excel(file_name, sheet_name=sheet_name)\n",
    "    diff_gene_set = set([item.upper() for item in df[df['log2FC']>1]['index'].tolist()])\n",
    "    for pathway_key in metabolism_sig:\n",
    "        pct_overlap = len(diff_gene_set.intersection(metabolism_sig[pathway_key]))/(len(diff_gene_set)+len(metabolism_sig[pathway_key]))\n",
    "        if pct_overlap > 0:\n",
    "            print(sheet_name, pathway_key, pct_overlap)"
   ]
  },
  {
   "cell_type": "code",
   "execution_count": 67,
   "id": "d1b230ae",
   "metadata": {},
   "outputs": [],
   "source": [
    "from utils import *\n",
    "\n",
    "M = 9822\n",
    "res = {'cluster_name': [], 'pathway_name': [], 'p-value': [], 'n_overlap': []}\n",
    "for sheet_name in xls_sheets:\n",
    "    df = pd.read_excel(file_name, sheet_name=sheet_name)\n",
    "    diff_gene_set = set([item.upper() for item in df[df['log2FC']>1]['index'].tolist()])\n",
    "    for pathway_key in metabolism_sig:\n",
    "        n = len(metabolism_sig[pathway_key])\n",
    "        N = len(diff_gene_set)\n",
    "        x = len(diff_gene_set.intersection(metabolism_sig[pathway_key]))\n",
    "        pct_overlap = x/(N+n)\n",
    "        \n",
    "        if pct_overlap > 0:\n",
    "            p_val = hypergeometric_test(total_genes_expressed=M, n_genes_of_interest=n, \n",
    "                                        n_genes_picked=N, n_overlap=x)\n",
    "            res['cluster_name'].append(sheet_name)\n",
    "            res['pathway_name'].append(pathway_key)\n",
    "            res['p-value'].append(p_val)\n",
    "            res['n_overlap'].append(pct_overlap)\n",
    "#         else:\n",
    "#             res['cluster_name'].append(sheet_name)\n",
    "#             res['pathway_name'].append(pathway_key)\n",
    "#             res['p-value'].append(1)\n",
    "#             res['n_overlap'].append(pct_overlap)"
   ]
  },
  {
   "cell_type": "code",
   "execution_count": 68,
   "id": "1d59392b",
   "metadata": {},
   "outputs": [],
   "source": [
    "df = pd.DataFrame.from_dict(res)"
   ]
  },
  {
   "cell_type": "code",
   "execution_count": 69,
   "id": "28387b68",
   "metadata": {},
   "outputs": [],
   "source": [
    "df_sorted = df.sort_values(by='p-value')"
   ]
  },
  {
   "cell_type": "code",
   "execution_count": 71,
   "id": "b342f96f",
   "metadata": {},
   "outputs": [
    {
     "data": {
      "image/png": "[encoded data removed]",
      "text/plain": [
       "<Figure size 432x288 with 1 Axes>"
      ]
     },
     "metadata": {
      "needs_background": "light"
     },
     "output_type": "display_data"
    }
   ],
   "source": [
    "plt.plot(df_sorted['p-value'].values)\n",
    "plt.plot(df_sorted['n_overlap'].values/np.max(df_sorted['n_overlap']))\n",
    "plt.show()"
   ]
  },
  {
   "cell_type": "code",
   "execution_count": 74,
   "id": "9f071503",
   "metadata": {},
   "outputs": [
    {
     "data": {
      "image/png": "[encoded data removed]",
      "text/plain": [
       "<Figure size 432x288 with 1 Axes>"
      ]
     },
     "metadata": {
      "needs_background": "light"
     },
     "output_type": "display_data"
    },
    {
     "data": {
      "image/png": "[encoded data removed]",
      "text/plain": [
       "<Figure size 432x288 with 1 Axes>"
      ]
     },
     "metadata": {
      "needs_background": "light"
     },
     "output_type": "display_data"
    }
   ],
   "source": [
    "import matplotlib.pyplot as plt\n",
    "p_adj = adjust_p_value_bh(df['p-value'].values)\n",
    "plt.hist(df['p-value'].values, bins=10)\n",
    "# plt.xlim([0, 0.9])\n",
    "# plt.ylim([0, 100])\n",
    "plt.show()\n",
    "plt.hist(p_adj, bins=100)\n",
    "plt.show()"
   ]
  },
  {
   "cell_type": "code",
   "execution_count": 49,
   "id": "327830c2",
   "metadata": {},
   "outputs": [
    {
     "data": {
      "text/html": [
       "<div>\n",
       "<style scoped>\n",
       "    .dataframe tbody tr th:only-of-type {\n",
       "        vertical-align: middle;\n",
       "    }\n",
       "\n",
       "    .dataframe tbody tr th {\n",
       "        vertical-align: top;\n",
       "    }\n",
       "\n",
       "    .dataframe thead th {\n",
       "        text-align: right;\n",
       "    }\n",
       "</style>\n",
       "<table border=\"1\" class=\"dataframe\">\n",
       "  <thead>\n",
       "    <tr style=\"text-align: right;\">\n",
       "      <th></th>\n",
       "      <th>cluster_name</th>\n",
       "      <th>pathway_name</th>\n",
       "      <th>p-value</th>\n",
       "    </tr>\n",
       "  </thead>\n",
       "  <tbody>\n",
       "    <tr>\n",
       "      <th>0</th>\n",
       "      <td>5BA_diffexpr-nonnaive-cluster1</td>\n",
       "      <td>KEGG_MM_GLYCOSAMINOGLYCAN_BIOSYNTHESIS_KERATAN...</td>\n",
       "      <td>0.027159</td>\n",
       "    </tr>\n",
       "    <tr>\n",
       "      <th>1</th>\n",
       "      <td>5BA_diffexpr-nonnaive-cluster1</td>\n",
       "      <td>KEGG_MM_PI3K-AKT_SIGNALING_PATHWAY</td>\n",
       "      <td>0.484807</td>\n",
       "    </tr>\n",
       "    <tr>\n",
       "      <th>2</th>\n",
       "      <td>5BA_diffexpr-nonnaive-cluster1</td>\n",
       "      <td>KEGG_MM_NOD-LIKE_RECEPTOR_SIGNALING_PATHWAY</td>\n",
       "      <td>0.102861</td>\n",
       "    </tr>\n",
       "    <tr>\n",
       "      <th>3</th>\n",
       "      <td>5BB_diffexpr-nonnaive-cluster2</td>\n",
       "      <td>KEGG_MM_GLYCOSAMINOGLYCAN_BIOSYNTHESIS_HEPARAN...</td>\n",
       "      <td>0.095625</td>\n",
       "    </tr>\n",
       "    <tr>\n",
       "      <th>4</th>\n",
       "      <td>5BB_diffexpr-nonnaive-cluster2</td>\n",
       "      <td>KEGG_MM_PI3K-AKT_SIGNALING_PATHWAY</td>\n",
       "      <td>0.439393</td>\n",
       "    </tr>\n",
       "    <tr>\n",
       "      <th>...</th>\n",
       "      <td>...</td>\n",
       "      <td>...</td>\n",
       "      <td>...</td>\n",
       "    </tr>\n",
       "    <tr>\n",
       "      <th>73</th>\n",
       "      <td>5BR_diffexpr-nonnaive-cluster20</td>\n",
       "      <td>KEGG_MM_GLUTATHIONE_METABOLISM</td>\n",
       "      <td>0.067459</td>\n",
       "    </tr>\n",
       "    <tr>\n",
       "      <th>74</th>\n",
       "      <td>5BR_diffexpr-nonnaive-cluster20</td>\n",
       "      <td>KEGG_MM_FOLATE_BIOSYNTHESIS</td>\n",
       "      <td>0.096106</td>\n",
       "    </tr>\n",
       "    <tr>\n",
       "      <th>75</th>\n",
       "      <td>5BR_diffexpr-nonnaive-cluster20</td>\n",
       "      <td>KEGG_MM_METABOLIC_PATHWAYS</td>\n",
       "      <td>0.969182</td>\n",
       "    </tr>\n",
       "    <tr>\n",
       "      <th>76</th>\n",
       "      <td>5BS_diffexpr-nonnaive-cluster21</td>\n",
       "      <td>KEGG_MM_PI3K-AKT_SIGNALING_PATHWAY</td>\n",
       "      <td>0.401578</td>\n",
       "    </tr>\n",
       "    <tr>\n",
       "      <th>77</th>\n",
       "      <td>5BS_diffexpr-nonnaive-cluster21</td>\n",
       "      <td>KEGG_MM_INSULIN_SIGNALING_PATHWAY</td>\n",
       "      <td>0.421071</td>\n",
       "    </tr>\n",
       "  </tbody>\n",
       "</table>\n",
       "<p>78 rows × 3 columns</p>\n",
       "</div>"
      ],
      "text/plain": [
       "                       cluster_name  \\\n",
       "0    5BA_diffexpr-nonnaive-cluster1   \n",
       "1    5BA_diffexpr-nonnaive-cluster1   \n",
       "2    5BA_diffexpr-nonnaive-cluster1   \n",
       "3    5BB_diffexpr-nonnaive-cluster2   \n",
       "4    5BB_diffexpr-nonnaive-cluster2   \n",
       "..                              ...   \n",
       "73  5BR_diffexpr-nonnaive-cluster20   \n",
       "74  5BR_diffexpr-nonnaive-cluster20   \n",
       "75  5BR_diffexpr-nonnaive-cluster20   \n",
       "76  5BS_diffexpr-nonnaive-cluster21   \n",
       "77  5BS_diffexpr-nonnaive-cluster21   \n",
       "\n",
       "                                         pathway_name   p-value  \n",
       "0   KEGG_MM_GLYCOSAMINOGLYCAN_BIOSYNTHESIS_KERATAN...  0.027159  \n",
       "1                  KEGG_MM_PI3K-AKT_SIGNALING_PATHWAY  0.484807  \n",
       "2         KEGG_MM_NOD-LIKE_RECEPTOR_SIGNALING_PATHWAY  0.102861  \n",
       "3   KEGG_MM_GLYCOSAMINOGLYCAN_BIOSYNTHESIS_HEPARAN...  0.095625  \n",
       "4                  KEGG_MM_PI3K-AKT_SIGNALING_PATHWAY  0.439393  \n",
       "..                                                ...       ...  \n",
       "73                     KEGG_MM_GLUTATHIONE_METABOLISM  0.067459  \n",
       "74                        KEGG_MM_FOLATE_BIOSYNTHESIS  0.096106  \n",
       "75                         KEGG_MM_METABOLIC_PATHWAYS  0.969182  \n",
       "76                 KEGG_MM_PI3K-AKT_SIGNALING_PATHWAY  0.401578  \n",
       "77                  KEGG_MM_INSULIN_SIGNALING_PATHWAY  0.421071  \n",
       "\n",
       "[78 rows x 3 columns]"
      ]
     },
     "execution_count": 49,
     "metadata": {},
     "output_type": "execute_result"
    }
   ],
   "source": [
    "df"
   ]
  },
  {
   "cell_type": "code",
   "execution_count": 24,
   "id": "6782c441",
   "metadata": {},
   "outputs": [
    {
     "data": {
      "image/png": "[encoded data removed]",
      "text/plain": [
       "<Figure size 432x288 with 1 Axes>"
      ]
     },
     "metadata": {
      "needs_background": "light"
     },
     "output_type": "display_data"
    },
    {
     "data": {
      "image/png": "[encoded data removed]",
      "text/plain": [
       "<Figure size 432x288 with 1 Axes>"
      ]
     },
     "metadata": {
      "needs_background": "light"
     },
     "output_type": "display_data"
    }
   ],
   "source": [
    "p_adj = adjust_p_value_fdr(df['p-value'].values)\n",
    "plt.hist(df['p-value'], bins=10)\n",
    "# plt.xlim([0, 0.9])\n",
    "# plt.ylim([0, 100])\n",
    "plt.show()\n",
    "plt.hist(p_adj, bins=10)\n",
    "plt.show()"
   ]
  },
  {
   "cell_type": "code",
   "execution_count": 19,
   "id": "5d7d7be7",
   "metadata": {},
   "outputs": [
    {
     "data": {
      "image/png": "[encoded data removed]",
      "text/plain": [
       "<Figure size 432x288 with 1 Axes>"
      ]
     },
     "metadata": {
      "needs_background": "light"
     },
     "output_type": "display_data"
    },
    {
     "data": {
      "image/png": "[encoded data removed]",
      "text/plain": [
       "<Figure size 432x288 with 1 Axes>"
      ]
     },
     "metadata": {
      "needs_background": "light"
     },
     "output_type": "display_data"
    }
   ],
   "source": [
    "p_adj = adjust_p_value_qval(df['p-value'].values)\n",
    "import matplotlib.pyplot as plt\n",
    "plt.hist(df['p-value'], bins=10)\n",
    "# plt.xlim([0, 0.9])\n",
    "# plt.ylim([0, 100])\n",
    "plt.show()\n",
    "plt.hist(p_adj, bins=10)\n",
    "plt.show()"
   ]
  },
  {
   "cell_type": "code",
   "execution_count": 20,
   "id": "78e9b3e4",
   "metadata": {},
   "outputs": [
    {
     "data": {
      "text/plain": [
       "array([0.49917775, 0.68026245, 0.49917775, 0.49917775, 0.65908895,\n",
       "       0.49917775, 0.49917775, 0.7342346 , 0.49917775, 0.68026245,\n",
       "       0.68026245, 0.49917775, 0.73650001, 0.81751904, 0.70254676,\n",
       "       0.64399153, 0.49917775, 0.50500555, 0.9277275 , 0.9999937 ,\n",
       "       0.87326866, 0.73650001, 0.95726064, 0.54439223, 0.64399153,\n",
       "       0.54439223, 0.49917775, 0.9999937 , 0.50500555, 0.84848352,\n",
       "       0.49917775, 0.60553911, 0.9999937 , 0.64399153, 0.84848352,\n",
       "       0.53221401, 0.60553911, 0.63641337, 0.49917775, 0.54439223,\n",
       "       0.50500555, 0.68026245, 0.9999937 , 0.63641337, 0.9999937 ,\n",
       "       0.49917775, 0.64399153, 0.50500555, 0.49917775, 0.9999937 ,\n",
       "       0.49917775, 0.49917775, 0.54439223, 0.64399153, 0.50500555,\n",
       "       0.49917775, 0.49917775, 0.93210966, 0.49917775, 0.53221401,\n",
       "       0.92591787, 0.49917775, 0.49917775, 0.49917775, 0.9999937 ,\n",
       "       0.51382166, 0.86636188, 0.68920044, 0.50500555, 0.49917775,\n",
       "       0.50500555, 0.64399153, 0.49917775, 0.49917775, 0.49917775,\n",
       "       0.9999937 , 0.64399153, 0.64399153])"
      ]
     },
     "execution_count": 20,
     "metadata": {},
     "output_type": "execute_result"
    }
   ],
   "source": [
    "p_adj"
   ]
  },
  {
   "cell_type": "code",
   "execution_count": 21,
   "id": "f021b649",
   "metadata": {},
   "outputs": [
    {
     "data": {
      "image/png": "[encoded data removed]",
      "text/plain": [
       "<Figure size 432x288 with 1 Axes>"
      ]
     },
     "metadata": {
      "needs_background": "light"
     },
     "output_type": "display_data"
    },
    {
     "data": {
      "image/png": "[encoded data removed]",
      "text/plain": [
       "<Figure size 432x288 with 1 Axes>"
      ]
     },
     "metadata": {
      "needs_background": "light"
     },
     "output_type": "display_data"
    }
   ],
   "source": [
    "p_adj = adjust_p_value_qval(df['p-value'].values, pi_0=0.5)\n",
    "import matplotlib.pyplot as plt\n",
    "plt.hist(df['p-value'], bins=10)\n",
    "# plt.xlim([0, 0.9])\n",
    "# plt.ylim([0, 100])\n",
    "plt.show()\n",
    "plt.hist(p_adj, bins=10)\n",
    "plt.show()"
   ]
  },
  {
   "cell_type": "code",
   "execution_count": 9,
   "id": "b5a4e0a9",
   "metadata": {},
   "outputs": [],
   "source": [
    "df['p-adj'] = p_adj"
   ]
  },
  {
   "cell_type": "code",
   "execution_count": 10,
   "id": "f03da4cd",
   "metadata": {},
   "outputs": [
    {
     "data": {
      "text/html": [
       "<div>\n",
       "<style scoped>\n",
       "    .dataframe tbody tr th:only-of-type {\n",
       "        vertical-align: middle;\n",
       "    }\n",
       "\n",
       "    .dataframe tbody tr th {\n",
       "        vertical-align: top;\n",
       "    }\n",
       "\n",
       "    .dataframe thead th {\n",
       "        text-align: right;\n",
       "    }\n",
       "</style>\n",
       "<table border=\"1\" class=\"dataframe\">\n",
       "  <thead>\n",
       "    <tr style=\"text-align: right;\">\n",
       "      <th></th>\n",
       "      <th>cluster_name</th>\n",
       "      <th>pathway_name</th>\n",
       "      <th>p-value</th>\n",
       "      <th>p-adj</th>\n",
       "    </tr>\n",
       "  </thead>\n",
       "  <tbody>\n",
       "  </tbody>\n",
       "</table>\n",
       "</div>"
      ],
      "text/plain": [
       "Empty DataFrame\n",
       "Columns: [cluster_name, pathway_name, p-value, p-adj]\n",
       "Index: []"
      ]
     },
     "execution_count": 10,
     "metadata": {},
     "output_type": "execute_result"
    }
   ],
   "source": [
    "df[df['p-adj']<0.05]"
   ]
  },
  {
   "cell_type": "code",
   "execution_count": 86,
   "id": "0fe33d39",
   "metadata": {},
   "outputs": [
    {
     "data": {
      "text/plain": [
       "0     0.029019\n",
       "1     1.000000\n",
       "2     0.891466\n",
       "3     0.152219\n",
       "4     0.745057\n",
       "        ...   \n",
       "73    0.187921\n",
       "74    0.149926\n",
       "75    1.000000\n",
       "76    0.949185\n",
       "77    0.505286\n",
       "Name: p-value, Length: 78, dtype: float64"
      ]
     },
     "execution_count": 86,
     "metadata": {},
     "output_type": "execute_result"
    }
   ],
   "source": [
    "adjust_p_value_fdr(df['p-value'])"
   ]
  },
  {
   "cell_type": "code",
   "execution_count": 14,
   "id": "520caafd",
   "metadata": {},
   "outputs": [],
   "source": [
    "df.to_csv('test_q_val.csv')"
   ]
  },
  {
   "cell_type": "markdown",
   "id": "48bf06ee",
   "metadata": {},
   "source": [
    "https://www.bioconductor.org/packages/release/bioc/vignettes/qvalue/inst/doc/qvalue.pdf\n",
    ">The “U-shaped” p-value histogram is a red flag. An important assumption behind the estimation performed\n",
    "in this package is that null p-values follow a Uniform(0,1) distribution, which would result in a p-value\n",
    "histogram where the right tail is fairly flat as in the Hedenfalk et al. p-values. U-shaped p-value histograms\n",
    "can indicate that a one-sided test was performed on data where there is signal in both directions, or it can\n",
    "indicate that there is dependence among the variables in the data. In the latter case, we suggest considering\n",
    "the sva Bioconductor package. In either case, it is usually possible to compute the p-values using a different\n",
    "model or method that will yield p-values that better match the underlying assumptions of the methods\n",
    "implemented in this package."
   ]
  },
  {
   "cell_type": "code",
   "execution_count": null,
   "id": "b0f616f7",
   "metadata": {},
   "outputs": [],
   "source": []
  }
 ],
 "metadata": {
  "kernelspec": {
   "display_name": "Python 3 (ipykernel)",
   "language": "python",
   "name": "python3"
  },
  "language_info": {
   "codemirror_mode": {
    "name": "ipython",
    "version": 3
   },
   "file_extension": ".py",
   "mimetype": "text/x-python",
   "name": "python",
   "nbconvert_exporter": "python",
   "pygments_lexer": "ipython3",
   "version": "3.9.7"
  }
 },
 "nbformat": 4,
 "nbformat_minor": 5
}
