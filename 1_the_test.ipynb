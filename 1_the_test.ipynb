{
 "cells": [
  {
   "cell_type": "code",
   "execution_count": 6,
   "id": "aad87980",
   "metadata": {},
   "outputs": [],
   "source": [
    "import pandas as pd\n",
    "\n",
    "file_name = 'data/1-s2.0-S1097276521002665-mmc6.xlsx'\n",
    "different_genes_xls = pd.ExcelFile(file_name)"
   ]
  },
  {
   "cell_type": "code",
   "execution_count": 7,
   "id": "24c2ef9d",
   "metadata": {},
   "outputs": [],
   "source": [
    "xls_sheets = [sheets for sheets in different_genes_xls.sheet_names if sheets[:2] == '5B']"
   ]
  },
  {
   "cell_type": "code",
   "execution_count": 25,
   "id": "7eb460c3",
   "metadata": {},
   "outputs": [],
   "source": [
    "import joblib \n",
    "out_file_path = './'\n",
    "gene_signature_dir = out_file_path + 'gene_signatures/'\n",
    "out_filename = gene_signature_dir + 'metabolism_terms_msigdb.pickle'\n",
    "metabolism_sig = joblib.load(out_filename)"
   ]
  },
  {
   "cell_type": "markdown",
   "id": "05d9aa2b",
   "metadata": {},
   "source": [
    "# Jaccard Index"
   ]
  },
  {
   "cell_type": "code",
   "execution_count": 30,
   "id": "7967f7c8",
   "metadata": {},
   "outputs": [
    {
     "name": "stdout",
     "output_type": "stream",
     "text": [
      "5BA_diffexpr-nonnaive-cluster1 KEGG_GLYCOSAMINOGLYCAN_BIOSYNTHESIS_KERATAN_SULFATE 0.030303030303030304\n",
      "5BB_diffexpr-nonnaive-cluster2 KEGG_GLYCOSAMINOGLYCAN_DEGRADATION 0.016129032258064516\n",
      "5BB_diffexpr-nonnaive-cluster2 KEGG_GLYCOSAMINOGLYCAN_BIOSYNTHESIS_HEPARAN_SULFATE 0.014925373134328358\n",
      "5BB_diffexpr-nonnaive-cluster2 KEGG_JAK_STAT_SIGNALING_PATHWAY 0.00510204081632653\n",
      "5BC_diffexpr-nonnaive-cluster3 KEGG_JAK_STAT_SIGNALING_PATHWAY 0.00625\n",
      "5BD_diffexpr-nonnaive-cluster4 KEGG_GLYCOLYSIS_GLUCONEOGENESIS 0.013100436681222707\n",
      "5BD_diffexpr-nonnaive-cluster4 KEGG_FRUCTOSE_AND_MANNOSE_METABOLISM 0.009950248756218905\n",
      "5BD_diffexpr-nonnaive-cluster4 KEGG_PURINE_METABOLISM 0.009202453987730062\n",
      "5BD_diffexpr-nonnaive-cluster4 KEGG_PYRIMIDINE_METABOLISM 0.018867924528301886\n",
      "5BD_diffexpr-nonnaive-cluster4 KEGG_GLYCINE_SERINE_AND_THREONINE_METABOLISM 0.005050505050505051\n",
      "5BD_diffexpr-nonnaive-cluster4 KEGG_CYSTEINE_AND_METHIONINE_METABOLISM 0.004975124378109453\n",
      "5BD_diffexpr-nonnaive-cluster4 KEGG_GLUTATHIONE_METABOLISM 0.013824884792626729\n",
      "5BD_diffexpr-nonnaive-cluster4 KEGG_AMINO_SUGAR_AND_NUCLEOTIDE_SUGAR_METABOLISM 0.004739336492890996\n",
      "5BD_diffexpr-nonnaive-cluster4 KEGG_INOSITOL_PHOSPHATE_METABOLISM 0.004524886877828055\n",
      "5BD_diffexpr-nonnaive-cluster4 KEGG_PYRUVATE_METABOLISM 0.004830917874396135\n",
      "5BD_diffexpr-nonnaive-cluster4 KEGG_PROPANOATE_METABOLISM 0.005\n",
      "5BD_diffexpr-nonnaive-cluster4 KEGG_FOLATE_BIOSYNTHESIS 0.0056179775280898875\n",
      "5BD_diffexpr-nonnaive-cluster4 KEGG_METABOLISM_OF_XENOBIOTICS_BY_CYTOCHROME_P450 0.004219409282700422\n",
      "5BD_diffexpr-nonnaive-cluster4 KEGG_RNA_DEGRADATION 0.004424778761061947\n",
      "5BF_diffexpr-nonnaive-cluster6 KEGG_PURINE_METABOLISM 0.005263157894736842\n",
      "5BF_diffexpr-nonnaive-cluster6 KEGG_PYRIMIDINE_METABOLISM 0.007751937984496124\n",
      "5BF_diffexpr-nonnaive-cluster6 KEGG_GLUTATHIONE_METABOLISM 0.012345679012345678\n",
      "5BG_diffexpr-nonnaive-cluster8 KEGG_PURINE_METABOLISM 0.004405286343612335\n",
      "5BG_diffexpr-nonnaive-cluster8 KEGG_PYRIMIDINE_METABOLISM 0.012048192771084338\n",
      "5BG_diffexpr-nonnaive-cluster8 KEGG_GLUTATHIONE_METABOLISM 0.00847457627118644\n",
      "5BH_diffexpr-nonnaive-cluster9 KEGG_GLYCOSPHINGOLIPID_BIOSYNTHESIS_GANGLIO_SERIES 0.012048192771084338\n",
      "5BH_diffexpr-nonnaive-cluster9 KEGG_GLYCOLYSIS_GLUCONEOGENESIS 0.007692307692307693\n",
      "5BH_diffexpr-nonnaive-cluster9 KEGG_PURINE_METABOLISM 0.004405286343612335\n",
      "5BH_diffexpr-nonnaive-cluster9 KEGG_CYSTEINE_AND_METHIONINE_METABOLISM 0.00980392156862745\n",
      "5BH_diffexpr-nonnaive-cluster9 KEGG_GLUTATHIONE_METABOLISM 0.00847457627118644\n",
      "5BH_diffexpr-nonnaive-cluster9 KEGG_INOSITOL_PHOSPHATE_METABOLISM 0.00819672131147541\n",
      "5BH_diffexpr-nonnaive-cluster9 KEGG_PYRUVATE_METABOLISM 0.009259259259259259\n",
      "5BH_diffexpr-nonnaive-cluster9 KEGG_PROPANOATE_METABOLISM 0.009900990099009901\n",
      "5BH_diffexpr-nonnaive-cluster9 KEGG_METABOLISM_OF_XENOBIOTICS_BY_CYTOCHROME_P450 0.007246376811594203\n",
      "5BH_diffexpr-nonnaive-cluster9 KEGG_MTOR_SIGNALING_PATHWAY 0.008333333333333333\n",
      "5BH_diffexpr-nonnaive-cluster9 KEGG_TGF_BETA_SIGNALING_PATHWAY 0.006493506493506494\n",
      "5BJ_diffexpr-nonnaive-cluster11 KEGG_GLYCOSAMINOGLYCAN_BIOSYNTHESIS_KERATAN_SULFATE 0.0196078431372549\n",
      "5BK_diffexpr-nonnaive-cluster12 KEGG_GLYCOSPHINGOLIPID_BIOSYNTHESIS_GANGLIO_SERIES 0.02127659574468085\n",
      "5BK_diffexpr-nonnaive-cluster12 KEGG_JAK_STAT_SIGNALING_PATHWAY 0.0106951871657754\n",
      "5BL_diffexpr-nonnaive-cluster13 KEGG_GLYCOSAMINOGLYCAN_DEGRADATION 0.01694915254237288\n",
      "5BL_diffexpr-nonnaive-cluster13 KEGG_GLYCOSAMINOGLYCAN_BIOSYNTHESIS_HEPARAN_SULFATE 0.015625\n",
      "5BL_diffexpr-nonnaive-cluster13 KEGG_JAK_STAT_SIGNALING_PATHWAY 0.0051813471502590676\n",
      "5BM_diffexpr-nonnaive-cluster14 KEGG_PURINE_METABOLISM 0.005813953488372093\n",
      "5BM_diffexpr-nonnaive-cluster14 KEGG_PYRIMIDINE_METABOLISM 0.009009009009009009\n",
      "5BM_diffexpr-nonnaive-cluster14 KEGG_GLUTATHIONE_METABOLISM 0.015873015873015872\n",
      "5BO_diffexpr-nonnaive-cluster16 KEGG_TGF_BETA_SIGNALING_PATHWAY 0.009174311926605505\n",
      "5BP_diffexpr-nonnaive-cluster17 KEGG_MTOR_SIGNALING_PATHWAY 0.010526315789473684\n",
      "5BQ_diffexpr-nonnaive-cluster18 KEGG_GLYCOSAMINOGLYCAN_BIOSYNTHESIS_KERATAN_SULFATE 0.008\n",
      "5BQ_diffexpr-nonnaive-cluster18 KEGG_GLYCOSPHINGOLIPID_BIOSYNTHESIS_GANGLIO_SERIES 0.008\n",
      "5BQ_diffexpr-nonnaive-cluster18 KEGG_FOLATE_BIOSYNTHESIS 0.008264462809917356\n",
      "5BQ_diffexpr-nonnaive-cluster18 KEGG_TGF_BETA_SIGNALING_PATHWAY 0.01020408163265306\n",
      "5BQ_diffexpr-nonnaive-cluster18 KEGG_JAK_STAT_SIGNALING_PATHWAY 0.01509433962264151\n",
      "5BQ_diffexpr-nonnaive-cluster18 KEGG_ADIPOCYTOKINE_SIGNALING_PATHWAY 0.011299435028248588\n",
      "5BR_diffexpr-nonnaive-cluster20 KEGG_PURINE_METABOLISM 0.00851063829787234\n",
      "5BR_diffexpr-nonnaive-cluster20 KEGG_PYRIMIDINE_METABOLISM 0.022988505747126436\n",
      "5BR_diffexpr-nonnaive-cluster20 KEGG_GLUTATHIONE_METABOLISM 0.015873015873015872\n",
      "5BR_diffexpr-nonnaive-cluster20 KEGG_FOLATE_BIOSYNTHESIS 0.011494252873563218\n",
      "5BS_diffexpr-nonnaive-cluster21 KEGG_JAK_STAT_SIGNALING_PATHWAY 0.010362694300518135\n",
      "5BS_diffexpr-nonnaive-cluster21 KEGG_INSULIN_SIGNALING_PATHWAY 0.005714285714285714\n"
     ]
    }
   ],
   "source": [
    "for sheet_name in xls_sheets:\n",
    "    df = pd.read_excel(file_name, sheet_name=sheet_name)\n",
    "    diff_gene_set = set([item.upper() for item in df[df['log2FC']>1]['index'].tolist()])\n",
    "    for pathway_key in metabolism_sig:\n",
    "        pct_overlap = len(diff_gene_set.intersection(metabolism_sig[pathway_key]))/(len(diff_gene_set)+len(metabolism_sig[pathway_key]))\n",
    "        if pct_overlap > 0:\n",
    "            print(sheet_name, pathway_key, pct_overlap)"
   ]
  },
  {
   "cell_type": "code",
   "execution_count": null,
   "id": "61250114",
   "metadata": {},
   "outputs": [],
   "source": []
  }
 ],
 "metadata": {
  "kernelspec": {
   "display_name": "Python 3 (ipykernel)",
   "language": "python",
   "name": "python3"
  },
  "language_info": {
   "codemirror_mode": {
    "name": "ipython",
    "version": 3
   },
   "file_extension": ".py",
   "mimetype": "text/x-python",
   "name": "python",
   "nbconvert_exporter": "python",
   "pygments_lexer": "ipython3",
   "version": "3.9.7"
  }
 },
 "nbformat": 4,
 "nbformat_minor": 5
}
