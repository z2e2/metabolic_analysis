{
 "cells": [
  {
   "cell_type": "code",
   "execution_count": 34,
   "id": "aad87980",
   "metadata": {},
   "outputs": [],
   "source": [
    "import pandas as pd\n",
    "\n",
    "file_name = 'data/1-s2.0-S1097276521002665-mmc6.xlsx'\n",
    "different_genes_xls = pd.ExcelFile(file_name)"
   ]
  },
  {
   "cell_type": "code",
   "execution_count": 35,
   "id": "24c2ef9d",
   "metadata": {},
   "outputs": [],
   "source": [
    "xls_sheets = [sheets for sheets in different_genes_xls.sheet_names if sheets[:2] == '5B']"
   ]
  },
  {
   "cell_type": "code",
   "execution_count": 36,
   "id": "7eb460c3",
   "metadata": {},
   "outputs": [],
   "source": [
    "import joblib \n",
    "out_file_path = './'\n",
    "gene_signature_dir = out_file_path + 'gene_signatures/'\n",
    "out_filename = gene_signature_dir + 'metabolism_terms_msigdb.pickle'\n",
    "metabolism_sig = joblib.load(out_filename)"
   ]
  },
  {
   "cell_type": "markdown",
   "id": "05d9aa2b",
   "metadata": {},
   "source": [
    "# Jaccard Index"
   ]
  },
  {
   "cell_type": "code",
   "execution_count": 37,
   "id": "7967f7c8",
   "metadata": {},
   "outputs": [
    {
     "name": "stdout",
     "output_type": "stream",
     "text": [
      "5BA_diffexpr-nonnaive-cluster1 KEGG_GLYCOSAMINOGLYCAN_BIOSYNTHESIS_KERATAN_SULFATE 0.030303030303030304\n",
      "5BB_diffexpr-nonnaive-cluster2 KEGG_GLYCOSAMINOGLYCAN_DEGRADATION 0.016129032258064516\n",
      "5BB_diffexpr-nonnaive-cluster2 KEGG_GLYCOSAMINOGLYCAN_BIOSYNTHESIS_HEPARAN_SULFATE 0.014925373134328358\n",
      "5BB_diffexpr-nonnaive-cluster2 KEGG_JAK_STAT_SIGNALING_PATHWAY 0.00510204081632653\n",
      "5BC_diffexpr-nonnaive-cluster3 KEGG_JAK_STAT_SIGNALING_PATHWAY 0.00625\n",
      "5BD_diffexpr-nonnaive-cluster4 KEGG_GLYCOLYSIS_GLUCONEOGENESIS 0.013100436681222707\n",
      "5BD_diffexpr-nonnaive-cluster4 KEGG_FRUCTOSE_AND_MANNOSE_METABOLISM 0.009950248756218905\n",
      "5BD_diffexpr-nonnaive-cluster4 KEGG_PURINE_METABOLISM 0.009202453987730062\n",
      "5BD_diffexpr-nonnaive-cluster4 KEGG_PYRIMIDINE_METABOLISM 0.018867924528301886\n",
      "5BD_diffexpr-nonnaive-cluster4 KEGG_GLYCINE_SERINE_AND_THREONINE_METABOLISM 0.005050505050505051\n",
      "5BD_diffexpr-nonnaive-cluster4 KEGG_CYSTEINE_AND_METHIONINE_METABOLISM 0.004975124378109453\n",
      "5BD_diffexpr-nonnaive-cluster4 KEGG_GLUTATHIONE_METABOLISM 0.013824884792626729\n",
      "5BD_diffexpr-nonnaive-cluster4 KEGG_AMINO_SUGAR_AND_NUCLEOTIDE_SUGAR_METABOLISM 0.004739336492890996\n",
      "5BD_diffexpr-nonnaive-cluster4 KEGG_INOSITOL_PHOSPHATE_METABOLISM 0.004524886877828055\n",
      "5BD_diffexpr-nonnaive-cluster4 KEGG_PYRUVATE_METABOLISM 0.004830917874396135\n",
      "5BD_diffexpr-nonnaive-cluster4 KEGG_PROPANOATE_METABOLISM 0.005\n",
      "5BD_diffexpr-nonnaive-cluster4 KEGG_FOLATE_BIOSYNTHESIS 0.0056179775280898875\n",
      "5BD_diffexpr-nonnaive-cluster4 KEGG_METABOLISM_OF_XENOBIOTICS_BY_CYTOCHROME_P450 0.004219409282700422\n",
      "5BD_diffexpr-nonnaive-cluster4 KEGG_RNA_DEGRADATION 0.004424778761061947\n",
      "5BF_diffexpr-nonnaive-cluster6 KEGG_PURINE_METABOLISM 0.005263157894736842\n",
      "5BF_diffexpr-nonnaive-cluster6 KEGG_PYRIMIDINE_METABOLISM 0.007751937984496124\n",
      "5BF_diffexpr-nonnaive-cluster6 KEGG_GLUTATHIONE_METABOLISM 0.012345679012345678\n",
      "5BG_diffexpr-nonnaive-cluster8 KEGG_PURINE_METABOLISM 0.004405286343612335\n",
      "5BG_diffexpr-nonnaive-cluster8 KEGG_PYRIMIDINE_METABOLISM 0.012048192771084338\n",
      "5BG_diffexpr-nonnaive-cluster8 KEGG_GLUTATHIONE_METABOLISM 0.00847457627118644\n",
      "5BH_diffexpr-nonnaive-cluster9 KEGG_GLYCOSPHINGOLIPID_BIOSYNTHESIS_GANGLIO_SERIES 0.012048192771084338\n",
      "5BH_diffexpr-nonnaive-cluster9 KEGG_GLYCOLYSIS_GLUCONEOGENESIS 0.007692307692307693\n",
      "5BH_diffexpr-nonnaive-cluster9 KEGG_PURINE_METABOLISM 0.004405286343612335\n",
      "5BH_diffexpr-nonnaive-cluster9 KEGG_CYSTEINE_AND_METHIONINE_METABOLISM 0.00980392156862745\n",
      "5BH_diffexpr-nonnaive-cluster9 KEGG_GLUTATHIONE_METABOLISM 0.00847457627118644\n",
      "5BH_diffexpr-nonnaive-cluster9 KEGG_INOSITOL_PHOSPHATE_METABOLISM 0.00819672131147541\n",
      "5BH_diffexpr-nonnaive-cluster9 KEGG_PYRUVATE_METABOLISM 0.009259259259259259\n",
      "5BH_diffexpr-nonnaive-cluster9 KEGG_PROPANOATE_METABOLISM 0.009900990099009901\n",
      "5BH_diffexpr-nonnaive-cluster9 KEGG_METABOLISM_OF_XENOBIOTICS_BY_CYTOCHROME_P450 0.007246376811594203\n",
      "5BH_diffexpr-nonnaive-cluster9 KEGG_MTOR_SIGNALING_PATHWAY 0.008333333333333333\n",
      "5BH_diffexpr-nonnaive-cluster9 KEGG_TGF_BETA_SIGNALING_PATHWAY 0.006493506493506494\n",
      "5BJ_diffexpr-nonnaive-cluster11 KEGG_GLYCOSAMINOGLYCAN_BIOSYNTHESIS_KERATAN_SULFATE 0.0196078431372549\n",
      "5BK_diffexpr-nonnaive-cluster12 KEGG_GLYCOSPHINGOLIPID_BIOSYNTHESIS_GANGLIO_SERIES 0.02127659574468085\n",
      "5BK_diffexpr-nonnaive-cluster12 KEGG_JAK_STAT_SIGNALING_PATHWAY 0.0106951871657754\n",
      "5BL_diffexpr-nonnaive-cluster13 KEGG_GLYCOSAMINOGLYCAN_DEGRADATION 0.01694915254237288\n",
      "5BL_diffexpr-nonnaive-cluster13 KEGG_GLYCOSAMINOGLYCAN_BIOSYNTHESIS_HEPARAN_SULFATE 0.015625\n",
      "5BL_diffexpr-nonnaive-cluster13 KEGG_JAK_STAT_SIGNALING_PATHWAY 0.0051813471502590676\n",
      "5BM_diffexpr-nonnaive-cluster14 KEGG_PURINE_METABOLISM 0.005813953488372093\n",
      "5BM_diffexpr-nonnaive-cluster14 KEGG_PYRIMIDINE_METABOLISM 0.009009009009009009\n",
      "5BM_diffexpr-nonnaive-cluster14 KEGG_GLUTATHIONE_METABOLISM 0.015873015873015872\n",
      "5BO_diffexpr-nonnaive-cluster16 KEGG_TGF_BETA_SIGNALING_PATHWAY 0.009174311926605505\n",
      "5BP_diffexpr-nonnaive-cluster17 KEGG_MTOR_SIGNALING_PATHWAY 0.010526315789473684\n",
      "5BQ_diffexpr-nonnaive-cluster18 KEGG_GLYCOSAMINOGLYCAN_BIOSYNTHESIS_KERATAN_SULFATE 0.008\n",
      "5BQ_diffexpr-nonnaive-cluster18 KEGG_GLYCOSPHINGOLIPID_BIOSYNTHESIS_GANGLIO_SERIES 0.008\n",
      "5BQ_diffexpr-nonnaive-cluster18 KEGG_FOLATE_BIOSYNTHESIS 0.008264462809917356\n",
      "5BQ_diffexpr-nonnaive-cluster18 KEGG_TGF_BETA_SIGNALING_PATHWAY 0.01020408163265306\n",
      "5BQ_diffexpr-nonnaive-cluster18 KEGG_JAK_STAT_SIGNALING_PATHWAY 0.01509433962264151\n",
      "5BQ_diffexpr-nonnaive-cluster18 KEGG_ADIPOCYTOKINE_SIGNALING_PATHWAY 0.011299435028248588\n",
      "5BR_diffexpr-nonnaive-cluster20 KEGG_PURINE_METABOLISM 0.00851063829787234\n",
      "5BR_diffexpr-nonnaive-cluster20 KEGG_PYRIMIDINE_METABOLISM 0.022988505747126436\n",
      "5BR_diffexpr-nonnaive-cluster20 KEGG_GLUTATHIONE_METABOLISM 0.015873015873015872\n",
      "5BR_diffexpr-nonnaive-cluster20 KEGG_FOLATE_BIOSYNTHESIS 0.011494252873563218\n",
      "5BS_diffexpr-nonnaive-cluster21 KEGG_JAK_STAT_SIGNALING_PATHWAY 0.010362694300518135\n",
      "5BS_diffexpr-nonnaive-cluster21 KEGG_INSULIN_SIGNALING_PATHWAY 0.005714285714285714\n"
     ]
    }
   ],
   "source": [
    "for sheet_name in xls_sheets:\n",
    "    df = pd.read_excel(file_name, sheet_name=sheet_name)\n",
    "    diff_gene_set = set([item.upper() for item in df[df['log2FC']>1]['index'].tolist()])\n",
    "    for pathway_key in metabolism_sig:\n",
    "        pct_overlap = len(diff_gene_set.intersection(metabolism_sig[pathway_key]))/(len(diff_gene_set)+len(metabolism_sig[pathway_key]))\n",
    "        if pct_overlap > 0:\n",
    "            print(sheet_name, pathway_key, pct_overlap)"
   ]
  },
  {
   "cell_type": "code",
   "execution_count": 46,
   "id": "d1b230ae",
   "metadata": {},
   "outputs": [
    {
     "name": "stdout",
     "output_type": "stream",
     "text": [
      "5BA_diffexpr-nonnaive-cluster1 KEGG_GLYCOSAMINOGLYCAN_BIOSYNTHESIS_KERATAN_SULFATE 0.02715856568106993\n",
      "5BB_diffexpr-nonnaive-cluster2 KEGG_GLYCOSAMINOGLYCAN_DEGRADATION 0.08417829069208949\n",
      "5BB_diffexpr-nonnaive-cluster2 KEGG_GLYCOSAMINOGLYCAN_BIOSYNTHESIS_HEPARAN_SULFATE 0.10317808037829056\n",
      "5BB_diffexpr-nonnaive-cluster2 KEGG_JAK_STAT_SIGNALING_PATHWAY 0.47978799048022863\n",
      "5BC_diffexpr-nonnaive-cluster3 KEGG_JAK_STAT_SIGNALING_PATHWAY 0.07646820414744869\n",
      "5BD_diffexpr-nonnaive-cluster4 KEGG_GLYCOLYSIS_GLUCONEOGENESIS 0.0883589753331696\n",
      "5BD_diffexpr-nonnaive-cluster4 KEGG_FRUCTOSE_AND_MANNOSE_METABOLISM 0.11330168929019013\n",
      "5BD_diffexpr-nonnaive-cluster4 KEGG_PURINE_METABOLISM 0.5100733499769002\n",
      "5BD_diffexpr-nonnaive-cluster4 KEGG_PYRIMIDINE_METABOLISM 0.025619680966482726\n",
      "5BD_diffexpr-nonnaive-cluster4 KEGG_GLYCINE_SERINE_AND_THREONINE_METABOLISM 0.4128265351505149\n",
      "5BD_diffexpr-nonnaive-cluster4 KEGG_CYSTEINE_AND_METHIONINE_METABOLISM 0.44236528460088187\n",
      "5BD_diffexpr-nonnaive-cluster4 KEGG_GLUTATHIONE_METABOLISM 0.05291563910118301\n",
      "5BD_diffexpr-nonnaive-cluster4 KEGG_AMINO_SUGAR_AND_NUCLEOTIDE_SUGAR_METABOLISM 0.5305626265771058\n",
      "5BD_diffexpr-nonnaive-cluster4 KEGG_INOSITOL_PHOSPHATE_METABOLISM 0.6048806000984241\n",
      "5BD_diffexpr-nonnaive-cluster4 KEGG_PYRUVATE_METABOLISM 0.4970836328787789\n",
      "5BD_diffexpr-nonnaive-cluster4 KEGG_PROPANOATE_METABOLISM 0.43268694355376025\n",
      "5BD_diffexpr-nonnaive-cluster4 KEGG_FOLATE_BIOSYNTHESIS 0.17199351696561085\n",
      "5BD_diffexpr-nonnaive-cluster4 KEGG_METABOLISM_OF_XENOBIOTICS_BY_CYTOCHROME_P450 0.7002159296726488\n",
      "5BD_diffexpr-nonnaive-cluster4 KEGG_RNA_DEGRADATION 0.6375277936130734\n",
      "5BF_diffexpr-nonnaive-cluster6 KEGG_PURINE_METABOLISM 0.39753125931258004\n",
      "5BF_diffexpr-nonnaive-cluster6 KEGG_PYRIMIDINE_METABOLISM 0.26753313036826387\n",
      "5BF_diffexpr-nonnaive-cluster6 KEGG_GLUTATHIONE_METABOLISM 0.14653844465762894\n",
      "5BG_diffexpr-nonnaive-cluster8 KEGG_PURINE_METABOLISM 0.6716369338471954\n",
      "5BG_diffexpr-nonnaive-cluster8 KEGG_PYRIMIDINE_METABOLISM 0.14739849289962081\n",
      "5BG_diffexpr-nonnaive-cluster8 KEGG_GLUTATHIONE_METABOLISM 0.2940691161856956\n",
      "5BH_diffexpr-nonnaive-cluster9 KEGG_GLYCOSPHINGOLIPID_BIOSYNTHESIS_GANGLIO_SERIES 0.09903084482187136\n",
      "5BH_diffexpr-nonnaive-cluster9 KEGG_GLYCOLYSIS_GLUCONEOGENESIS 0.35084326618604184\n",
      "5BH_diffexpr-nonnaive-cluster9 KEGG_PURINE_METABOLISM 0.6716369338471954\n",
      "5BH_diffexpr-nonnaive-cluster9 KEGG_CYSTEINE_AND_METHIONINE_METABOLISM 0.21069909125459355\n",
      "5BH_diffexpr-nonnaive-cluster9 KEGG_GLUTATHIONE_METABOLISM 0.2940691161856956\n",
      "5BH_diffexpr-nonnaive-cluster9 KEGG_INOSITOL_PHOSPHATE_METABOLISM 0.31351724561001765\n",
      "5BH_diffexpr-nonnaive-cluster9 KEGG_PYRUVATE_METABOLISM 0.2430420223242424\n",
      "5BH_diffexpr-nonnaive-cluster9 KEGG_PROPANOATE_METABOLISM 0.20517780108113765\n",
      "5BH_diffexpr-nonnaive-cluster9 KEGG_METABOLISM_OF_XENOBIOTICS_BY_CYTOCHROME_P450 0.3861680032498942\n",
      "5BH_diffexpr-nonnaive-cluster9 KEGG_MTOR_SIGNALING_PATHWAY 0.3038600945241915\n",
      "5BH_diffexpr-nonnaive-cluster9 KEGG_TGF_BETA_SIGNALING_PATHWAY 0.45123125537597114\n",
      "5BJ_diffexpr-nonnaive-cluster11 KEGG_GLYCOSAMINOGLYCAN_BIOSYNTHESIS_KERATAN_SULFATE 0.053627464483514936\n",
      "5BK_diffexpr-nonnaive-cluster12 KEGG_GLYCOSPHINGOLIPID_BIOSYNTHESIS_GANGLIO_SERIES 0.0478042478480482\n",
      "5BK_diffexpr-nonnaive-cluster12 KEGG_JAK_STAT_SIGNALING_PATHWAY 0.09025034642663339\n",
      "5BL_diffexpr-nonnaive-cluster13 KEGG_GLYCOSAMINOGLYCAN_DEGRADATION 0.07825522428079908\n",
      "5BL_diffexpr-nonnaive-cluster13 KEGG_GLYCOSAMINOGLYCAN_BIOSYNTHESIS_HEPARAN_SULFATE 0.09598953052298638\n",
      "5BL_diffexpr-nonnaive-cluster13 KEGG_JAK_STAT_SIGNALING_PATHWAY 0.4542568541998485\n",
      "5BM_diffexpr-nonnaive-cluster14 KEGG_PURINE_METABOLISM 0.19127689994997588\n",
      "5BM_diffexpr-nonnaive-cluster14 KEGG_PYRIMIDINE_METABOLISM 0.12229115123401309\n",
      "5BM_diffexpr-nonnaive-cluster14 KEGG_GLUTATHIONE_METABOLISM 0.06423195903047162\n",
      "5BO_diffexpr-nonnaive-cluster16 KEGG_TGF_BETA_SIGNALING_PATHWAY 0.1833129897784349\n",
      "5BP_diffexpr-nonnaive-cluster17 KEGG_MTOR_SIGNALING_PATHWAY 0.20447078869629254\n",
      "5BQ_diffexpr-nonnaive-cluster18 KEGG_GLYCOSAMINOGLYCAN_BIOSYNTHESIS_KERATAN_SULFATE 0.15554108984328224\n",
      "5BQ_diffexpr-nonnaive-cluster18 KEGG_GLYCOSPHINGOLIPID_BIOSYNTHESIS_GANGLIO_SERIES 0.15554108984328224\n",
      "5BQ_diffexpr-nonnaive-cluster18 KEGG_FOLATE_BIOSYNTHESIS 0.11657716820606157\n",
      "5BQ_diffexpr-nonnaive-cluster18 KEGG_TGF_BETA_SIGNALING_PATHWAY 0.25052442222994487\n",
      "5BQ_diffexpr-nonnaive-cluster18 KEGG_JAK_STAT_SIGNALING_PATHWAY 0.09597530862263662\n",
      "5BQ_diffexpr-nonnaive-cluster18 KEGG_ADIPOCYTOKINE_SIGNALING_PATHWAY 0.1726605528037477\n",
      "5BR_diffexpr-nonnaive-cluster20 KEGG_PURINE_METABOLISM 0.34926761365404513\n",
      "5BR_diffexpr-nonnaive-cluster20 KEGG_PYRIMIDINE_METABOLISM 0.006909000591525273\n",
      "5BR_diffexpr-nonnaive-cluster20 KEGG_GLUTATHIONE_METABOLISM 0.05702560462764835\n",
      "5BR_diffexpr-nonnaive-cluster20 KEGG_FOLATE_BIOSYNTHESIS 0.08193744967759514\n",
      "5BS_diffexpr-nonnaive-cluster21 KEGG_JAK_STAT_SIGNALING_PATHWAY 0.12046379825137976\n",
      "5BS_diffexpr-nonnaive-cluster21 KEGG_INSULIN_SIGNALING_PATHWAY 0.4142024037502143\n"
     ]
    }
   ],
   "source": [
    "from utils import hypergeometric_test\n",
    "\n",
    "\n",
    "M = 9822\n",
    "\n",
    "for sheet_name in xls_sheets:\n",
    "    df = pd.read_excel(file_name, sheet_name=sheet_name)\n",
    "    diff_gene_set = set([item.upper() for item in df[df['log2FC']>1]['index'].tolist()])\n",
    "    for pathway_key in metabolism_sig:\n",
    "        n = len(metabolism_sig[pathway_key])\n",
    "        N = len(diff_gene_set)\n",
    "        x = len(diff_gene_set.intersection(metabolism_sig[pathway_key]))\n",
    "        pct_overlap = x/(N+n)\n",
    "        \n",
    "        if pct_overlap > 0:\n",
    "            p_val = hypergeometric_test(total_genes_expressed=M, n_genes_of_interest=n, \n",
    "                                        n_genes_picked=N, n_overlap=x)\n",
    "            print(sheet_name, pathway_key, p_val)"
   ]
  },
  {
   "cell_type": "code",
   "execution_count": null,
   "id": "95bca87a",
   "metadata": {},
   "outputs": [],
   "source": []
  }
 ],
 "metadata": {
  "kernelspec": {
   "display_name": "Python 3 (ipykernel)",
   "language": "python",
   "name": "python3"
  },
  "language_info": {
   "codemirror_mode": {
    "name": "ipython",
    "version": 3
   },
   "file_extension": ".py",
   "mimetype": "text/x-python",
   "name": "python",
   "nbconvert_exporter": "python",
   "pygments_lexer": "ipython3",
   "version": "3.9.7"
  }
 },
 "nbformat": 4,
 "nbformat_minor": 5
}
