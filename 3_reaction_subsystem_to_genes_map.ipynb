{
 "cells": [
  {
   "cell_type": "code",
   "execution_count": 1,
   "id": "0ff15b3c",
   "metadata": {},
   "outputs": [],
   "source": [
    "import numpy as np\n",
    "import pandas as pd"
   ]
  },
  {
   "cell_type": "code",
   "execution_count": 2,
   "id": "cfada60b",
   "metadata": {},
   "outputs": [
    {
     "data": {
      "text/html": [
       "<div>\n",
       "<style scoped>\n",
       "    .dataframe tbody tr th:only-of-type {\n",
       "        vertical-align: middle;\n",
       "    }\n",
       "\n",
       "    .dataframe tbody tr th {\n",
       "        vertical-align: top;\n",
       "    }\n",
       "\n",
       "    .dataframe thead th {\n",
       "        text-align: right;\n",
       "    }\n",
       "</style>\n",
       "<table border=\"1\" class=\"dataframe\">\n",
       "  <thead>\n",
       "    <tr style=\"text-align: right;\">\n",
       "      <th></th>\n",
       "      <th>rxn_name_long</th>\n",
       "      <th>subsystem</th>\n",
       "      <th>ind_in_original_recon</th>\n",
       "      <th>rxn_EC_number</th>\n",
       "      <th>genes_associated_with_rxn</th>\n",
       "      <th>rxn_formula</th>\n",
       "      <th>rxn_confidence</th>\n",
       "    </tr>\n",
       "    <tr>\n",
       "      <th>rxn_code_nodirection</th>\n",
       "      <th></th>\n",
       "      <th></th>\n",
       "      <th></th>\n",
       "      <th></th>\n",
       "      <th></th>\n",
       "      <th></th>\n",
       "      <th></th>\n",
       "    </tr>\n",
       "  </thead>\n",
       "  <tbody>\n",
       "    <tr>\n",
       "      <th>10FTHF5GLUtl</th>\n",
       "      <td>5-glutamyl-10FTHF transport, lysosomal</td>\n",
       "      <td>Transport, lysosomal</td>\n",
       "      <td>1</td>\n",
       "      <td>NaN</td>\n",
       "      <td>NaN</td>\n",
       "      <td>1.00 * 10-formyltetrahydrofolate-[Glu](5) [c] ...</td>\n",
       "      <td>2.0</td>\n",
       "    </tr>\n",
       "    <tr>\n",
       "      <th>10FTHF5GLUtm</th>\n",
       "      <td>5-glutamyl-10FTHF transport, mitochondrial</td>\n",
       "      <td>Transport, mitochondrial</td>\n",
       "      <td>2</td>\n",
       "      <td>NaN</td>\n",
       "      <td>NaN</td>\n",
       "      <td>1.00 * 10-formyltetrahydrofolate-[Glu](5) [m] ...</td>\n",
       "      <td>2.0</td>\n",
       "    </tr>\n",
       "    <tr>\n",
       "      <th>10FTHF6GLUtl</th>\n",
       "      <td>6-glutamyl-10FTHF transport, lysosomal</td>\n",
       "      <td>Transport, lysosomal</td>\n",
       "      <td>3</td>\n",
       "      <td>NaN</td>\n",
       "      <td>NaN</td>\n",
       "      <td>1.00 * 10-formyltetrahydrofolate-[Glu](6) [c] ...</td>\n",
       "      <td>2.0</td>\n",
       "    </tr>\n",
       "    <tr>\n",
       "      <th>10FTHF6GLUtm</th>\n",
       "      <td>6-glutamyl-10FTHF transport, mitochondrial</td>\n",
       "      <td>Transport, mitochondrial</td>\n",
       "      <td>4</td>\n",
       "      <td>NaN</td>\n",
       "      <td>NaN</td>\n",
       "      <td>1.00 * 10-formyltetrahydrofolate-[Glu](6) [m] ...</td>\n",
       "      <td>2.0</td>\n",
       "    </tr>\n",
       "    <tr>\n",
       "      <th>10FTHF7GLUtl</th>\n",
       "      <td>7-glutamyl-10FTHF transport, lysosomal</td>\n",
       "      <td>Transport, lysosomal</td>\n",
       "      <td>5</td>\n",
       "      <td>NaN</td>\n",
       "      <td>NaN</td>\n",
       "      <td>1.00 * 10-formyltetrahydrofolate-[Glu](7) [c] ...</td>\n",
       "      <td>2.0</td>\n",
       "    </tr>\n",
       "    <tr>\n",
       "      <th>...</th>\n",
       "      <td>...</td>\n",
       "      <td>...</td>\n",
       "      <td>...</td>\n",
       "      <td>...</td>\n",
       "      <td>...</td>\n",
       "      <td>...</td>\n",
       "      <td>...</td>\n",
       "    </tr>\n",
       "    <tr>\n",
       "      <th>MAL_Lte</th>\n",
       "      <td>Transport of L-malate</td>\n",
       "      <td>Transport, extracellular</td>\n",
       "      <td>7436</td>\n",
       "      <td>NaN</td>\n",
       "      <td>NaN</td>\n",
       "      <td>1.00 * (S)-malate(2-) [e] --&gt; 1.00 * (S)-malat...</td>\n",
       "      <td>NaN</td>\n",
       "    </tr>\n",
       "    <tr>\n",
       "      <th>OROTGLUt</th>\n",
       "      <td>OROTGLUt</td>\n",
       "      <td>Transport, extracellular</td>\n",
       "      <td>7437</td>\n",
       "      <td>NaN</td>\n",
       "      <td>SLC22A7</td>\n",
       "      <td>1.00 * L-glutamate(1-) [c] + 1.00 * Orotate [e...</td>\n",
       "      <td>NaN</td>\n",
       "    </tr>\n",
       "    <tr>\n",
       "      <th>PNTOte</th>\n",
       "      <td>Transport of (R)-Pantothenate</td>\n",
       "      <td>Transport, extracellular</td>\n",
       "      <td>7438</td>\n",
       "      <td>NaN</td>\n",
       "      <td>NaN</td>\n",
       "      <td>1.00 * (R)-Pantothenate [e] --&gt; 1.00 * (R)-Pan...</td>\n",
       "      <td>NaN</td>\n",
       "    </tr>\n",
       "    <tr>\n",
       "      <th>IDOURte</th>\n",
       "      <td>L-iduronate transport, extracellular</td>\n",
       "      <td>Transport, extracellular</td>\n",
       "      <td>7439</td>\n",
       "      <td>NaN</td>\n",
       "      <td>NaN</td>\n",
       "      <td>1.00 * L-iduronate [e] --&gt; 1.00 * L-iduronate ...</td>\n",
       "      <td>NaN</td>\n",
       "    </tr>\n",
       "    <tr>\n",
       "      <th>EX_idour(e)</th>\n",
       "      <td>Exchange of L-iduronate</td>\n",
       "      <td>Exchange/demand reaction</td>\n",
       "      <td>7440</td>\n",
       "      <td>NaN</td>\n",
       "      <td>NaN</td>\n",
       "      <td>1.00 * L-iduronate [e] --&gt; ϕ\\nNo genes</td>\n",
       "      <td>NaN</td>\n",
       "    </tr>\n",
       "  </tbody>\n",
       "</table>\n",
       "<p>7440 rows × 7 columns</p>\n",
       "</div>"
      ],
      "text/plain": [
       "                                                   rxn_name_long  \\\n",
       "rxn_code_nodirection                                               \n",
       "10FTHF5GLUtl              5-glutamyl-10FTHF transport, lysosomal   \n",
       "10FTHF5GLUtm          5-glutamyl-10FTHF transport, mitochondrial   \n",
       "10FTHF6GLUtl              6-glutamyl-10FTHF transport, lysosomal   \n",
       "10FTHF6GLUtm          6-glutamyl-10FTHF transport, mitochondrial   \n",
       "10FTHF7GLUtl              7-glutamyl-10FTHF transport, lysosomal   \n",
       "...                                                          ...   \n",
       "MAL_Lte                                    Transport of L-malate   \n",
       "OROTGLUt                                                OROTGLUt   \n",
       "PNTOte                             Transport of (R)-Pantothenate   \n",
       "IDOURte                     L-iduronate transport, extracellular   \n",
       "EX_idour(e)                              Exchange of L-iduronate   \n",
       "\n",
       "                                     subsystem  ind_in_original_recon  \\\n",
       "rxn_code_nodirection                                                    \n",
       "10FTHF5GLUtl              Transport, lysosomal                      1   \n",
       "10FTHF5GLUtm          Transport, mitochondrial                      2   \n",
       "10FTHF6GLUtl              Transport, lysosomal                      3   \n",
       "10FTHF6GLUtm          Transport, mitochondrial                      4   \n",
       "10FTHF7GLUtl              Transport, lysosomal                      5   \n",
       "...                                        ...                    ...   \n",
       "MAL_Lte               Transport, extracellular                   7436   \n",
       "OROTGLUt              Transport, extracellular                   7437   \n",
       "PNTOte                Transport, extracellular                   7438   \n",
       "IDOURte               Transport, extracellular                   7439   \n",
       "EX_idour(e)           Exchange/demand reaction                   7440   \n",
       "\n",
       "                     rxn_EC_number genes_associated_with_rxn  \\\n",
       "rxn_code_nodirection                                           \n",
       "10FTHF5GLUtl                   NaN                       NaN   \n",
       "10FTHF5GLUtm                   NaN                       NaN   \n",
       "10FTHF6GLUtl                   NaN                       NaN   \n",
       "10FTHF6GLUtm                   NaN                       NaN   \n",
       "10FTHF7GLUtl                   NaN                       NaN   \n",
       "...                            ...                       ...   \n",
       "MAL_Lte                        NaN                       NaN   \n",
       "OROTGLUt                       NaN                   SLC22A7   \n",
       "PNTOte                         NaN                       NaN   \n",
       "IDOURte                        NaN                       NaN   \n",
       "EX_idour(e)                    NaN                       NaN   \n",
       "\n",
       "                                                            rxn_formula  \\\n",
       "rxn_code_nodirection                                                      \n",
       "10FTHF5GLUtl          1.00 * 10-formyltetrahydrofolate-[Glu](5) [c] ...   \n",
       "10FTHF5GLUtm          1.00 * 10-formyltetrahydrofolate-[Glu](5) [m] ...   \n",
       "10FTHF6GLUtl          1.00 * 10-formyltetrahydrofolate-[Glu](6) [c] ...   \n",
       "10FTHF6GLUtm          1.00 * 10-formyltetrahydrofolate-[Glu](6) [m] ...   \n",
       "10FTHF7GLUtl          1.00 * 10-formyltetrahydrofolate-[Glu](7) [c] ...   \n",
       "...                                                                 ...   \n",
       "MAL_Lte               1.00 * (S)-malate(2-) [e] --> 1.00 * (S)-malat...   \n",
       "OROTGLUt              1.00 * L-glutamate(1-) [c] + 1.00 * Orotate [e...   \n",
       "PNTOte                1.00 * (R)-Pantothenate [e] --> 1.00 * (R)-Pan...   \n",
       "IDOURte               1.00 * L-iduronate [e] --> 1.00 * L-iduronate ...   \n",
       "EX_idour(e)                      1.00 * L-iduronate [e] --> ϕ\\nNo genes   \n",
       "\n",
       "                      rxn_confidence  \n",
       "rxn_code_nodirection                  \n",
       "10FTHF5GLUtl                     2.0  \n",
       "10FTHF5GLUtm                     2.0  \n",
       "10FTHF6GLUtl                     2.0  \n",
       "10FTHF6GLUtm                     2.0  \n",
       "10FTHF7GLUtl                     2.0  \n",
       "...                              ...  \n",
       "MAL_Lte                          NaN  \n",
       "OROTGLUt                         NaN  \n",
       "PNTOte                           NaN  \n",
       "IDOURte                          NaN  \n",
       "EX_idour(e)                      NaN  \n",
       "\n",
       "[7440 rows x 7 columns]"
      ]
     },
     "execution_count": 2,
     "metadata": {},
     "output_type": "execute_result"
    }
   ],
   "source": [
    "root='/Genomics/pritykinlab/zzhao/metabolic_analysis'\n",
    "reaction_meta_file = f'{root}/Compass/compass/Resources/Recon2_export/rxn_md.csv'\n",
    "reaction_metadata = pd.read_csv(reaction_meta_file, index_col = 0)\n",
    "reaction_metadata"
   ]
  },
  {
   "cell_type": "code",
   "execution_count": 3,
   "id": "47d12dc9",
   "metadata": {},
   "outputs": [],
   "source": [
    "# confidence score (4 = most confident; 0 = unassigned confidence) \n",
    "reaction_metadata = reaction_metadata[reaction_metadata['rxn_confidence'].isin([1,2, 3, 4])]\n",
    "# Enzyme Commission Number (EC Number)\n",
    "reaction_metadata = reaction_metadata[~reaction_metadata['rxn_EC_number'].isna()]\n",
    "# gene names\n",
    "reaction_metadata = reaction_metadata[~reaction_metadata['genes_associated_with_rxn'].isna()]\n",
    "# filter out reactions in the citric acid cycle subsystem which are outside of the mitochondria. remove if '[m]' not in the rxn_formula \n",
    "reaction_metadata.loc[(reaction_metadata['rxn_formula'].map(lambda x: '[m]' not in x)) & (reaction_metadata['subsystem'] == \"Citric acid cycle\"), 'subsystem'] = 'Other'\n",
    "reaction_metadata = reaction_metadata[reaction_metadata['subsystem']!='Other']\n"
   ]
  },
  {
   "cell_type": "code",
   "execution_count": 10,
   "id": "ccaf338f",
   "metadata": {},
   "outputs": [
    {
     "data": {
      "text/plain": [
       "rxn_name_long                1,3-Diaminopropane:oxygen oxidoreductase (deam...\n",
       "subsystem                                              beta-Alanine metabolism\n",
       "ind_in_original_recon                                                       13\n",
       "rxn_EC_number                                                          1.4.3.6\n",
       "genes_associated_with_rxn                                     AOC1; AOC2; AOC3\n",
       "rxn_formula                  1.00 * trimethylenediaminium [c] + 1.00 * Wate...\n",
       "rxn_confidence                                                             1.0\n",
       "Name: 13DAMPPOX, dtype: object"
      ]
     },
     "execution_count": 10,
     "metadata": {},
     "output_type": "execute_result"
    }
   ],
   "source": [
    "reaction_metadata.loc[reaction_metadata.index[0]]"
   ]
  },
  {
   "cell_type": "code",
   "execution_count": 16,
   "id": "be6d0145",
   "metadata": {},
   "outputs": [],
   "source": [
    "reaction_to_genes = {}\n",
    "for key in reaction_metadata.index:\n",
    "    gene_list = reaction_metadata.loc[key]['genes_associated_with_rxn'].split('; ')\n",
    "    reaction_to_genes[key] = (gene_list, reaction_metadata.loc[key]['subsystem'])"
   ]
  },
  {
   "cell_type": "code",
   "execution_count": 29,
   "id": "84609335",
   "metadata": {},
   "outputs": [
    {
     "data": {
      "text/plain": [
       "['gene_signatures/metabolism_rxn_reaction.pickle']"
      ]
     },
     "execution_count": 29,
     "metadata": {},
     "output_type": "execute_result"
    }
   ],
   "source": [
    "import joblib\n",
    "joblib.dump(reaction_to_genes, 'gene_signatures/metabolism_rxn_reaction.pickle')"
   ]
  },
  {
   "cell_type": "code",
   "execution_count": 23,
   "id": "93df2cb8",
   "metadata": {},
   "outputs": [
    {
     "data": {
      "text/plain": [
       "100"
      ]
     },
     "execution_count": 23,
     "metadata": {},
     "output_type": "execute_result"
    }
   ],
   "source": [
    "from collections import Counter\n",
    "c = 0\n",
    "for item in Counter([len(reaction_to_genes[key][0]) for key in reaction_to_genes]).most_common():\n",
    "    if item[0] >= 5:\n",
    "        c += item[1]\n",
    "c"
   ]
  },
  {
   "cell_type": "code",
   "execution_count": 27,
   "id": "11055765",
   "metadata": {},
   "outputs": [
    {
     "data": {
      "text/plain": [
       "Keratan sulfate synthesis                    18\n",
       "Nucleotide interconversion                   13\n",
       "Inositol phosphate metabolism                 9\n",
       "Pyruvate metabolism                           8\n",
       "Vitamin A metabolism                          4\n",
       "Glyoxylate and dicarboxylate metabolism       4\n",
       "Glycerophospholipid metabolism                4\n",
       "Chondroitin synthesis                         4\n",
       "Pyrimidine catabolism                         3\n",
       "Lysine metabolism                             3\n",
       "Histidine metabolism                          2\n",
       "Fructose and mannose metabolism               2\n",
       "Glutathione metabolism                        2\n",
       "Tyrosine metabolism                           2\n",
       "Propanoate metabolism                         2\n",
       "Fatty acid oxidation                          2\n",
       "beta-Alanine metabolism                       2\n",
       "Oxidative phosphorylation                     2\n",
       "Triacylglycerol synthesis                     2\n",
       "Aminosugar metabolism                         1\n",
       "Transport, lysosomal                          1\n",
       "Miscellaneous                                 1\n",
       "Methionine and cysteine metabolism            1\n",
       "Arginine and Proline Metabolism               1\n",
       "Transport, extracellular                      1\n",
       "NAD metabolism                                1\n",
       "Purine catabolism                             1\n",
       "Butanoate metabolism                          1\n",
       "Phosphatidylinositol phosphate metabolism     1\n",
       "Limonene and pinene degradation               1\n",
       "Vitamin C metabolism                          1\n",
       "Name: subsystem, dtype: int64"
      ]
     },
     "execution_count": 27,
     "metadata": {},
     "output_type": "execute_result"
    }
   ],
   "source": [
    "reaction_metadata[reaction_metadata.apply(lambda x: len(x['genes_associated_with_rxn'].split('; ')) >= 5, axis=1)]['subsystem'].value_counts()"
   ]
  },
  {
   "cell_type": "code",
   "execution_count": 18,
   "id": "c5f58c49",
   "metadata": {},
   "outputs": [
    {
     "data": {
      "text/plain": [
       "[('Fatty acid oxidation', 149),\n",
       " ('Nucleotide interconversion', 130),\n",
       " ('Keratan sulfate degradation', 59),\n",
       " ('Tyrosine metabolism', 46),\n",
       " ('Sphingolipid metabolism', 46),\n",
       " ('Keratan sulfate synthesis', 41),\n",
       " ('Steroid metabolism', 39),\n",
       " ('Chondroitin synthesis', 36),\n",
       " ('Tryptophan metabolism', 33),\n",
       " ('Glycerophospholipid metabolism', 32),\n",
       " ('Inositol phosphate metabolism', 32),\n",
       " ('Folate metabolism', 30),\n",
       " ('Valine, leucine, and isoleucine metabolism', 28),\n",
       " ('Cholesterol metabolism', 26),\n",
       " ('Chondroitin sulfate degradation', 26),\n",
       " ('Arginine and Proline Metabolism', 25),\n",
       " ('Bile acid synthesis', 25),\n",
       " ('Fatty acid synthesis', 23),\n",
       " ('Glycine, serine, alanine and threonine metabolism', 22),\n",
       " ('Pyrimidine catabolism', 21),\n",
       " ('Blood group synthesis', 20),\n",
       " ('Aminosugar metabolism', 19),\n",
       " ('Pyruvate metabolism', 19),\n",
       " ('Heparan sulfate degradation', 18),\n",
       " ('Purine catabolism', 17),\n",
       " ('Urea cycle', 17),\n",
       " ('Eicosanoid metabolism', 17),\n",
       " ('Methionine and cysteine metabolism', 15),\n",
       " ('Lysine metabolism', 14),\n",
       " ('Pentose phosphate pathway', 14),\n",
       " ('Starch and sucrose metabolism', 14),\n",
       " ('NAD metabolism', 13),\n",
       " ('beta-Alanine metabolism', 10),\n",
       " ('Glutamate metabolism', 10),\n",
       " ('Triacylglycerol synthesis', 10),\n",
       " ('Vitamin A metabolism', 10),\n",
       " ('Glyoxylate and dicarboxylate metabolism', 10),\n",
       " ('Selenoamino acid metabolism', 9),\n",
       " ('Alanine and aspartate metabolism', 9),\n",
       " ('Histidine metabolism', 9),\n",
       " ('Glutathione metabolism', 8),\n",
       " ('Tetrahydrobiopterin metabolism', 8),\n",
       " ('Propanoate metabolism', 7),\n",
       " ('Glycolysis/gluconeogenesis', 6),\n",
       " ('Pyrimidine synthesis', 6),\n",
       " ('Biotin metabolism', 6),\n",
       " ('Limonene and pinene degradation', 6),\n",
       " ('ROS detoxification', 6),\n",
       " ('Heme synthesis', 6),\n",
       " ('Galactose metabolism', 6),\n",
       " ('Phenylalanine metabolism', 6),\n",
       " ('Purine synthesis', 5),\n",
       " ('Miscellaneous', 5),\n",
       " ('Transport, extracellular', 5),\n",
       " ('Fructose and mannose metabolism', 5),\n",
       " ('Hyaluronan metabolism', 5),\n",
       " ('N-glycan degradation', 4),\n",
       " ('Oxidative phosphorylation', 4),\n",
       " ('C5-branched dibasic acid metabolism', 4),\n",
       " ('Butanoate metabolism', 3),\n",
       " ('Taurine and hypotaurine metabolism', 3),\n",
       " ('Cytochrome metabolism', 3),\n",
       " ('Vitamin B2 metabolism', 3),\n",
       " ('Nucleotide salvage pathway', 3),\n",
       " ('Vitamin C metabolism', 3),\n",
       " ('Vitamin B6 metabolism', 3),\n",
       " ('Phosphatidylinositol phosphate metabolism', 2),\n",
       " ('Alkaloid synthesis', 2),\n",
       " ('Transport, mitochondrial', 2),\n",
       " ('CoA synthesis', 2),\n",
       " ('Nucleotide sugar metabolism', 2),\n",
       " ('Transport, lysosomal', 1),\n",
       " ('Vitamin B12 metabolism', 1),\n",
       " ('D-alanine metabolism', 1),\n",
       " ('Ubiquinone synthesis', 1),\n",
       " ('N-glycan synthesis', 1),\n",
       " ('Citric acid cycle', 1),\n",
       " ('CoA catabolism', 1),\n",
       " ('O-glycan synthesis', 1),\n",
       " ('Stilbene, coumarine and lignin synthesis', 1),\n",
       " ('Thiamine metabolism', 1)]"
      ]
     },
     "execution_count": 18,
     "metadata": {},
     "output_type": "execute_result"
    }
   ],
   "source": [
    "Counter([reaction_to_genes[key][1] for key in reaction_to_genes]).most_common()\n"
   ]
  },
  {
   "cell_type": "code",
   "execution_count": 68,
   "id": "57ba69dc",
   "metadata": {},
   "outputs": [],
   "source": [
    "from collections import Counter\n",
    "subsystem_to_genes = {}\n",
    "for key in reaction_metadata['subsystem'].value_counts().keys():\n",
    "    reaction_metadata[reaction_metadata['subsystem']==key]['genes_associated_with_rxn']\n",
    "    gene_list = []\n",
    "    for item in reaction_metadata[reaction_metadata['subsystem']==key]['genes_associated_with_rxn'].values:\n",
    "        gene_list.extend(item.split('; '))\n",
    "    subsystem_to_genes[key] = Counter(gene_list).most_common()"
   ]
  },
  {
   "cell_type": "code",
   "execution_count": 72,
   "id": "f461caca",
   "metadata": {},
   "outputs": [
    {
     "data": {
      "text/plain": [
       "dict_keys(['Fatty acid oxidation', 'Nucleotide interconversion', 'Keratan sulfate degradation', 'Sphingolipid metabolism', 'Tyrosine metabolism', 'Keratan sulfate synthesis', 'Steroid metabolism', 'Chondroitin synthesis', 'Tryptophan metabolism', 'Glycerophospholipid metabolism', 'Inositol phosphate metabolism', 'Folate metabolism', 'Valine, leucine, and isoleucine metabolism', 'Chondroitin sulfate degradation', 'Cholesterol metabolism', 'Arginine and Proline Metabolism', 'Bile acid synthesis', 'Fatty acid synthesis', 'Glycine, serine, alanine and threonine metabolism', 'Pyrimidine catabolism', 'Blood group synthesis', 'Pyruvate metabolism', 'Aminosugar metabolism', 'Heparan sulfate degradation', 'Urea cycle', 'Purine catabolism', 'Eicosanoid metabolism', 'Methionine and cysteine metabolism', 'Lysine metabolism', 'Starch and sucrose metabolism', 'Pentose phosphate pathway', 'NAD metabolism', 'Vitamin A metabolism', 'beta-Alanine metabolism', 'Triacylglycerol synthesis', 'Glyoxylate and dicarboxylate metabolism', 'Glutamate metabolism', 'Alanine and aspartate metabolism', 'Histidine metabolism', 'Selenoamino acid metabolism', 'Tetrahydrobiopterin metabolism', 'Glutathione metabolism', 'Propanoate metabolism', 'Biotin metabolism', 'Limonene and pinene degradation', 'Phenylalanine metabolism', 'ROS detoxification', 'Glycolysis/gluconeogenesis', 'Pyrimidine synthesis', 'Heme synthesis', 'Galactose metabolism', 'Purine synthesis', 'Transport, extracellular', 'Miscellaneous', 'Hyaluronan metabolism', 'Fructose and mannose metabolism', 'C5-branched dibasic acid metabolism', 'Oxidative phosphorylation', 'N-glycan degradation', 'Nucleotide salvage pathway', 'Vitamin B2 metabolism', 'Butanoate metabolism', 'Vitamin C metabolism', 'Cytochrome metabolism', 'Vitamin B6 metabolism', 'Taurine and hypotaurine metabolism', 'Phosphatidylinositol phosphate metabolism', 'Transport, mitochondrial', 'Nucleotide sugar metabolism', 'Alkaloid synthesis', 'CoA synthesis', 'Stilbene, coumarine and lignin synthesis', 'O-glycan synthesis', 'Ubiquinone synthesis', 'CoA catabolism', 'Citric acid cycle', 'Transport, lysosomal', 'Vitamin B12 metabolism', 'N-glycan synthesis', 'D-alanine metabolism', 'Thiamine metabolism'])"
      ]
     },
     "execution_count": 72,
     "metadata": {},
     "output_type": "execute_result"
    }
   ],
   "source": [
    "subsystem_to_genes.keys()"
   ]
  },
  {
   "cell_type": "code",
   "execution_count": 70,
   "id": "d5e82b22",
   "metadata": {},
   "outputs": [
    {
     "data": {
      "text/plain": [
       "[('CPT1A', 34),\n",
       " ('CPT1B', 33),\n",
       " ('CPT1C', 33),\n",
       " ('ACSL1', 28),\n",
       " ('ACADM', 28),\n",
       " ('ACADS', 26),\n",
       " ('ACAA1B', 23),\n",
       " ('ACOX1', 18),\n",
       " ('EHHADH', 17),\n",
       " ('HSD17B4', 17),\n",
       " ('ACSL3', 10),\n",
       " ('OLAH', 8),\n",
       " ('CRAT', 7),\n",
       " ('ACSL4', 7),\n",
       " ('ACSBG2', 5),\n",
       " ('CPT2', 4),\n",
       " ('FASN', 3),\n",
       " ('ACSL5', 3),\n",
       " ('SLC27A2', 2),\n",
       " ('LIPC', 2),\n",
       " ('ACACB', 1),\n",
       " ('CROT', 1),\n",
       " ('ECI1', 1),\n",
       " ('ECI3', 1),\n",
       " ('ETFDH', 1),\n",
       " ('ACSL6', 1),\n",
       " ('ACSM1', 1),\n",
       " ('ALDH1L1', 1),\n",
       " ('LCAT', 1),\n",
       " ('MLYCD', 1),\n",
       " ('MCAT', 1),\n",
       " ('PHYH', 1)]"
      ]
     },
     "execution_count": 70,
     "metadata": {},
     "output_type": "execute_result"
    }
   ],
   "source": [
    "subsystem_to_genes['Fatty acid oxidation']"
   ]
  },
  {
   "cell_type": "code",
   "execution_count": 73,
   "id": "dbf320ac",
   "metadata": {},
   "outputs": [],
   "source": [
    "term_to_genes = {key: [item[0] for item in subsystem_to_genes[key]] for key in subsystem_to_genes}"
   ]
  },
  {
   "cell_type": "code",
   "execution_count": 75,
   "id": "4bed05a1",
   "metadata": {},
   "outputs": [
    {
     "data": {
      "text/plain": [
       "['gene_signatures/metabolism_rxn_subsystem.pickle']"
      ]
     },
     "execution_count": 75,
     "metadata": {},
     "output_type": "execute_result"
    }
   ],
   "source": [
    "import joblib\n",
    "joblib.dump(subsystem_to_genes, 'gene_signatures/metabolism_rxn_subsystem.pickle')"
   ]
  },
  {
   "cell_type": "code",
   "execution_count": null,
   "id": "c74b75c6",
   "metadata": {},
   "outputs": [],
   "source": []
  }
 ],
 "metadata": {
  "kernelspec": {
   "display_name": "sc38",
   "language": "python",
   "name": "sc38"
  },
  "language_info": {
   "codemirror_mode": {
    "name": "ipython",
    "version": 3
   },
   "file_extension": ".py",
   "mimetype": "text/x-python",
   "name": "python",
   "nbconvert_exporter": "python",
   "pygments_lexer": "ipython3",
   "version": "3.8.13"
  }
 },
 "nbformat": 4,
 "nbformat_minor": 5
}
