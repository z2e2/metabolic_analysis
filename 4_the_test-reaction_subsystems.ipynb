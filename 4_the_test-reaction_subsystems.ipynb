{
 "cells": [
  {
   "cell_type": "code",
   "execution_count": 1,
   "id": "aad87980",
   "metadata": {},
   "outputs": [],
   "source": [
    "import pandas as pd\n",
    "\n",
    "file_name = 'data/1-s2.0-S1097276521002665-mmc6.xlsx'\n",
    "different_genes_xls = pd.ExcelFile(file_name)"
   ]
  },
  {
   "cell_type": "code",
   "execution_count": 2,
   "id": "24c2ef9d",
   "metadata": {},
   "outputs": [],
   "source": [
    "xls_sheets = [sheets for sheets in different_genes_xls.sheet_names if sheets[:2] == '5B']"
   ]
  },
  {
   "cell_type": "code",
   "execution_count": 8,
   "id": "7eb460c3",
   "metadata": {},
   "outputs": [],
   "source": [
    "import joblib \n",
    "out_file_path = './'\n",
    "gene_signature_dir = out_file_path + 'gene_signatures/'\n",
    "out_filename = gene_signature_dir + 'metabolism_rxn_subsystem.pickle'\n",
    "subsystem_to_genes = joblib.load(out_filename)\n",
    "metabolism_sig = {key: [item[0] for item in subsystem_to_genes[key]] for key in subsystem_to_genes}\n"
   ]
  },
  {
   "cell_type": "markdown",
   "id": "05d9aa2b",
   "metadata": {},
   "source": [
    "# Jaccard Index"
   ]
  },
  {
   "cell_type": "code",
   "execution_count": 9,
   "id": "7967f7c8",
   "metadata": {},
   "outputs": [
    {
     "name": "stdout",
     "output_type": "stream",
     "text": [
      "5BB_diffexpr-nonnaive-cluster2 Chondroitin synthesis 0.014084507042253521\n",
      "5BD_diffexpr-nonnaive-cluster4 Nucleotide interconversion 0.01858736059479554\n",
      "5BD_diffexpr-nonnaive-cluster4 Folate metabolism 0.0056179775280898875\n",
      "5BD_diffexpr-nonnaive-cluster4 Glycine, serine, alanine and threonine metabolism 0.005263157894736842\n",
      "5BD_diffexpr-nonnaive-cluster4 Pyruvate metabolism 0.005025125628140704\n",
      "5BD_diffexpr-nonnaive-cluster4 Eicosanoid metabolism 0.005376344086021506\n",
      "5BD_diffexpr-nonnaive-cluster4 Methionine and cysteine metabolism 0.0053475935828877\n",
      "5BD_diffexpr-nonnaive-cluster4 Glyoxylate and dicarboxylate metabolism 0.00510204081632653\n",
      "5BD_diffexpr-nonnaive-cluster4 Propanoate metabolism 0.005434782608695652\n",
      "5BF_diffexpr-nonnaive-cluster6 Nucleotide interconversion 0.007518796992481203\n",
      "5BG_diffexpr-nonnaive-cluster8 Nucleotide interconversion 0.011764705882352941\n",
      "5BH_diffexpr-nonnaive-cluster9 Inositol phosphate metabolism 0.0078125\n",
      "5BH_diffexpr-nonnaive-cluster9 Pyruvate metabolism 0.01\n",
      "5BH_diffexpr-nonnaive-cluster9 Eicosanoid metabolism 0.011494252873563218\n",
      "5BH_diffexpr-nonnaive-cluster9 Methionine and cysteine metabolism 0.011363636363636364\n",
      "5BH_diffexpr-nonnaive-cluster9 Glyoxylate and dicarboxylate metabolism 0.010309278350515464\n",
      "5BH_diffexpr-nonnaive-cluster9 Propanoate metabolism 0.011764705882352941\n",
      "5BL_diffexpr-nonnaive-cluster13 Chondroitin synthesis 0.014705882352941176\n",
      "5BL_diffexpr-nonnaive-cluster13 Transport, extracellular 0.017857142857142856\n",
      "5BM_diffexpr-nonnaive-cluster14 Nucleotide interconversion 0.008695652173913044\n",
      "5BQ_diffexpr-nonnaive-cluster18 Tetrahydrobiopterin metabolism 0.008695652173913044\n",
      "5BR_diffexpr-nonnaive-cluster20 Nucleotide interconversion 0.02247191011235955\n",
      "5BR_diffexpr-nonnaive-cluster20 Folate metabolism 0.011494252873563218\n",
      "5BR_diffexpr-nonnaive-cluster20 Pyrimidine catabolism 0.010101010101010102\n"
     ]
    }
   ],
   "source": [
    "for sheet_name in xls_sheets:\n",
    "    df = pd.read_excel(file_name, sheet_name=sheet_name)\n",
    "    diff_gene_set = set([item.upper() for item in df[df['log2FC']>1]['index'].tolist()])\n",
    "    for pathway_key in metabolism_sig:\n",
    "        pct_overlap = len(diff_gene_set.intersection(metabolism_sig[pathway_key]))/(len(diff_gene_set)+len(metabolism_sig[pathway_key]))\n",
    "        if pct_overlap > 0:\n",
    "            print(sheet_name, pathway_key, pct_overlap)"
   ]
  },
  {
   "cell_type": "code",
   "execution_count": 11,
   "id": "d1b230ae",
   "metadata": {},
   "outputs": [],
   "source": [
    "from utils import hypergeometric_test, adjust_p_value_fdr\n",
    "\n",
    "M = 9822\n",
    "res = {'cluster_name': [], 'pathway_name': [], 'p-value': []}\n",
    "for sheet_name in xls_sheets:\n",
    "    df = pd.read_excel(file_name, sheet_name=sheet_name)\n",
    "    diff_gene_set = set([item.upper() for item in df[df['log2FC']>1]['index'].tolist()])\n",
    "    for pathway_key in metabolism_sig:\n",
    "        n = len(metabolism_sig[pathway_key])\n",
    "        N = len(diff_gene_set)\n",
    "        x = len(diff_gene_set.intersection(metabolism_sig[pathway_key]))\n",
    "        pct_overlap = x/(N+n)\n",
    "        \n",
    "        if pct_overlap > 0:\n",
    "            p_val = hypergeometric_test(total_genes_expressed=M, n_genes_of_interest=n, \n",
    "                                        n_genes_picked=N, n_overlap=x)\n",
    "            res['cluster_name'].append(sheet_name)\n",
    "            res['pathway_name'].append(pathway_key)\n",
    "            res['p-value'].append(p_val)\n",
    "        else:\n",
    "            res['cluster_name'].append(sheet_name)\n",
    "            res['pathway_name'].append(pathway_key)\n",
    "            res['p-value'].append(1)"
   ]
  },
  {
   "cell_type": "code",
   "execution_count": 12,
   "id": "1d59392b",
   "metadata": {},
   "outputs": [],
   "source": [
    "df = pd.DataFrame.from_dict(res)"
   ]
  },
  {
   "cell_type": "code",
   "execution_count": 13,
   "id": "f021b649",
   "metadata": {},
   "outputs": [],
   "source": [
    "p_adj = adjust_p_value_fdr(df['p-value'])"
   ]
  },
  {
   "cell_type": "code",
   "execution_count": 14,
   "id": "b5a4e0a9",
   "metadata": {},
   "outputs": [],
   "source": [
    "df['p-adj'] = p_adj"
   ]
  },
  {
   "cell_type": "code",
   "execution_count": 15,
   "id": "f03da4cd",
   "metadata": {},
   "outputs": [
    {
     "data": {
      "text/html": [
       "<div>\n",
       "<style scoped>\n",
       "    .dataframe tbody tr th:only-of-type {\n",
       "        vertical-align: middle;\n",
       "    }\n",
       "\n",
       "    .dataframe tbody tr th {\n",
       "        vertical-align: top;\n",
       "    }\n",
       "\n",
       "    .dataframe thead th {\n",
       "        text-align: right;\n",
       "    }\n",
       "</style>\n",
       "<table border=\"1\" class=\"dataframe\">\n",
       "  <thead>\n",
       "    <tr style=\"text-align: right;\">\n",
       "      <th></th>\n",
       "      <th>cluster_name</th>\n",
       "      <th>pathway_name</th>\n",
       "      <th>p-value</th>\n",
       "      <th>p-adj</th>\n",
       "    </tr>\n",
       "  </thead>\n",
       "  <tbody>\n",
       "    <tr>\n",
       "      <th>1378</th>\n",
       "      <td>5BR_diffexpr-nonnaive-cluster20</td>\n",
       "      <td>Nucleotide interconversion</td>\n",
       "      <td>0.007942</td>\n",
       "      <td>0.025571</td>\n",
       "    </tr>\n",
       "  </tbody>\n",
       "</table>\n",
       "</div>"
      ],
      "text/plain": [
       "                         cluster_name                pathway_name   p-value  \\\n",
       "1378  5BR_diffexpr-nonnaive-cluster20  Nucleotide interconversion  0.007942   \n",
       "\n",
       "         p-adj  \n",
       "1378  0.025571  "
      ]
     },
     "execution_count": 15,
     "metadata": {},
     "output_type": "execute_result"
    }
   ],
   "source": [
    "df[df['p-adj']<0.05]"
   ]
  },
  {
   "cell_type": "code",
   "execution_count": 16,
   "id": "0fe33d39",
   "metadata": {},
   "outputs": [
    {
     "data": {
      "text/html": [
       "<div>\n",
       "<style scoped>\n",
       "    .dataframe tbody tr th:only-of-type {\n",
       "        vertical-align: middle;\n",
       "    }\n",
       "\n",
       "    .dataframe tbody tr th {\n",
       "        vertical-align: top;\n",
       "    }\n",
       "\n",
       "    .dataframe thead th {\n",
       "        text-align: right;\n",
       "    }\n",
       "</style>\n",
       "<table border=\"1\" class=\"dataframe\">\n",
       "  <thead>\n",
       "    <tr style=\"text-align: right;\">\n",
       "      <th></th>\n",
       "      <th>cluster_name</th>\n",
       "      <th>pathway_name</th>\n",
       "      <th>p-value</th>\n",
       "      <th>p-adj</th>\n",
       "    </tr>\n",
       "  </thead>\n",
       "  <tbody>\n",
       "    <tr>\n",
       "      <th>0</th>\n",
       "      <td>5BA_diffexpr-nonnaive-cluster1</td>\n",
       "      <td>Fatty acid oxidation</td>\n",
       "      <td>1.0</td>\n",
       "      <td>1.0</td>\n",
       "    </tr>\n",
       "    <tr>\n",
       "      <th>1</th>\n",
       "      <td>5BA_diffexpr-nonnaive-cluster1</td>\n",
       "      <td>Nucleotide interconversion</td>\n",
       "      <td>1.0</td>\n",
       "      <td>1.0</td>\n",
       "    </tr>\n",
       "    <tr>\n",
       "      <th>2</th>\n",
       "      <td>5BA_diffexpr-nonnaive-cluster1</td>\n",
       "      <td>Keratan sulfate degradation</td>\n",
       "      <td>1.0</td>\n",
       "      <td>1.0</td>\n",
       "    </tr>\n",
       "    <tr>\n",
       "      <th>3</th>\n",
       "      <td>5BA_diffexpr-nonnaive-cluster1</td>\n",
       "      <td>Sphingolipid metabolism</td>\n",
       "      <td>1.0</td>\n",
       "      <td>1.0</td>\n",
       "    </tr>\n",
       "    <tr>\n",
       "      <th>4</th>\n",
       "      <td>5BA_diffexpr-nonnaive-cluster1</td>\n",
       "      <td>Tyrosine metabolism</td>\n",
       "      <td>1.0</td>\n",
       "      <td>1.0</td>\n",
       "    </tr>\n",
       "    <tr>\n",
       "      <th>...</th>\n",
       "      <td>...</td>\n",
       "      <td>...</td>\n",
       "      <td>...</td>\n",
       "      <td>...</td>\n",
       "    </tr>\n",
       "    <tr>\n",
       "      <th>1534</th>\n",
       "      <td>5BS_diffexpr-nonnaive-cluster21</td>\n",
       "      <td>Transport, lysosomal</td>\n",
       "      <td>1.0</td>\n",
       "      <td>1.0</td>\n",
       "    </tr>\n",
       "    <tr>\n",
       "      <th>1535</th>\n",
       "      <td>5BS_diffexpr-nonnaive-cluster21</td>\n",
       "      <td>Vitamin B12 metabolism</td>\n",
       "      <td>1.0</td>\n",
       "      <td>1.0</td>\n",
       "    </tr>\n",
       "    <tr>\n",
       "      <th>1536</th>\n",
       "      <td>5BS_diffexpr-nonnaive-cluster21</td>\n",
       "      <td>N-glycan synthesis</td>\n",
       "      <td>1.0</td>\n",
       "      <td>1.0</td>\n",
       "    </tr>\n",
       "    <tr>\n",
       "      <th>1537</th>\n",
       "      <td>5BS_diffexpr-nonnaive-cluster21</td>\n",
       "      <td>D-alanine metabolism</td>\n",
       "      <td>1.0</td>\n",
       "      <td>1.0</td>\n",
       "    </tr>\n",
       "    <tr>\n",
       "      <th>1538</th>\n",
       "      <td>5BS_diffexpr-nonnaive-cluster21</td>\n",
       "      <td>Thiamine metabolism</td>\n",
       "      <td>1.0</td>\n",
       "      <td>1.0</td>\n",
       "    </tr>\n",
       "  </tbody>\n",
       "</table>\n",
       "<p>1539 rows × 4 columns</p>\n",
       "</div>"
      ],
      "text/plain": [
       "                         cluster_name                 pathway_name  p-value  \\\n",
       "0      5BA_diffexpr-nonnaive-cluster1         Fatty acid oxidation      1.0   \n",
       "1      5BA_diffexpr-nonnaive-cluster1   Nucleotide interconversion      1.0   \n",
       "2      5BA_diffexpr-nonnaive-cluster1  Keratan sulfate degradation      1.0   \n",
       "3      5BA_diffexpr-nonnaive-cluster1      Sphingolipid metabolism      1.0   \n",
       "4      5BA_diffexpr-nonnaive-cluster1          Tyrosine metabolism      1.0   \n",
       "...                               ...                          ...      ...   \n",
       "1534  5BS_diffexpr-nonnaive-cluster21         Transport, lysosomal      1.0   \n",
       "1535  5BS_diffexpr-nonnaive-cluster21       Vitamin B12 metabolism      1.0   \n",
       "1536  5BS_diffexpr-nonnaive-cluster21           N-glycan synthesis      1.0   \n",
       "1537  5BS_diffexpr-nonnaive-cluster21         D-alanine metabolism      1.0   \n",
       "1538  5BS_diffexpr-nonnaive-cluster21          Thiamine metabolism      1.0   \n",
       "\n",
       "      p-adj  \n",
       "0       1.0  \n",
       "1       1.0  \n",
       "2       1.0  \n",
       "3       1.0  \n",
       "4       1.0  \n",
       "...     ...  \n",
       "1534    1.0  \n",
       "1535    1.0  \n",
       "1536    1.0  \n",
       "1537    1.0  \n",
       "1538    1.0  \n",
       "\n",
       "[1539 rows x 4 columns]"
      ]
     },
     "execution_count": 16,
     "metadata": {},
     "output_type": "execute_result"
    }
   ],
   "source": [
    "df"
   ]
  },
  {
   "cell_type": "code",
   "execution_count": null,
   "id": "74194b85",
   "metadata": {},
   "outputs": [],
   "source": []
  }
 ],
 "metadata": {
  "kernelspec": {
   "display_name": "Python 3 (ipykernel)",
   "language": "python",
   "name": "python3"
  },
  "language_info": {
   "codemirror_mode": {
    "name": "ipython",
    "version": 3
   },
   "file_extension": ".py",
   "mimetype": "text/x-python",
   "name": "python",
   "nbconvert_exporter": "python",
   "pygments_lexer": "ipython3",
   "version": "3.9.7"
  }
 },
 "nbformat": 4,
 "nbformat_minor": 5
}
