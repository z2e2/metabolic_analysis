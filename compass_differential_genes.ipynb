{
 "cells": [
  {
   "cell_type": "code",
   "execution_count": 30,
   "id": "19450a68",
   "metadata": {
    "scrolled": true
   },
   "outputs": [],
   "source": [
    "library( \"DESeq2\" )\n",
    "library('tximport')\n",
    "library('stringr')"
   ]
  },
  {
   "cell_type": "code",
   "execution_count": 6,
   "id": "d64f8b0d",
   "metadata": {},
   "outputs": [],
   "source": [
    "out_file_path <- './'\n",
    "data_dir <- paste(out_file_path,'data/th_data/', sep = '')\n",
    "compass_data_dir <- paste(data_dir,'GSE162300_DFMO_RNA_est_counts.csv', sep = '')"
   ]
  },
  {
   "cell_type": "markdown",
   "id": "d12b7190",
   "metadata": {},
   "source": [
    "**read in bulk RNA data**"
   ]
  },
  {
   "cell_type": "code",
   "execution_count": 16,
   "id": "2f2c4818",
   "metadata": {},
   "outputs": [
    {
     "data": {
      "text/html": [
       "<table class=\"dataframe\">\n",
       "<caption>A data.frame: 6 × 36</caption>\n",
       "<thead>\n",
       "\t<tr><th></th><th scope=col>Th17p_Vehicle_WT1_run1</th><th scope=col>Th17p_Vehicle_WT1_run2</th><th scope=col>Th17n_Vehicle_WT1_run1</th><th scope=col>Th17n_Vehicle_WT1_run2</th><th scope=col>iTreg_Vehicle_WT1_run1</th><th scope=col>iTreg_Vehicle_WT1_run2</th><th scope=col>Th17p_DFMO_WT1_run1</th><th scope=col>Th17p_DFMO_WT1_run2</th><th scope=col>Th17n_DFMO_WT1_run1</th><th scope=col>Th17n_DFMO_WT1_run2</th><th scope=col>⋯</th><th scope=col>Th17n_Vehicle_WT3_run1</th><th scope=col>Th17n_Vehicle_WT3_run2</th><th scope=col>iTreg_Vehicle_WT3_run1</th><th scope=col>iTreg_Vehicle_WT3_run2</th><th scope=col>Th17p_DFMO_WT3_run1</th><th scope=col>Th17p_DFMO_WT3_run2</th><th scope=col>Th17n_DFMO_WT3_run1</th><th scope=col>Th17n_DFMO_WT3_run2</th><th scope=col>iTreg_DFMO_WT3_run1</th><th scope=col>iTreg_DFMO_WT3_run2</th></tr>\n",
       "\t<tr><th></th><th scope=col>&lt;dbl&gt;</th><th scope=col>&lt;dbl&gt;</th><th scope=col>&lt;dbl&gt;</th><th scope=col>&lt;dbl&gt;</th><th scope=col>&lt;dbl&gt;</th><th scope=col>&lt;dbl&gt;</th><th scope=col>&lt;dbl&gt;</th><th scope=col>&lt;dbl&gt;</th><th scope=col>&lt;dbl&gt;</th><th scope=col>&lt;dbl&gt;</th><th scope=col>⋯</th><th scope=col>&lt;dbl&gt;</th><th scope=col>&lt;dbl&gt;</th><th scope=col>&lt;dbl&gt;</th><th scope=col>&lt;dbl&gt;</th><th scope=col>&lt;dbl&gt;</th><th scope=col>&lt;dbl&gt;</th><th scope=col>&lt;dbl&gt;</th><th scope=col>&lt;dbl&gt;</th><th scope=col>&lt;dbl&gt;</th><th scope=col>&lt;dbl&gt;</th></tr>\n",
       "</thead>\n",
       "<tbody>\n",
       "\t<tr><th scope=row>0610007P14RIK</th><td>787</td><td>870</td><td>708</td><td>845</td><td>570.0</td><td>624</td><td>786</td><td>846</td><td>864</td><td>978</td><td>⋯</td><td>1183</td><td>1332</td><td>794</td><td>853.00</td><td>928</td><td>1045.00</td><td>1120</td><td>1163.00</td><td>710.00</td><td>723</td></tr>\n",
       "\t<tr><th scope=row>0610009B22RIK</th><td> 93</td><td> 98</td><td> 66</td><td> 70</td><td> 87.9</td><td>100</td><td>123</td><td>128</td><td>106</td><td>104</td><td>⋯</td><td>  94</td><td>  76</td><td>109</td><td>145.00</td><td>121</td><td> 131.00</td><td> 131</td><td> 137.78</td><td>137.00</td><td>148</td></tr>\n",
       "\t<tr><th scope=row>0610009L18RIK</th><td>  2</td><td>  2</td><td>  2</td><td>  1</td><td>  3.0</td><td>  4</td><td>  4</td><td>  5</td><td>  3</td><td>  2</td><td>⋯</td><td>   6</td><td>   3</td><td>  0</td><td>  0.00</td><td>  5</td><td>  11.00</td><td>   3</td><td>   4.00</td><td>  4.00</td><td>  5</td></tr>\n",
       "\t<tr><th scope=row>0610009O20RIK</th><td>177</td><td>206</td><td>148</td><td>170</td><td>194.0</td><td>159</td><td>168</td><td>172</td><td>161</td><td>158</td><td>⋯</td><td> 249</td><td> 284</td><td>202</td><td>254.98</td><td>216</td><td> 228.98</td><td> 212</td><td> 226.00</td><td>258.97</td><td>246</td></tr>\n",
       "\t<tr><th scope=row>0610010F05RIK</th><td> 24</td><td> 23</td><td> 23</td><td> 25</td><td> 41.0</td><td> 43</td><td> 32</td><td> 22</td><td> 32</td><td> 31</td><td>⋯</td><td>  46</td><td>  39</td><td> 30</td><td> 40.00</td><td> 44</td><td>  55.00</td><td>  24</td><td>  31.00</td><td> 20.00</td><td> 14</td></tr>\n",
       "\t<tr><th scope=row>0610010K14RIK</th><td>182</td><td>254</td><td>211</td><td>256</td><td>193.0</td><td>239</td><td>231</td><td>254</td><td>264</td><td>313</td><td>⋯</td><td> 243</td><td> 288</td><td>297</td><td>310.00</td><td>317</td><td> 294.00</td><td> 283</td><td> 332.00</td><td>416.00</td><td>453</td></tr>\n",
       "</tbody>\n",
       "</table>\n"
      ],
      "text/latex": [
       "A data.frame: 6 × 36\n",
       "\\begin{tabular}{r|lllllllllllllllllllll}\n",
       "  & Th17p\\_Vehicle\\_WT1\\_run1 & Th17p\\_Vehicle\\_WT1\\_run2 & Th17n\\_Vehicle\\_WT1\\_run1 & Th17n\\_Vehicle\\_WT1\\_run2 & iTreg\\_Vehicle\\_WT1\\_run1 & iTreg\\_Vehicle\\_WT1\\_run2 & Th17p\\_DFMO\\_WT1\\_run1 & Th17p\\_DFMO\\_WT1\\_run2 & Th17n\\_DFMO\\_WT1\\_run1 & Th17n\\_DFMO\\_WT1\\_run2 & ⋯ & Th17n\\_Vehicle\\_WT3\\_run1 & Th17n\\_Vehicle\\_WT3\\_run2 & iTreg\\_Vehicle\\_WT3\\_run1 & iTreg\\_Vehicle\\_WT3\\_run2 & Th17p\\_DFMO\\_WT3\\_run1 & Th17p\\_DFMO\\_WT3\\_run2 & Th17n\\_DFMO\\_WT3\\_run1 & Th17n\\_DFMO\\_WT3\\_run2 & iTreg\\_DFMO\\_WT3\\_run1 & iTreg\\_DFMO\\_WT3\\_run2\\\\\n",
       "  & <dbl> & <dbl> & <dbl> & <dbl> & <dbl> & <dbl> & <dbl> & <dbl> & <dbl> & <dbl> & ⋯ & <dbl> & <dbl> & <dbl> & <dbl> & <dbl> & <dbl> & <dbl> & <dbl> & <dbl> & <dbl>\\\\\n",
       "\\hline\n",
       "\t0610007P14RIK & 787 & 870 & 708 & 845 & 570.0 & 624 & 786 & 846 & 864 & 978 & ⋯ & 1183 & 1332 & 794 & 853.00 & 928 & 1045.00 & 1120 & 1163.00 & 710.00 & 723\\\\\n",
       "\t0610009B22RIK &  93 &  98 &  66 &  70 &  87.9 & 100 & 123 & 128 & 106 & 104 & ⋯ &   94 &   76 & 109 & 145.00 & 121 &  131.00 &  131 &  137.78 & 137.00 & 148\\\\\n",
       "\t0610009L18RIK &   2 &   2 &   2 &   1 &   3.0 &   4 &   4 &   5 &   3 &   2 & ⋯ &    6 &    3 &   0 &   0.00 &   5 &   11.00 &    3 &    4.00 &   4.00 &   5\\\\\n",
       "\t0610009O20RIK & 177 & 206 & 148 & 170 & 194.0 & 159 & 168 & 172 & 161 & 158 & ⋯ &  249 &  284 & 202 & 254.98 & 216 &  228.98 &  212 &  226.00 & 258.97 & 246\\\\\n",
       "\t0610010F05RIK &  24 &  23 &  23 &  25 &  41.0 &  43 &  32 &  22 &  32 &  31 & ⋯ &   46 &   39 &  30 &  40.00 &  44 &   55.00 &   24 &   31.00 &  20.00 &  14\\\\\n",
       "\t0610010K14RIK & 182 & 254 & 211 & 256 & 193.0 & 239 & 231 & 254 & 264 & 313 & ⋯ &  243 &  288 & 297 & 310.00 & 317 &  294.00 &  283 &  332.00 & 416.00 & 453\\\\\n",
       "\\end{tabular}\n"
      ],
      "text/markdown": [
       "\n",
       "A data.frame: 6 × 36\n",
       "\n",
       "| <!--/--> | Th17p_Vehicle_WT1_run1 &lt;dbl&gt; | Th17p_Vehicle_WT1_run2 &lt;dbl&gt; | Th17n_Vehicle_WT1_run1 &lt;dbl&gt; | Th17n_Vehicle_WT1_run2 &lt;dbl&gt; | iTreg_Vehicle_WT1_run1 &lt;dbl&gt; | iTreg_Vehicle_WT1_run2 &lt;dbl&gt; | Th17p_DFMO_WT1_run1 &lt;dbl&gt; | Th17p_DFMO_WT1_run2 &lt;dbl&gt; | Th17n_DFMO_WT1_run1 &lt;dbl&gt; | Th17n_DFMO_WT1_run2 &lt;dbl&gt; | ⋯ ⋯ | Th17n_Vehicle_WT3_run1 &lt;dbl&gt; | Th17n_Vehicle_WT3_run2 &lt;dbl&gt; | iTreg_Vehicle_WT3_run1 &lt;dbl&gt; | iTreg_Vehicle_WT3_run2 &lt;dbl&gt; | Th17p_DFMO_WT3_run1 &lt;dbl&gt; | Th17p_DFMO_WT3_run2 &lt;dbl&gt; | Th17n_DFMO_WT3_run1 &lt;dbl&gt; | Th17n_DFMO_WT3_run2 &lt;dbl&gt; | iTreg_DFMO_WT3_run1 &lt;dbl&gt; | iTreg_DFMO_WT3_run2 &lt;dbl&gt; |\n",
       "|---|---|---|---|---|---|---|---|---|---|---|---|---|---|---|---|---|---|---|---|---|---|\n",
       "| 0610007P14RIK | 787 | 870 | 708 | 845 | 570.0 | 624 | 786 | 846 | 864 | 978 | ⋯ | 1183 | 1332 | 794 | 853.00 | 928 | 1045.00 | 1120 | 1163.00 | 710.00 | 723 |\n",
       "| 0610009B22RIK |  93 |  98 |  66 |  70 |  87.9 | 100 | 123 | 128 | 106 | 104 | ⋯ |   94 |   76 | 109 | 145.00 | 121 |  131.00 |  131 |  137.78 | 137.00 | 148 |\n",
       "| 0610009L18RIK |   2 |   2 |   2 |   1 |   3.0 |   4 |   4 |   5 |   3 |   2 | ⋯ |    6 |    3 |   0 |   0.00 |   5 |   11.00 |    3 |    4.00 |   4.00 |   5 |\n",
       "| 0610009O20RIK | 177 | 206 | 148 | 170 | 194.0 | 159 | 168 | 172 | 161 | 158 | ⋯ |  249 |  284 | 202 | 254.98 | 216 |  228.98 |  212 |  226.00 | 258.97 | 246 |\n",
       "| 0610010F05RIK |  24 |  23 |  23 |  25 |  41.0 |  43 |  32 |  22 |  32 |  31 | ⋯ |   46 |   39 |  30 |  40.00 |  44 |   55.00 |   24 |   31.00 |  20.00 |  14 |\n",
       "| 0610010K14RIK | 182 | 254 | 211 | 256 | 193.0 | 239 | 231 | 254 | 264 | 313 | ⋯ |  243 |  288 | 297 | 310.00 | 317 |  294.00 |  283 |  332.00 | 416.00 | 453 |\n",
       "\n"
      ],
      "text/plain": [
       "              Th17p_Vehicle_WT1_run1 Th17p_Vehicle_WT1_run2\n",
       "0610007P14RIK 787                    870                   \n",
       "0610009B22RIK  93                     98                   \n",
       "0610009L18RIK   2                      2                   \n",
       "0610009O20RIK 177                    206                   \n",
       "0610010F05RIK  24                     23                   \n",
       "0610010K14RIK 182                    254                   \n",
       "              Th17n_Vehicle_WT1_run1 Th17n_Vehicle_WT1_run2\n",
       "0610007P14RIK 708                    845                   \n",
       "0610009B22RIK  66                     70                   \n",
       "0610009L18RIK   2                      1                   \n",
       "0610009O20RIK 148                    170                   \n",
       "0610010F05RIK  23                     25                   \n",
       "0610010K14RIK 211                    256                   \n",
       "              iTreg_Vehicle_WT1_run1 iTreg_Vehicle_WT1_run2 Th17p_DFMO_WT1_run1\n",
       "0610007P14RIK 570.0                  624                    786                \n",
       "0610009B22RIK  87.9                  100                    123                \n",
       "0610009L18RIK   3.0                    4                      4                \n",
       "0610009O20RIK 194.0                  159                    168                \n",
       "0610010F05RIK  41.0                   43                     32                \n",
       "0610010K14RIK 193.0                  239                    231                \n",
       "              Th17p_DFMO_WT1_run2 Th17n_DFMO_WT1_run1 Th17n_DFMO_WT1_run2 ⋯\n",
       "0610007P14RIK 846                 864                 978                 ⋯\n",
       "0610009B22RIK 128                 106                 104                 ⋯\n",
       "0610009L18RIK   5                   3                   2                 ⋯\n",
       "0610009O20RIK 172                 161                 158                 ⋯\n",
       "0610010F05RIK  22                  32                  31                 ⋯\n",
       "0610010K14RIK 254                 264                 313                 ⋯\n",
       "              Th17n_Vehicle_WT3_run1 Th17n_Vehicle_WT3_run2\n",
       "0610007P14RIK 1183                   1332                  \n",
       "0610009B22RIK   94                     76                  \n",
       "0610009L18RIK    6                      3                  \n",
       "0610009O20RIK  249                    284                  \n",
       "0610010F05RIK   46                     39                  \n",
       "0610010K14RIK  243                    288                  \n",
       "              iTreg_Vehicle_WT3_run1 iTreg_Vehicle_WT3_run2 Th17p_DFMO_WT3_run1\n",
       "0610007P14RIK 794                    853.00                 928                \n",
       "0610009B22RIK 109                    145.00                 121                \n",
       "0610009L18RIK   0                      0.00                   5                \n",
       "0610009O20RIK 202                    254.98                 216                \n",
       "0610010F05RIK  30                     40.00                  44                \n",
       "0610010K14RIK 297                    310.00                 317                \n",
       "              Th17p_DFMO_WT3_run2 Th17n_DFMO_WT3_run1 Th17n_DFMO_WT3_run2\n",
       "0610007P14RIK 1045.00             1120                1163.00            \n",
       "0610009B22RIK  131.00              131                 137.78            \n",
       "0610009L18RIK   11.00                3                   4.00            \n",
       "0610009O20RIK  228.98              212                 226.00            \n",
       "0610010F05RIK   55.00               24                  31.00            \n",
       "0610010K14RIK  294.00              283                 332.00            \n",
       "              iTreg_DFMO_WT3_run1 iTreg_DFMO_WT3_run2\n",
       "0610007P14RIK 710.00              723                \n",
       "0610009B22RIK 137.00              148                \n",
       "0610009L18RIK   4.00                5                \n",
       "0610009O20RIK 258.97              246                \n",
       "0610010F05RIK  20.00               14                \n",
       "0610010K14RIK 416.00              453                "
      ]
     },
     "metadata": {},
     "output_type": "display_data"
    }
   ],
   "source": [
    "compass_data_raw <- read.csv(compass_data_dir, sep = ',', row.names = 1) # estimated counts\n",
    "head(compass_data_raw)"
   ]
  },
  {
   "cell_type": "markdown",
   "id": "4340f4e6",
   "metadata": {},
   "source": [
    "for now, round ints"
   ]
  },
  {
   "cell_type": "code",
   "execution_count": 20,
   "id": "58525282",
   "metadata": {},
   "outputs": [
    {
     "data": {
      "text/html": [
       "91200"
      ],
      "text/latex": [
       "91200"
      ],
      "text/markdown": [
       "91200"
      ],
      "text/plain": [
       "[1] 91200"
      ]
     },
     "metadata": {},
     "output_type": "display_data"
    }
   ],
   "source": [
    "n_floats = compass_data_raw[compass_data_raw != floor(compass_data_raw)]\n",
    "length(n_floats)"
   ]
  },
  {
   "cell_type": "code",
   "execution_count": 22,
   "id": "3b7e3df3",
   "metadata": {},
   "outputs": [],
   "source": [
    "# for now, round ints\n",
    "compass_data <- round(compass_data_raw)"
   ]
  },
  {
   "cell_type": "code",
   "execution_count": 23,
   "id": "e3acab58",
   "metadata": {},
   "outputs": [
    {
     "data": {
      "text/html": [
       "<table class=\"dataframe\">\n",
       "<caption>A data.frame: 6 × 36</caption>\n",
       "<thead>\n",
       "\t<tr><th></th><th scope=col>Th17p_Vehicle_WT1_run1</th><th scope=col>Th17p_Vehicle_WT1_run2</th><th scope=col>Th17n_Vehicle_WT1_run1</th><th scope=col>Th17n_Vehicle_WT1_run2</th><th scope=col>iTreg_Vehicle_WT1_run1</th><th scope=col>iTreg_Vehicle_WT1_run2</th><th scope=col>Th17p_DFMO_WT1_run1</th><th scope=col>Th17p_DFMO_WT1_run2</th><th scope=col>Th17n_DFMO_WT1_run1</th><th scope=col>Th17n_DFMO_WT1_run2</th><th scope=col>⋯</th><th scope=col>Th17n_Vehicle_WT3_run1</th><th scope=col>Th17n_Vehicle_WT3_run2</th><th scope=col>iTreg_Vehicle_WT3_run1</th><th scope=col>iTreg_Vehicle_WT3_run2</th><th scope=col>Th17p_DFMO_WT3_run1</th><th scope=col>Th17p_DFMO_WT3_run2</th><th scope=col>Th17n_DFMO_WT3_run1</th><th scope=col>Th17n_DFMO_WT3_run2</th><th scope=col>iTreg_DFMO_WT3_run1</th><th scope=col>iTreg_DFMO_WT3_run2</th></tr>\n",
       "\t<tr><th></th><th scope=col>&lt;dbl&gt;</th><th scope=col>&lt;dbl&gt;</th><th scope=col>&lt;dbl&gt;</th><th scope=col>&lt;dbl&gt;</th><th scope=col>&lt;dbl&gt;</th><th scope=col>&lt;dbl&gt;</th><th scope=col>&lt;dbl&gt;</th><th scope=col>&lt;dbl&gt;</th><th scope=col>&lt;dbl&gt;</th><th scope=col>&lt;dbl&gt;</th><th scope=col>⋯</th><th scope=col>&lt;dbl&gt;</th><th scope=col>&lt;dbl&gt;</th><th scope=col>&lt;dbl&gt;</th><th scope=col>&lt;dbl&gt;</th><th scope=col>&lt;dbl&gt;</th><th scope=col>&lt;dbl&gt;</th><th scope=col>&lt;dbl&gt;</th><th scope=col>&lt;dbl&gt;</th><th scope=col>&lt;dbl&gt;</th><th scope=col>&lt;dbl&gt;</th></tr>\n",
       "</thead>\n",
       "<tbody>\n",
       "\t<tr><th scope=row>0610007P14RIK</th><td>787</td><td>870</td><td>708</td><td>845</td><td>570</td><td>624</td><td>786</td><td>846</td><td>864</td><td>978</td><td>⋯</td><td>1183</td><td>1332</td><td>794</td><td>853</td><td>928</td><td>1045</td><td>1120</td><td>1163</td><td>710</td><td>723</td></tr>\n",
       "\t<tr><th scope=row>0610009B22RIK</th><td> 93</td><td> 98</td><td> 66</td><td> 70</td><td> 88</td><td>100</td><td>123</td><td>128</td><td>106</td><td>104</td><td>⋯</td><td>  94</td><td>  76</td><td>109</td><td>145</td><td>121</td><td> 131</td><td> 131</td><td> 138</td><td>137</td><td>148</td></tr>\n",
       "\t<tr><th scope=row>0610009L18RIK</th><td>  2</td><td>  2</td><td>  2</td><td>  1</td><td>  3</td><td>  4</td><td>  4</td><td>  5</td><td>  3</td><td>  2</td><td>⋯</td><td>   6</td><td>   3</td><td>  0</td><td>  0</td><td>  5</td><td>  11</td><td>   3</td><td>   4</td><td>  4</td><td>  5</td></tr>\n",
       "\t<tr><th scope=row>0610009O20RIK</th><td>177</td><td>206</td><td>148</td><td>170</td><td>194</td><td>159</td><td>168</td><td>172</td><td>161</td><td>158</td><td>⋯</td><td> 249</td><td> 284</td><td>202</td><td>255</td><td>216</td><td> 229</td><td> 212</td><td> 226</td><td>259</td><td>246</td></tr>\n",
       "\t<tr><th scope=row>0610010F05RIK</th><td> 24</td><td> 23</td><td> 23</td><td> 25</td><td> 41</td><td> 43</td><td> 32</td><td> 22</td><td> 32</td><td> 31</td><td>⋯</td><td>  46</td><td>  39</td><td> 30</td><td> 40</td><td> 44</td><td>  55</td><td>  24</td><td>  31</td><td> 20</td><td> 14</td></tr>\n",
       "\t<tr><th scope=row>0610010K14RIK</th><td>182</td><td>254</td><td>211</td><td>256</td><td>193</td><td>239</td><td>231</td><td>254</td><td>264</td><td>313</td><td>⋯</td><td> 243</td><td> 288</td><td>297</td><td>310</td><td>317</td><td> 294</td><td> 283</td><td> 332</td><td>416</td><td>453</td></tr>\n",
       "</tbody>\n",
       "</table>\n"
      ],
      "text/latex": [
       "A data.frame: 6 × 36\n",
       "\\begin{tabular}{r|lllllllllllllllllllll}\n",
       "  & Th17p\\_Vehicle\\_WT1\\_run1 & Th17p\\_Vehicle\\_WT1\\_run2 & Th17n\\_Vehicle\\_WT1\\_run1 & Th17n\\_Vehicle\\_WT1\\_run2 & iTreg\\_Vehicle\\_WT1\\_run1 & iTreg\\_Vehicle\\_WT1\\_run2 & Th17p\\_DFMO\\_WT1\\_run1 & Th17p\\_DFMO\\_WT1\\_run2 & Th17n\\_DFMO\\_WT1\\_run1 & Th17n\\_DFMO\\_WT1\\_run2 & ⋯ & Th17n\\_Vehicle\\_WT3\\_run1 & Th17n\\_Vehicle\\_WT3\\_run2 & iTreg\\_Vehicle\\_WT3\\_run1 & iTreg\\_Vehicle\\_WT3\\_run2 & Th17p\\_DFMO\\_WT3\\_run1 & Th17p\\_DFMO\\_WT3\\_run2 & Th17n\\_DFMO\\_WT3\\_run1 & Th17n\\_DFMO\\_WT3\\_run2 & iTreg\\_DFMO\\_WT3\\_run1 & iTreg\\_DFMO\\_WT3\\_run2\\\\\n",
       "  & <dbl> & <dbl> & <dbl> & <dbl> & <dbl> & <dbl> & <dbl> & <dbl> & <dbl> & <dbl> & ⋯ & <dbl> & <dbl> & <dbl> & <dbl> & <dbl> & <dbl> & <dbl> & <dbl> & <dbl> & <dbl>\\\\\n",
       "\\hline\n",
       "\t0610007P14RIK & 787 & 870 & 708 & 845 & 570 & 624 & 786 & 846 & 864 & 978 & ⋯ & 1183 & 1332 & 794 & 853 & 928 & 1045 & 1120 & 1163 & 710 & 723\\\\\n",
       "\t0610009B22RIK &  93 &  98 &  66 &  70 &  88 & 100 & 123 & 128 & 106 & 104 & ⋯ &   94 &   76 & 109 & 145 & 121 &  131 &  131 &  138 & 137 & 148\\\\\n",
       "\t0610009L18RIK &   2 &   2 &   2 &   1 &   3 &   4 &   4 &   5 &   3 &   2 & ⋯ &    6 &    3 &   0 &   0 &   5 &   11 &    3 &    4 &   4 &   5\\\\\n",
       "\t0610009O20RIK & 177 & 206 & 148 & 170 & 194 & 159 & 168 & 172 & 161 & 158 & ⋯ &  249 &  284 & 202 & 255 & 216 &  229 &  212 &  226 & 259 & 246\\\\\n",
       "\t0610010F05RIK &  24 &  23 &  23 &  25 &  41 &  43 &  32 &  22 &  32 &  31 & ⋯ &   46 &   39 &  30 &  40 &  44 &   55 &   24 &   31 &  20 &  14\\\\\n",
       "\t0610010K14RIK & 182 & 254 & 211 & 256 & 193 & 239 & 231 & 254 & 264 & 313 & ⋯ &  243 &  288 & 297 & 310 & 317 &  294 &  283 &  332 & 416 & 453\\\\\n",
       "\\end{tabular}\n"
      ],
      "text/markdown": [
       "\n",
       "A data.frame: 6 × 36\n",
       "\n",
       "| <!--/--> | Th17p_Vehicle_WT1_run1 &lt;dbl&gt; | Th17p_Vehicle_WT1_run2 &lt;dbl&gt; | Th17n_Vehicle_WT1_run1 &lt;dbl&gt; | Th17n_Vehicle_WT1_run2 &lt;dbl&gt; | iTreg_Vehicle_WT1_run1 &lt;dbl&gt; | iTreg_Vehicle_WT1_run2 &lt;dbl&gt; | Th17p_DFMO_WT1_run1 &lt;dbl&gt; | Th17p_DFMO_WT1_run2 &lt;dbl&gt; | Th17n_DFMO_WT1_run1 &lt;dbl&gt; | Th17n_DFMO_WT1_run2 &lt;dbl&gt; | ⋯ ⋯ | Th17n_Vehicle_WT3_run1 &lt;dbl&gt; | Th17n_Vehicle_WT3_run2 &lt;dbl&gt; | iTreg_Vehicle_WT3_run1 &lt;dbl&gt; | iTreg_Vehicle_WT3_run2 &lt;dbl&gt; | Th17p_DFMO_WT3_run1 &lt;dbl&gt; | Th17p_DFMO_WT3_run2 &lt;dbl&gt; | Th17n_DFMO_WT3_run1 &lt;dbl&gt; | Th17n_DFMO_WT3_run2 &lt;dbl&gt; | iTreg_DFMO_WT3_run1 &lt;dbl&gt; | iTreg_DFMO_WT3_run2 &lt;dbl&gt; |\n",
       "|---|---|---|---|---|---|---|---|---|---|---|---|---|---|---|---|---|---|---|---|---|---|\n",
       "| 0610007P14RIK | 787 | 870 | 708 | 845 | 570 | 624 | 786 | 846 | 864 | 978 | ⋯ | 1183 | 1332 | 794 | 853 | 928 | 1045 | 1120 | 1163 | 710 | 723 |\n",
       "| 0610009B22RIK |  93 |  98 |  66 |  70 |  88 | 100 | 123 | 128 | 106 | 104 | ⋯ |   94 |   76 | 109 | 145 | 121 |  131 |  131 |  138 | 137 | 148 |\n",
       "| 0610009L18RIK |   2 |   2 |   2 |   1 |   3 |   4 |   4 |   5 |   3 |   2 | ⋯ |    6 |    3 |   0 |   0 |   5 |   11 |    3 |    4 |   4 |   5 |\n",
       "| 0610009O20RIK | 177 | 206 | 148 | 170 | 194 | 159 | 168 | 172 | 161 | 158 | ⋯ |  249 |  284 | 202 | 255 | 216 |  229 |  212 |  226 | 259 | 246 |\n",
       "| 0610010F05RIK |  24 |  23 |  23 |  25 |  41 |  43 |  32 |  22 |  32 |  31 | ⋯ |   46 |   39 |  30 |  40 |  44 |   55 |   24 |   31 |  20 |  14 |\n",
       "| 0610010K14RIK | 182 | 254 | 211 | 256 | 193 | 239 | 231 | 254 | 264 | 313 | ⋯ |  243 |  288 | 297 | 310 | 317 |  294 |  283 |  332 | 416 | 453 |\n",
       "\n"
      ],
      "text/plain": [
       "              Th17p_Vehicle_WT1_run1 Th17p_Vehicle_WT1_run2\n",
       "0610007P14RIK 787                    870                   \n",
       "0610009B22RIK  93                     98                   \n",
       "0610009L18RIK   2                      2                   \n",
       "0610009O20RIK 177                    206                   \n",
       "0610010F05RIK  24                     23                   \n",
       "0610010K14RIK 182                    254                   \n",
       "              Th17n_Vehicle_WT1_run1 Th17n_Vehicle_WT1_run2\n",
       "0610007P14RIK 708                    845                   \n",
       "0610009B22RIK  66                     70                   \n",
       "0610009L18RIK   2                      1                   \n",
       "0610009O20RIK 148                    170                   \n",
       "0610010F05RIK  23                     25                   \n",
       "0610010K14RIK 211                    256                   \n",
       "              iTreg_Vehicle_WT1_run1 iTreg_Vehicle_WT1_run2 Th17p_DFMO_WT1_run1\n",
       "0610007P14RIK 570                    624                    786                \n",
       "0610009B22RIK  88                    100                    123                \n",
       "0610009L18RIK   3                      4                      4                \n",
       "0610009O20RIK 194                    159                    168                \n",
       "0610010F05RIK  41                     43                     32                \n",
       "0610010K14RIK 193                    239                    231                \n",
       "              Th17p_DFMO_WT1_run2 Th17n_DFMO_WT1_run1 Th17n_DFMO_WT1_run2 ⋯\n",
       "0610007P14RIK 846                 864                 978                 ⋯\n",
       "0610009B22RIK 128                 106                 104                 ⋯\n",
       "0610009L18RIK   5                   3                   2                 ⋯\n",
       "0610009O20RIK 172                 161                 158                 ⋯\n",
       "0610010F05RIK  22                  32                  31                 ⋯\n",
       "0610010K14RIK 254                 264                 313                 ⋯\n",
       "              Th17n_Vehicle_WT3_run1 Th17n_Vehicle_WT3_run2\n",
       "0610007P14RIK 1183                   1332                  \n",
       "0610009B22RIK   94                     76                  \n",
       "0610009L18RIK    6                      3                  \n",
       "0610009O20RIK  249                    284                  \n",
       "0610010F05RIK   46                     39                  \n",
       "0610010K14RIK  243                    288                  \n",
       "              iTreg_Vehicle_WT3_run1 iTreg_Vehicle_WT3_run2 Th17p_DFMO_WT3_run1\n",
       "0610007P14RIK 794                    853                    928                \n",
       "0610009B22RIK 109                    145                    121                \n",
       "0610009L18RIK   0                      0                      5                \n",
       "0610009O20RIK 202                    255                    216                \n",
       "0610010F05RIK  30                     40                     44                \n",
       "0610010K14RIK 297                    310                    317                \n",
       "              Th17p_DFMO_WT3_run2 Th17n_DFMO_WT3_run1 Th17n_DFMO_WT3_run2\n",
       "0610007P14RIK 1045                1120                1163               \n",
       "0610009B22RIK  131                 131                 138               \n",
       "0610009L18RIK   11                   3                   4               \n",
       "0610009O20RIK  229                 212                 226               \n",
       "0610010F05RIK   55                  24                  31               \n",
       "0610010K14RIK  294                 283                 332               \n",
       "              iTreg_DFMO_WT3_run1 iTreg_DFMO_WT3_run2\n",
       "0610007P14RIK 710                 723                \n",
       "0610009B22RIK 137                 148                \n",
       "0610009L18RIK   4                   5                \n",
       "0610009O20RIK 259                 246                \n",
       "0610010F05RIK  20                  14                \n",
       "0610010K14RIK 416                 453                "
      ]
     },
     "metadata": {},
     "output_type": "display_data"
    }
   ],
   "source": [
    "head(compass_data)"
   ]
  },
  {
   "cell_type": "code",
   "execution_count": 33,
   "id": "90b30bd5",
   "metadata": {},
   "outputs": [
    {
     "data": {
      "text/html": [
       "<style>\n",
       ".list-inline {list-style: none; margin:0; padding: 0}\n",
       ".list-inline>li {display: inline-block}\n",
       ".list-inline>li:not(:last-child)::after {content: \"\\00b7\"; padding: 0 .5ex}\n",
       "</style>\n",
       "<ol class=list-inline><li>'Th17p_Vehicle_WT1'</li><li>'Th17p_Vehicle_WT1'</li><li>'Th17n_Vehicle_WT1'</li><li>'Th17n_Vehicle_WT1'</li><li>'iTreg_Vehicle_WT1'</li><li>'iTreg_Vehicle_WT1'</li><li>'Th17p_DFMO_WT1'</li><li>'Th17p_DFMO_WT1'</li><li>'Th17n_DFMO_WT1'</li><li>'Th17n_DFMO_WT1'</li><li>'iTreg_DFMO_WT1'</li><li>'iTreg_DFMO_WT1'</li><li>'Th17p_Vehicle_WT2'</li><li>'Th17p_Vehicle_WT2'</li><li>'Th17n_Vehicle_WT2'</li><li>'Th17n_Vehicle_WT2'</li><li>'iTreg_Vehicle_WT2'</li><li>'iTreg_Vehicle_WT2'</li><li>'Th17p_DFMO_WT2'</li><li>'Th17p_DFMO_WT2'</li><li>'Th17n_DFMO_WT2'</li><li>'Th17n_DFMO_WT2'</li><li>'iTreg_DFMO_WT2'</li><li>'iTreg_DFMO_WT2'</li><li>'Th17p_Vehicle_WT3'</li><li>'Th17p_Vehicle_WT3'</li><li>'Th17n_Vehicle_WT3'</li><li>'Th17n_Vehicle_WT3'</li><li>'iTreg_Vehicle_WT3'</li><li>'iTreg_Vehicle_WT3'</li><li>'Th17p_DFMO_WT3'</li><li>'Th17p_DFMO_WT3'</li><li>'Th17n_DFMO_WT3'</li><li>'Th17n_DFMO_WT3'</li><li>'iTreg_DFMO_WT3'</li><li>'iTreg_DFMO_WT3'</li></ol>\n"
      ],
      "text/latex": [
       "\\begin{enumerate*}\n",
       "\\item 'Th17p\\_Vehicle\\_WT1'\n",
       "\\item 'Th17p\\_Vehicle\\_WT1'\n",
       "\\item 'Th17n\\_Vehicle\\_WT1'\n",
       "\\item 'Th17n\\_Vehicle\\_WT1'\n",
       "\\item 'iTreg\\_Vehicle\\_WT1'\n",
       "\\item 'iTreg\\_Vehicle\\_WT1'\n",
       "\\item 'Th17p\\_DFMO\\_WT1'\n",
       "\\item 'Th17p\\_DFMO\\_WT1'\n",
       "\\item 'Th17n\\_DFMO\\_WT1'\n",
       "\\item 'Th17n\\_DFMO\\_WT1'\n",
       "\\item 'iTreg\\_DFMO\\_WT1'\n",
       "\\item 'iTreg\\_DFMO\\_WT1'\n",
       "\\item 'Th17p\\_Vehicle\\_WT2'\n",
       "\\item 'Th17p\\_Vehicle\\_WT2'\n",
       "\\item 'Th17n\\_Vehicle\\_WT2'\n",
       "\\item 'Th17n\\_Vehicle\\_WT2'\n",
       "\\item 'iTreg\\_Vehicle\\_WT2'\n",
       "\\item 'iTreg\\_Vehicle\\_WT2'\n",
       "\\item 'Th17p\\_DFMO\\_WT2'\n",
       "\\item 'Th17p\\_DFMO\\_WT2'\n",
       "\\item 'Th17n\\_DFMO\\_WT2'\n",
       "\\item 'Th17n\\_DFMO\\_WT2'\n",
       "\\item 'iTreg\\_DFMO\\_WT2'\n",
       "\\item 'iTreg\\_DFMO\\_WT2'\n",
       "\\item 'Th17p\\_Vehicle\\_WT3'\n",
       "\\item 'Th17p\\_Vehicle\\_WT3'\n",
       "\\item 'Th17n\\_Vehicle\\_WT3'\n",
       "\\item 'Th17n\\_Vehicle\\_WT3'\n",
       "\\item 'iTreg\\_Vehicle\\_WT3'\n",
       "\\item 'iTreg\\_Vehicle\\_WT3'\n",
       "\\item 'Th17p\\_DFMO\\_WT3'\n",
       "\\item 'Th17p\\_DFMO\\_WT3'\n",
       "\\item 'Th17n\\_DFMO\\_WT3'\n",
       "\\item 'Th17n\\_DFMO\\_WT3'\n",
       "\\item 'iTreg\\_DFMO\\_WT3'\n",
       "\\item 'iTreg\\_DFMO\\_WT3'\n",
       "\\end{enumerate*}\n"
      ],
      "text/markdown": [
       "1. 'Th17p_Vehicle_WT1'\n",
       "2. 'Th17p_Vehicle_WT1'\n",
       "3. 'Th17n_Vehicle_WT1'\n",
       "4. 'Th17n_Vehicle_WT1'\n",
       "5. 'iTreg_Vehicle_WT1'\n",
       "6. 'iTreg_Vehicle_WT1'\n",
       "7. 'Th17p_DFMO_WT1'\n",
       "8. 'Th17p_DFMO_WT1'\n",
       "9. 'Th17n_DFMO_WT1'\n",
       "10. 'Th17n_DFMO_WT1'\n",
       "11. 'iTreg_DFMO_WT1'\n",
       "12. 'iTreg_DFMO_WT1'\n",
       "13. 'Th17p_Vehicle_WT2'\n",
       "14. 'Th17p_Vehicle_WT2'\n",
       "15. 'Th17n_Vehicle_WT2'\n",
       "16. 'Th17n_Vehicle_WT2'\n",
       "17. 'iTreg_Vehicle_WT2'\n",
       "18. 'iTreg_Vehicle_WT2'\n",
       "19. 'Th17p_DFMO_WT2'\n",
       "20. 'Th17p_DFMO_WT2'\n",
       "21. 'Th17n_DFMO_WT2'\n",
       "22. 'Th17n_DFMO_WT2'\n",
       "23. 'iTreg_DFMO_WT2'\n",
       "24. 'iTreg_DFMO_WT2'\n",
       "25. 'Th17p_Vehicle_WT3'\n",
       "26. 'Th17p_Vehicle_WT3'\n",
       "27. 'Th17n_Vehicle_WT3'\n",
       "28. 'Th17n_Vehicle_WT3'\n",
       "29. 'iTreg_Vehicle_WT3'\n",
       "30. 'iTreg_Vehicle_WT3'\n",
       "31. 'Th17p_DFMO_WT3'\n",
       "32. 'Th17p_DFMO_WT3'\n",
       "33. 'Th17n_DFMO_WT3'\n",
       "34. 'Th17n_DFMO_WT3'\n",
       "35. 'iTreg_DFMO_WT3'\n",
       "36. 'iTreg_DFMO_WT3'\n",
       "\n",
       "\n"
      ],
      "text/plain": [
       " [1] \"Th17p_Vehicle_WT1\" \"Th17p_Vehicle_WT1\" \"Th17n_Vehicle_WT1\"\n",
       " [4] \"Th17n_Vehicle_WT1\" \"iTreg_Vehicle_WT1\" \"iTreg_Vehicle_WT1\"\n",
       " [7] \"Th17p_DFMO_WT1\"    \"Th17p_DFMO_WT1\"    \"Th17n_DFMO_WT1\"   \n",
       "[10] \"Th17n_DFMO_WT1\"    \"iTreg_DFMO_WT1\"    \"iTreg_DFMO_WT1\"   \n",
       "[13] \"Th17p_Vehicle_WT2\" \"Th17p_Vehicle_WT2\" \"Th17n_Vehicle_WT2\"\n",
       "[16] \"Th17n_Vehicle_WT2\" \"iTreg_Vehicle_WT2\" \"iTreg_Vehicle_WT2\"\n",
       "[19] \"Th17p_DFMO_WT2\"    \"Th17p_DFMO_WT2\"    \"Th17n_DFMO_WT2\"   \n",
       "[22] \"Th17n_DFMO_WT2\"    \"iTreg_DFMO_WT2\"    \"iTreg_DFMO_WT2\"   \n",
       "[25] \"Th17p_Vehicle_WT3\" \"Th17p_Vehicle_WT3\" \"Th17n_Vehicle_WT3\"\n",
       "[28] \"Th17n_Vehicle_WT3\" \"iTreg_Vehicle_WT3\" \"iTreg_Vehicle_WT3\"\n",
       "[31] \"Th17p_DFMO_WT3\"    \"Th17p_DFMO_WT3\"    \"Th17n_DFMO_WT3\"   \n",
       "[34] \"Th17n_DFMO_WT3\"    \"iTreg_DFMO_WT3\"    \"iTreg_DFMO_WT3\"   "
      ]
     },
     "metadata": {},
     "output_type": "display_data"
    }
   ],
   "source": [
    "meta_data$sample"
   ]
  },
  {
   "cell_type": "code",
   "execution_count": 40,
   "id": "e5341dbe",
   "metadata": {},
   "outputs": [
    {
     "data": {
      "text/html": [
       "<style>\n",
       ".list-inline {list-style: none; margin:0; padding: 0}\n",
       ".list-inline>li {display: inline-block}\n",
       ".list-inline>li:not(:last-child)::after {content: \"\\00b7\"; padding: 0 .5ex}\n",
       "</style>\n",
       "<ol class=list-inline><li>'Th17p_Vehicle'</li><li>'Th17p_Vehicle'</li><li>'Th17n_Vehicle'</li><li>'Th17n_Vehicle'</li><li>'iTreg_Vehicle'</li><li>'iTreg_Vehicle'</li><li>'Th17p_DFMO'</li><li>'Th17p_DFMO'</li><li>'Th17n_DFMO'</li><li>'Th17n_DFMO'</li><li>'iTreg_DFMO'</li><li>'iTreg_DFMO'</li><li>'Th17p_Vehicle'</li><li>'Th17p_Vehicle'</li><li>'Th17n_Vehicle'</li><li>'Th17n_Vehicle'</li><li>'iTreg_Vehicle'</li><li>'iTreg_Vehicle'</li><li>'Th17p_DFMO'</li><li>'Th17p_DFMO'</li><li>'Th17n_DFMO'</li><li>'Th17n_DFMO'</li><li>'iTreg_DFMO'</li><li>'iTreg_DFMO'</li><li>'Th17p_Vehicle'</li><li>'Th17p_Vehicle'</li><li>'Th17n_Vehicle'</li><li>'Th17n_Vehicle'</li><li>'iTreg_Vehicle'</li><li>'iTreg_Vehicle'</li><li>'Th17p_DFMO'</li><li>'Th17p_DFMO'</li><li>'Th17n_DFMO'</li><li>'Th17n_DFMO'</li><li>'iTreg_DFMO'</li><li>'iTreg_DFMO'</li></ol>\n"
      ],
      "text/latex": [
       "\\begin{enumerate*}\n",
       "\\item 'Th17p\\_Vehicle'\n",
       "\\item 'Th17p\\_Vehicle'\n",
       "\\item 'Th17n\\_Vehicle'\n",
       "\\item 'Th17n\\_Vehicle'\n",
       "\\item 'iTreg\\_Vehicle'\n",
       "\\item 'iTreg\\_Vehicle'\n",
       "\\item 'Th17p\\_DFMO'\n",
       "\\item 'Th17p\\_DFMO'\n",
       "\\item 'Th17n\\_DFMO'\n",
       "\\item 'Th17n\\_DFMO'\n",
       "\\item 'iTreg\\_DFMO'\n",
       "\\item 'iTreg\\_DFMO'\n",
       "\\item 'Th17p\\_Vehicle'\n",
       "\\item 'Th17p\\_Vehicle'\n",
       "\\item 'Th17n\\_Vehicle'\n",
       "\\item 'Th17n\\_Vehicle'\n",
       "\\item 'iTreg\\_Vehicle'\n",
       "\\item 'iTreg\\_Vehicle'\n",
       "\\item 'Th17p\\_DFMO'\n",
       "\\item 'Th17p\\_DFMO'\n",
       "\\item 'Th17n\\_DFMO'\n",
       "\\item 'Th17n\\_DFMO'\n",
       "\\item 'iTreg\\_DFMO'\n",
       "\\item 'iTreg\\_DFMO'\n",
       "\\item 'Th17p\\_Vehicle'\n",
       "\\item 'Th17p\\_Vehicle'\n",
       "\\item 'Th17n\\_Vehicle'\n",
       "\\item 'Th17n\\_Vehicle'\n",
       "\\item 'iTreg\\_Vehicle'\n",
       "\\item 'iTreg\\_Vehicle'\n",
       "\\item 'Th17p\\_DFMO'\n",
       "\\item 'Th17p\\_DFMO'\n",
       "\\item 'Th17n\\_DFMO'\n",
       "\\item 'Th17n\\_DFMO'\n",
       "\\item 'iTreg\\_DFMO'\n",
       "\\item 'iTreg\\_DFMO'\n",
       "\\end{enumerate*}\n"
      ],
      "text/markdown": [
       "1. 'Th17p_Vehicle'\n",
       "2. 'Th17p_Vehicle'\n",
       "3. 'Th17n_Vehicle'\n",
       "4. 'Th17n_Vehicle'\n",
       "5. 'iTreg_Vehicle'\n",
       "6. 'iTreg_Vehicle'\n",
       "7. 'Th17p_DFMO'\n",
       "8. 'Th17p_DFMO'\n",
       "9. 'Th17n_DFMO'\n",
       "10. 'Th17n_DFMO'\n",
       "11. 'iTreg_DFMO'\n",
       "12. 'iTreg_DFMO'\n",
       "13. 'Th17p_Vehicle'\n",
       "14. 'Th17p_Vehicle'\n",
       "15. 'Th17n_Vehicle'\n",
       "16. 'Th17n_Vehicle'\n",
       "17. 'iTreg_Vehicle'\n",
       "18. 'iTreg_Vehicle'\n",
       "19. 'Th17p_DFMO'\n",
       "20. 'Th17p_DFMO'\n",
       "21. 'Th17n_DFMO'\n",
       "22. 'Th17n_DFMO'\n",
       "23. 'iTreg_DFMO'\n",
       "24. 'iTreg_DFMO'\n",
       "25. 'Th17p_Vehicle'\n",
       "26. 'Th17p_Vehicle'\n",
       "27. 'Th17n_Vehicle'\n",
       "28. 'Th17n_Vehicle'\n",
       "29. 'iTreg_Vehicle'\n",
       "30. 'iTreg_Vehicle'\n",
       "31. 'Th17p_DFMO'\n",
       "32. 'Th17p_DFMO'\n",
       "33. 'Th17n_DFMO'\n",
       "34. 'Th17n_DFMO'\n",
       "35. 'iTreg_DFMO'\n",
       "36. 'iTreg_DFMO'\n",
       "\n",
       "\n"
      ],
      "text/plain": [
       " [1] \"Th17p_Vehicle\" \"Th17p_Vehicle\" \"Th17n_Vehicle\" \"Th17n_Vehicle\"\n",
       " [5] \"iTreg_Vehicle\" \"iTreg_Vehicle\" \"Th17p_DFMO\"    \"Th17p_DFMO\"   \n",
       " [9] \"Th17n_DFMO\"    \"Th17n_DFMO\"    \"iTreg_DFMO\"    \"iTreg_DFMO\"   \n",
       "[13] \"Th17p_Vehicle\" \"Th17p_Vehicle\" \"Th17n_Vehicle\" \"Th17n_Vehicle\"\n",
       "[17] \"iTreg_Vehicle\" \"iTreg_Vehicle\" \"Th17p_DFMO\"    \"Th17p_DFMO\"   \n",
       "[21] \"Th17n_DFMO\"    \"Th17n_DFMO\"    \"iTreg_DFMO\"    \"iTreg_DFMO\"   \n",
       "[25] \"Th17p_Vehicle\" \"Th17p_Vehicle\" \"Th17n_Vehicle\" \"Th17n_Vehicle\"\n",
       "[29] \"iTreg_Vehicle\" \"iTreg_Vehicle\" \"Th17p_DFMO\"    \"Th17p_DFMO\"   \n",
       "[33] \"Th17n_DFMO\"    \"Th17n_DFMO\"    \"iTreg_DFMO\"    \"iTreg_DFMO\"   "
      ]
     },
     "metadata": {},
     "output_type": "display_data"
    }
   ],
   "source": []
  },
  {
   "cell_type": "code",
   "execution_count": 41,
   "id": "a52e064e",
   "metadata": {
    "scrolled": true
   },
   "outputs": [
    {
     "data": {
      "text/html": [
       "<table class=\"dataframe\">\n",
       "<caption>A data.frame: 36 × 2</caption>\n",
       "<thead>\n",
       "\t<tr><th></th><th scope=col>sample</th><th scope=col>rep</th></tr>\n",
       "\t<tr><th></th><th scope=col>&lt;chr&gt;</th><th scope=col>&lt;chr&gt;</th></tr>\n",
       "</thead>\n",
       "<tbody>\n",
       "\t<tr><th scope=row>Th17p_Vehicle_WT1_run1</th><td>Th17p_Vehicle</td><td>WT1</td></tr>\n",
       "\t<tr><th scope=row>Th17p_Vehicle_WT1_run2</th><td>Th17p_Vehicle</td><td>WT1</td></tr>\n",
       "\t<tr><th scope=row>Th17n_Vehicle_WT1_run1</th><td>Th17n_Vehicle</td><td>WT1</td></tr>\n",
       "\t<tr><th scope=row>Th17n_Vehicle_WT1_run2</th><td>Th17n_Vehicle</td><td>WT1</td></tr>\n",
       "\t<tr><th scope=row>iTreg_Vehicle_WT1_run1</th><td>iTreg_Vehicle</td><td>WT1</td></tr>\n",
       "\t<tr><th scope=row>iTreg_Vehicle_WT1_run2</th><td>iTreg_Vehicle</td><td>WT1</td></tr>\n",
       "\t<tr><th scope=row>Th17p_DFMO_WT1_run1</th><td>Th17p_DFMO   </td><td>WT1</td></tr>\n",
       "\t<tr><th scope=row>Th17p_DFMO_WT1_run2</th><td>Th17p_DFMO   </td><td>WT1</td></tr>\n",
       "\t<tr><th scope=row>Th17n_DFMO_WT1_run1</th><td>Th17n_DFMO   </td><td>WT1</td></tr>\n",
       "\t<tr><th scope=row>Th17n_DFMO_WT1_run2</th><td>Th17n_DFMO   </td><td>WT1</td></tr>\n",
       "\t<tr><th scope=row>iTreg_DFMO_WT1_run1</th><td>iTreg_DFMO   </td><td>WT1</td></tr>\n",
       "\t<tr><th scope=row>iTreg_DFMO_WT1_run2</th><td>iTreg_DFMO   </td><td>WT1</td></tr>\n",
       "\t<tr><th scope=row>Th17p_Vehicle_WT2_run1</th><td>Th17p_Vehicle</td><td>WT2</td></tr>\n",
       "\t<tr><th scope=row>Th17p_Vehicle_WT2_run2</th><td>Th17p_Vehicle</td><td>WT2</td></tr>\n",
       "\t<tr><th scope=row>Th17n_Vehicle_WT2_run1</th><td>Th17n_Vehicle</td><td>WT2</td></tr>\n",
       "\t<tr><th scope=row>Th17n_Vehicle_WT2_run2</th><td>Th17n_Vehicle</td><td>WT2</td></tr>\n",
       "\t<tr><th scope=row>iTreg_Vehicle_WT2_run1</th><td>iTreg_Vehicle</td><td>WT2</td></tr>\n",
       "\t<tr><th scope=row>iTreg_Vehicle_WT2_run2</th><td>iTreg_Vehicle</td><td>WT2</td></tr>\n",
       "\t<tr><th scope=row>Th17p_DFMO_WT2_run1</th><td>Th17p_DFMO   </td><td>WT2</td></tr>\n",
       "\t<tr><th scope=row>Th17p_DFMO_WT2_run2</th><td>Th17p_DFMO   </td><td>WT2</td></tr>\n",
       "\t<tr><th scope=row>Th17n_DFMO_WT2_run1</th><td>Th17n_DFMO   </td><td>WT2</td></tr>\n",
       "\t<tr><th scope=row>Th17n_DFMO_WT2_run2</th><td>Th17n_DFMO   </td><td>WT2</td></tr>\n",
       "\t<tr><th scope=row>iTreg_DFMO_WT2_run1</th><td>iTreg_DFMO   </td><td>WT2</td></tr>\n",
       "\t<tr><th scope=row>iTreg_DFMO_WT2_run2</th><td>iTreg_DFMO   </td><td>WT2</td></tr>\n",
       "\t<tr><th scope=row>Th17p_Vehicle_WT3_run1</th><td>Th17p_Vehicle</td><td>WT3</td></tr>\n",
       "\t<tr><th scope=row>Th17p_Vehicle_WT3_run2</th><td>Th17p_Vehicle</td><td>WT3</td></tr>\n",
       "\t<tr><th scope=row>Th17n_Vehicle_WT3_run1</th><td>Th17n_Vehicle</td><td>WT3</td></tr>\n",
       "\t<tr><th scope=row>Th17n_Vehicle_WT3_run2</th><td>Th17n_Vehicle</td><td>WT3</td></tr>\n",
       "\t<tr><th scope=row>iTreg_Vehicle_WT3_run1</th><td>iTreg_Vehicle</td><td>WT3</td></tr>\n",
       "\t<tr><th scope=row>iTreg_Vehicle_WT3_run2</th><td>iTreg_Vehicle</td><td>WT3</td></tr>\n",
       "\t<tr><th scope=row>Th17p_DFMO_WT3_run1</th><td>Th17p_DFMO   </td><td>WT3</td></tr>\n",
       "\t<tr><th scope=row>Th17p_DFMO_WT3_run2</th><td>Th17p_DFMO   </td><td>WT3</td></tr>\n",
       "\t<tr><th scope=row>Th17n_DFMO_WT3_run1</th><td>Th17n_DFMO   </td><td>WT3</td></tr>\n",
       "\t<tr><th scope=row>Th17n_DFMO_WT3_run2</th><td>Th17n_DFMO   </td><td>WT3</td></tr>\n",
       "\t<tr><th scope=row>iTreg_DFMO_WT3_run1</th><td>iTreg_DFMO   </td><td>WT3</td></tr>\n",
       "\t<tr><th scope=row>iTreg_DFMO_WT3_run2</th><td>iTreg_DFMO   </td><td>WT3</td></tr>\n",
       "</tbody>\n",
       "</table>\n"
      ],
      "text/latex": [
       "A data.frame: 36 × 2\n",
       "\\begin{tabular}{r|ll}\n",
       "  & sample & rep\\\\\n",
       "  & <chr> & <chr>\\\\\n",
       "\\hline\n",
       "\tTh17p\\_Vehicle\\_WT1\\_run1 & Th17p\\_Vehicle & WT1\\\\\n",
       "\tTh17p\\_Vehicle\\_WT1\\_run2 & Th17p\\_Vehicle & WT1\\\\\n",
       "\tTh17n\\_Vehicle\\_WT1\\_run1 & Th17n\\_Vehicle & WT1\\\\\n",
       "\tTh17n\\_Vehicle\\_WT1\\_run2 & Th17n\\_Vehicle & WT1\\\\\n",
       "\tiTreg\\_Vehicle\\_WT1\\_run1 & iTreg\\_Vehicle & WT1\\\\\n",
       "\tiTreg\\_Vehicle\\_WT1\\_run2 & iTreg\\_Vehicle & WT1\\\\\n",
       "\tTh17p\\_DFMO\\_WT1\\_run1 & Th17p\\_DFMO    & WT1\\\\\n",
       "\tTh17p\\_DFMO\\_WT1\\_run2 & Th17p\\_DFMO    & WT1\\\\\n",
       "\tTh17n\\_DFMO\\_WT1\\_run1 & Th17n\\_DFMO    & WT1\\\\\n",
       "\tTh17n\\_DFMO\\_WT1\\_run2 & Th17n\\_DFMO    & WT1\\\\\n",
       "\tiTreg\\_DFMO\\_WT1\\_run1 & iTreg\\_DFMO    & WT1\\\\\n",
       "\tiTreg\\_DFMO\\_WT1\\_run2 & iTreg\\_DFMO    & WT1\\\\\n",
       "\tTh17p\\_Vehicle\\_WT2\\_run1 & Th17p\\_Vehicle & WT2\\\\\n",
       "\tTh17p\\_Vehicle\\_WT2\\_run2 & Th17p\\_Vehicle & WT2\\\\\n",
       "\tTh17n\\_Vehicle\\_WT2\\_run1 & Th17n\\_Vehicle & WT2\\\\\n",
       "\tTh17n\\_Vehicle\\_WT2\\_run2 & Th17n\\_Vehicle & WT2\\\\\n",
       "\tiTreg\\_Vehicle\\_WT2\\_run1 & iTreg\\_Vehicle & WT2\\\\\n",
       "\tiTreg\\_Vehicle\\_WT2\\_run2 & iTreg\\_Vehicle & WT2\\\\\n",
       "\tTh17p\\_DFMO\\_WT2\\_run1 & Th17p\\_DFMO    & WT2\\\\\n",
       "\tTh17p\\_DFMO\\_WT2\\_run2 & Th17p\\_DFMO    & WT2\\\\\n",
       "\tTh17n\\_DFMO\\_WT2\\_run1 & Th17n\\_DFMO    & WT2\\\\\n",
       "\tTh17n\\_DFMO\\_WT2\\_run2 & Th17n\\_DFMO    & WT2\\\\\n",
       "\tiTreg\\_DFMO\\_WT2\\_run1 & iTreg\\_DFMO    & WT2\\\\\n",
       "\tiTreg\\_DFMO\\_WT2\\_run2 & iTreg\\_DFMO    & WT2\\\\\n",
       "\tTh17p\\_Vehicle\\_WT3\\_run1 & Th17p\\_Vehicle & WT3\\\\\n",
       "\tTh17p\\_Vehicle\\_WT3\\_run2 & Th17p\\_Vehicle & WT3\\\\\n",
       "\tTh17n\\_Vehicle\\_WT3\\_run1 & Th17n\\_Vehicle & WT3\\\\\n",
       "\tTh17n\\_Vehicle\\_WT3\\_run2 & Th17n\\_Vehicle & WT3\\\\\n",
       "\tiTreg\\_Vehicle\\_WT3\\_run1 & iTreg\\_Vehicle & WT3\\\\\n",
       "\tiTreg\\_Vehicle\\_WT3\\_run2 & iTreg\\_Vehicle & WT3\\\\\n",
       "\tTh17p\\_DFMO\\_WT3\\_run1 & Th17p\\_DFMO    & WT3\\\\\n",
       "\tTh17p\\_DFMO\\_WT3\\_run2 & Th17p\\_DFMO    & WT3\\\\\n",
       "\tTh17n\\_DFMO\\_WT3\\_run1 & Th17n\\_DFMO    & WT3\\\\\n",
       "\tTh17n\\_DFMO\\_WT3\\_run2 & Th17n\\_DFMO    & WT3\\\\\n",
       "\tiTreg\\_DFMO\\_WT3\\_run1 & iTreg\\_DFMO    & WT3\\\\\n",
       "\tiTreg\\_DFMO\\_WT3\\_run2 & iTreg\\_DFMO    & WT3\\\\\n",
       "\\end{tabular}\n"
      ],
      "text/markdown": [
       "\n",
       "A data.frame: 36 × 2\n",
       "\n",
       "| <!--/--> | sample &lt;chr&gt; | rep &lt;chr&gt; |\n",
       "|---|---|---|\n",
       "| Th17p_Vehicle_WT1_run1 | Th17p_Vehicle | WT1 |\n",
       "| Th17p_Vehicle_WT1_run2 | Th17p_Vehicle | WT1 |\n",
       "| Th17n_Vehicle_WT1_run1 | Th17n_Vehicle | WT1 |\n",
       "| Th17n_Vehicle_WT1_run2 | Th17n_Vehicle | WT1 |\n",
       "| iTreg_Vehicle_WT1_run1 | iTreg_Vehicle | WT1 |\n",
       "| iTreg_Vehicle_WT1_run2 | iTreg_Vehicle | WT1 |\n",
       "| Th17p_DFMO_WT1_run1 | Th17p_DFMO    | WT1 |\n",
       "| Th17p_DFMO_WT1_run2 | Th17p_DFMO    | WT1 |\n",
       "| Th17n_DFMO_WT1_run1 | Th17n_DFMO    | WT1 |\n",
       "| Th17n_DFMO_WT1_run2 | Th17n_DFMO    | WT1 |\n",
       "| iTreg_DFMO_WT1_run1 | iTreg_DFMO    | WT1 |\n",
       "| iTreg_DFMO_WT1_run2 | iTreg_DFMO    | WT1 |\n",
       "| Th17p_Vehicle_WT2_run1 | Th17p_Vehicle | WT2 |\n",
       "| Th17p_Vehicle_WT2_run2 | Th17p_Vehicle | WT2 |\n",
       "| Th17n_Vehicle_WT2_run1 | Th17n_Vehicle | WT2 |\n",
       "| Th17n_Vehicle_WT2_run2 | Th17n_Vehicle | WT2 |\n",
       "| iTreg_Vehicle_WT2_run1 | iTreg_Vehicle | WT2 |\n",
       "| iTreg_Vehicle_WT2_run2 | iTreg_Vehicle | WT2 |\n",
       "| Th17p_DFMO_WT2_run1 | Th17p_DFMO    | WT2 |\n",
       "| Th17p_DFMO_WT2_run2 | Th17p_DFMO    | WT2 |\n",
       "| Th17n_DFMO_WT2_run1 | Th17n_DFMO    | WT2 |\n",
       "| Th17n_DFMO_WT2_run2 | Th17n_DFMO    | WT2 |\n",
       "| iTreg_DFMO_WT2_run1 | iTreg_DFMO    | WT2 |\n",
       "| iTreg_DFMO_WT2_run2 | iTreg_DFMO    | WT2 |\n",
       "| Th17p_Vehicle_WT3_run1 | Th17p_Vehicle | WT3 |\n",
       "| Th17p_Vehicle_WT3_run2 | Th17p_Vehicle | WT3 |\n",
       "| Th17n_Vehicle_WT3_run1 | Th17n_Vehicle | WT3 |\n",
       "| Th17n_Vehicle_WT3_run2 | Th17n_Vehicle | WT3 |\n",
       "| iTreg_Vehicle_WT3_run1 | iTreg_Vehicle | WT3 |\n",
       "| iTreg_Vehicle_WT3_run2 | iTreg_Vehicle | WT3 |\n",
       "| Th17p_DFMO_WT3_run1 | Th17p_DFMO    | WT3 |\n",
       "| Th17p_DFMO_WT3_run2 | Th17p_DFMO    | WT3 |\n",
       "| Th17n_DFMO_WT3_run1 | Th17n_DFMO    | WT3 |\n",
       "| Th17n_DFMO_WT3_run2 | Th17n_DFMO    | WT3 |\n",
       "| iTreg_DFMO_WT3_run1 | iTreg_DFMO    | WT3 |\n",
       "| iTreg_DFMO_WT3_run2 | iTreg_DFMO    | WT3 |\n",
       "\n"
      ],
      "text/plain": [
       "                       sample        rep\n",
       "Th17p_Vehicle_WT1_run1 Th17p_Vehicle WT1\n",
       "Th17p_Vehicle_WT1_run2 Th17p_Vehicle WT1\n",
       "Th17n_Vehicle_WT1_run1 Th17n_Vehicle WT1\n",
       "Th17n_Vehicle_WT1_run2 Th17n_Vehicle WT1\n",
       "iTreg_Vehicle_WT1_run1 iTreg_Vehicle WT1\n",
       "iTreg_Vehicle_WT1_run2 iTreg_Vehicle WT1\n",
       "Th17p_DFMO_WT1_run1    Th17p_DFMO    WT1\n",
       "Th17p_DFMO_WT1_run2    Th17p_DFMO    WT1\n",
       "Th17n_DFMO_WT1_run1    Th17n_DFMO    WT1\n",
       "Th17n_DFMO_WT1_run2    Th17n_DFMO    WT1\n",
       "iTreg_DFMO_WT1_run1    iTreg_DFMO    WT1\n",
       "iTreg_DFMO_WT1_run2    iTreg_DFMO    WT1\n",
       "Th17p_Vehicle_WT2_run1 Th17p_Vehicle WT2\n",
       "Th17p_Vehicle_WT2_run2 Th17p_Vehicle WT2\n",
       "Th17n_Vehicle_WT2_run1 Th17n_Vehicle WT2\n",
       "Th17n_Vehicle_WT2_run2 Th17n_Vehicle WT2\n",
       "iTreg_Vehicle_WT2_run1 iTreg_Vehicle WT2\n",
       "iTreg_Vehicle_WT2_run2 iTreg_Vehicle WT2\n",
       "Th17p_DFMO_WT2_run1    Th17p_DFMO    WT2\n",
       "Th17p_DFMO_WT2_run2    Th17p_DFMO    WT2\n",
       "Th17n_DFMO_WT2_run1    Th17n_DFMO    WT2\n",
       "Th17n_DFMO_WT2_run2    Th17n_DFMO    WT2\n",
       "iTreg_DFMO_WT2_run1    iTreg_DFMO    WT2\n",
       "iTreg_DFMO_WT2_run2    iTreg_DFMO    WT2\n",
       "Th17p_Vehicle_WT3_run1 Th17p_Vehicle WT3\n",
       "Th17p_Vehicle_WT3_run2 Th17p_Vehicle WT3\n",
       "Th17n_Vehicle_WT3_run1 Th17n_Vehicle WT3\n",
       "Th17n_Vehicle_WT3_run2 Th17n_Vehicle WT3\n",
       "iTreg_Vehicle_WT3_run1 iTreg_Vehicle WT3\n",
       "iTreg_Vehicle_WT3_run2 iTreg_Vehicle WT3\n",
       "Th17p_DFMO_WT3_run1    Th17p_DFMO    WT3\n",
       "Th17p_DFMO_WT3_run2    Th17p_DFMO    WT3\n",
       "Th17n_DFMO_WT3_run1    Th17n_DFMO    WT3\n",
       "Th17n_DFMO_WT3_run2    Th17n_DFMO    WT3\n",
       "iTreg_DFMO_WT3_run1    iTreg_DFMO    WT3\n",
       "iTreg_DFMO_WT3_run2    iTreg_DFMO    WT3"
      ]
     },
     "metadata": {},
     "output_type": "display_data"
    }
   ],
   "source": [
    "meta_data <- data.frame(colnames(compass_data))\n",
    "rownames(meta_data) <- colnames(compass_data)\n",
    "colnames(meta_data) <- c('sample')\n",
    "meta_data$rep <- c('WT1','WT1','WT1','WT1','WT1','WT1','WT1','WT1','WT1','WT1','WT1','WT1','WT2','WT2','WT2','WT2','WT2','WT2','WT2','WT2','WT2','WT2','WT2','WT2','WT3','WT3','WT3','WT3','WT3','WT3','WT3','WT3','WT3','WT3','WT3','WT3')\n",
    "meta_data$sample <- str_replace(meta_data$sample, '_run1', '')\n",
    "meta_data$sample <- str_replace(meta_data$sample, '_run2', '')\n",
    "meta_data$sample <- substr(meta_data$sample,1,nchar(meta_data$sample)-4)\n",
    "meta_data"
   ]
  },
  {
   "cell_type": "code",
   "execution_count": 79,
   "id": "bad4bbf0",
   "metadata": {},
   "outputs": [
    {
     "data": {
      "text/html": [
       "<style>\n",
       ".list-inline {list-style: none; margin:0; padding: 0}\n",
       ".list-inline>li {display: inline-block}\n",
       ".list-inline>li:not(:last-child)::after {content: \"\\00b7\"; padding: 0 .5ex}\n",
       "</style>\n",
       "<ol class=list-inline><li>'Th17p_Vehicle'</li><li>'Th17n_Vehicle'</li><li>'iTreg_Vehicle'</li><li>'Th17p_DFMO'</li><li>'Th17n_DFMO'</li><li>'iTreg_DFMO'</li></ol>\n"
      ],
      "text/latex": [
       "\\begin{enumerate*}\n",
       "\\item 'Th17p\\_Vehicle'\n",
       "\\item 'Th17n\\_Vehicle'\n",
       "\\item 'iTreg\\_Vehicle'\n",
       "\\item 'Th17p\\_DFMO'\n",
       "\\item 'Th17n\\_DFMO'\n",
       "\\item 'iTreg\\_DFMO'\n",
       "\\end{enumerate*}\n"
      ],
      "text/markdown": [
       "1. 'Th17p_Vehicle'\n",
       "2. 'Th17n_Vehicle'\n",
       "3. 'iTreg_Vehicle'\n",
       "4. 'Th17p_DFMO'\n",
       "5. 'Th17n_DFMO'\n",
       "6. 'iTreg_DFMO'\n",
       "\n",
       "\n"
      ],
      "text/plain": [
       "[1] \"Th17p_Vehicle\" \"Th17n_Vehicle\" \"iTreg_Vehicle\" \"Th17p_DFMO\"   \n",
       "[5] \"Th17n_DFMO\"    \"iTreg_DFMO\"   "
      ]
     },
     "metadata": {},
     "output_type": "display_data"
    }
   ],
   "source": []
  },
  {
   "cell_type": "code",
   "execution_count": 86,
   "id": "ce512d58",
   "metadata": {},
   "outputs": [
    {
     "name": "stderr",
     "output_type": "stream",
     "text": [
      "converting counts to integer mode\n",
      "\n",
      "Warning message in DESeqDataSet(se, design = design, ignoreRank):\n",
      "“some variables in design formula are characters, converting to factors”\n",
      "estimating size factors\n",
      "\n",
      "estimating dispersions\n",
      "\n",
      "gene-wise dispersion estimates\n",
      "\n",
      "mean-dispersion relationship\n",
      "\n",
      "final dispersion estimates\n",
      "\n",
      "fitting model and testing\n",
      "\n",
      "-- replacing outliers and refitting for 26 genes\n",
      "-- DESeq argument 'minReplicatesForReplace' = 7 \n",
      "-- original counts are preserved in counts(dds)\n",
      "\n",
      "estimating dispersions\n",
      "\n",
      "fitting model and testing\n",
      "\n",
      "Warning message in `[<-`(`*tmp*`, i, value = res):\n",
      "“implicit list embedding of S4 objects is deprecated”\n",
      "converting counts to integer mode\n",
      "\n",
      "Warning message in DESeqDataSet(se, design = design, ignoreRank):\n",
      "“some variables in design formula are characters, converting to factors”\n",
      "estimating size factors\n",
      "\n",
      "estimating dispersions\n",
      "\n",
      "gene-wise dispersion estimates\n",
      "\n",
      "mean-dispersion relationship\n",
      "\n",
      "final dispersion estimates\n",
      "\n",
      "fitting model and testing\n",
      "\n",
      "-- replacing outliers and refitting for 25 genes\n",
      "-- DESeq argument 'minReplicatesForReplace' = 7 \n",
      "-- original counts are preserved in counts(dds)\n",
      "\n",
      "estimating dispersions\n",
      "\n",
      "fitting model and testing\n",
      "\n",
      "Warning message in `[<-`(`*tmp*`, i, value = res):\n",
      "“implicit list embedding of S4 objects is deprecated”\n",
      "converting counts to integer mode\n",
      "\n",
      "Warning message in DESeqDataSet(se, design = design, ignoreRank):\n",
      "“some variables in design formula are characters, converting to factors”\n",
      "estimating size factors\n",
      "\n",
      "estimating dispersions\n",
      "\n",
      "gene-wise dispersion estimates\n",
      "\n",
      "mean-dispersion relationship\n",
      "\n",
      "final dispersion estimates\n",
      "\n",
      "fitting model and testing\n",
      "\n",
      "-- replacing outliers and refitting for 40 genes\n",
      "-- DESeq argument 'minReplicatesForReplace' = 7 \n",
      "-- original counts are preserved in counts(dds)\n",
      "\n",
      "estimating dispersions\n",
      "\n",
      "fitting model and testing\n",
      "\n",
      "Warning message in `[<-`(`*tmp*`, i, value = res):\n",
      "“implicit list embedding of S4 objects is deprecated”\n",
      "converting counts to integer mode\n",
      "\n",
      "Warning message in DESeqDataSet(se, design = design, ignoreRank):\n",
      "“some variables in design formula are characters, converting to factors”\n",
      "estimating size factors\n",
      "\n",
      "estimating dispersions\n",
      "\n",
      "gene-wise dispersion estimates\n",
      "\n",
      "mean-dispersion relationship\n",
      "\n",
      "final dispersion estimates\n",
      "\n",
      "fitting model and testing\n",
      "\n",
      "-- replacing outliers and refitting for 21 genes\n",
      "-- DESeq argument 'minReplicatesForReplace' = 7 \n",
      "-- original counts are preserved in counts(dds)\n",
      "\n",
      "estimating dispersions\n",
      "\n",
      "fitting model and testing\n",
      "\n",
      "Warning message in `[<-`(`*tmp*`, i, value = res):\n",
      "“implicit list embedding of S4 objects is deprecated”\n",
      "converting counts to integer mode\n",
      "\n",
      "Warning message in DESeqDataSet(se, design = design, ignoreRank):\n",
      "“some variables in design formula are characters, converting to factors”\n",
      "estimating size factors\n",
      "\n",
      "estimating dispersions\n",
      "\n",
      "gene-wise dispersion estimates\n",
      "\n",
      "mean-dispersion relationship\n",
      "\n",
      "final dispersion estimates\n",
      "\n",
      "fitting model and testing\n",
      "\n",
      "-- replacing outliers and refitting for 18 genes\n",
      "-- DESeq argument 'minReplicatesForReplace' = 7 \n",
      "-- original counts are preserved in counts(dds)\n",
      "\n",
      "estimating dispersions\n",
      "\n",
      "fitting model and testing\n",
      "\n",
      "Warning message in `[<-`(`*tmp*`, i, value = res):\n",
      "“implicit list embedding of S4 objects is deprecated”\n",
      "converting counts to integer mode\n",
      "\n",
      "Warning message in DESeqDataSet(se, design = design, ignoreRank):\n",
      "“some variables in design formula are characters, converting to factors”\n",
      "estimating size factors\n",
      "\n",
      "estimating dispersions\n",
      "\n",
      "gene-wise dispersion estimates\n",
      "\n",
      "mean-dispersion relationship\n",
      "\n",
      "final dispersion estimates\n",
      "\n",
      "fitting model and testing\n",
      "\n",
      "-- replacing outliers and refitting for 29 genes\n",
      "-- DESeq argument 'minReplicatesForReplace' = 7 \n",
      "-- original counts are preserved in counts(dds)\n",
      "\n",
      "estimating dispersions\n",
      "\n",
      "fitting model and testing\n",
      "\n",
      "Warning message in `[<-`(`*tmp*`, i, value = res):\n",
      "“implicit list embedding of S4 objects is deprecated”\n"
     ]
    }
   ],
   "source": [
    "# 1 vs all for each\n",
    "dds_results <- vector(\"list\", length = length(meta_data['sample']$sample))\n",
    "names(dds_results) <- unique(meta_data['sample'])$sample\n",
    "i=0\n",
    "for (samp in unique(meta_data['sample'])$sample){\n",
    "    meta_data_2 <- meta_data\n",
    "    meta_data_2$test <- meta_data_2$sample\n",
    "    meta_data_2$test[meta_data$sample!=samp] <- 'other'\n",
    "    meta_data_2$test <- str_replace(meta_data_2$test, samp, 'group')\n",
    "    \n",
    "    dds <- DESeqDataSetFromMatrix(countData=compass_data, \n",
    "                              colData=meta_data_2, \n",
    "                              design=~rep + test)\n",
    "    dds <- DESeq(dds)\n",
    "    res <- results(dds)\n",
    "    dds_results[i] <- res\n",
    "    i = i+1\n",
    "}"
   ]
  },
  {
   "cell_type": "code",
   "execution_count": 103,
   "id": "d65a0bc1",
   "metadata": {},
   "outputs": [
    {
     "data": {
      "image/png": "[encoded data removed]",
      "text/plain": [
       "Plot with title “”"
      ]
     },
     "metadata": {
      "image/png": {
       "height": 420,
       "width": 420
      }
     },
     "output_type": "display_data"
    }
   ],
   "source": [
    "plotMA(dds_results$Th17p_Vehicle, ylim = c(-10, 10) )"
   ]
  },
  {
   "cell_type": "code",
   "execution_count": 102,
   "id": "78be665e",
   "metadata": {},
   "outputs": [
    {
     "data": {
      "image/png": "[encoded data removed]",
      "text/plain": [
       "Plot with title “”"
      ]
     },
     "metadata": {
      "image/png": {
       "height": 420,
       "width": 420
      }
     },
     "output_type": "display_data"
    }
   ],
   "source": [
    "plotMA(res_all, ylim = c(-10, 10) )"
   ]
  },
  {
   "cell_type": "code",
   "execution_count": 98,
   "id": "a18e6d63",
   "metadata": {},
   "outputs": [
    {
     "name": "stderr",
     "output_type": "stream",
     "text": [
      "converting counts to integer mode\n",
      "\n",
      "Warning message in DESeqDataSet(se, design = design, ignoreRank):\n",
      "“some variables in design formula are characters, converting to factors”\n"
     ]
    }
   ],
   "source": [
    "dds_all <- DESeqDataSetFromMatrix(countData=compass_data, \n",
    "                              colData=meta_data, \n",
    "                              design=~rep + sample)"
   ]
  },
  {
   "cell_type": "code",
   "execution_count": 99,
   "id": "e0972cf0",
   "metadata": {},
   "outputs": [
    {
     "name": "stderr",
     "output_type": "stream",
     "text": [
      "estimating size factors\n",
      "\n",
      "estimating dispersions\n",
      "\n",
      "gene-wise dispersion estimates\n",
      "\n",
      "mean-dispersion relationship\n",
      "\n",
      "final dispersion estimates\n",
      "\n",
      "fitting model and testing\n",
      "\n"
     ]
    }
   ],
   "source": [
    "dds_all <- DESeq(dds_all)"
   ]
  },
  {
   "cell_type": "code",
   "execution_count": 100,
   "id": "c480c1ee",
   "metadata": {
    "scrolled": true
   },
   "outputs": [
    {
     "data": {
      "text/plain": [
       "log2 fold change (MLE): sample Th17p Vehicle vs iTreg DFMO \n",
       "Wald test p-value: sample Th17p Vehicle vs iTreg DFMO \n",
       "DataFrame with 20817 rows and 6 columns\n",
       "               baseMean log2FoldChange     lfcSE      stat      pvalue\n",
       "              <numeric>      <numeric> <numeric> <numeric>   <numeric>\n",
       "0610007P14RIK 877.90366       0.575453 0.0594915  9.672861 3.93228e-22\n",
       "0610009B22RIK 108.51100      -0.276666 0.1130797 -2.446646 1.44192e-02\n",
       "0610009L18RIK   3.27191      -0.123192 0.7142485 -0.172477 8.63062e-01\n",
       "0610009O20RIK 203.81685      -0.111106 0.0978583 -1.135371 2.56220e-01\n",
       "0610010F05RIK  28.81435       0.650939 0.2440219  2.667545 7.64078e-03\n",
       "...                 ...            ...       ...       ...         ...\n",
       "ZYG11A            0.000             NA        NA        NA          NA\n",
       "ZYG11B          270.947      0.4814023 0.0902064  5.336678 9.46647e-08\n",
       "ZYX             370.487      0.4724812 0.1024606  4.611343 4.00076e-06\n",
       "ZZEF1           234.860     -0.0445362 0.0978150 -0.455311 6.48886e-01\n",
       "ZZZ3            253.818     -0.7561587 0.0833799 -9.068834 1.20297e-19\n",
       "                     padj\n",
       "                <numeric>\n",
       "0610007P14RIK 3.00427e-21\n",
       "0610009B22RIK 2.53405e-02\n",
       "0610009L18RIK 8.96462e-01\n",
       "0610009O20RIK 3.34129e-01\n",
       "0610010F05RIK 1.40447e-02\n",
       "...                   ...\n",
       "ZYG11A                 NA\n",
       "ZYG11B        3.04532e-07\n",
       "ZYX           1.10576e-05\n",
       "ZZEF1         7.21008e-01\n",
       "ZZZ3          8.20887e-19"
      ]
     },
     "metadata": {},
     "output_type": "display_data"
    }
   ],
   "source": [
    "res_all <- results(dds_all)\n",
    "res_all"
   ]
  },
  {
   "cell_type": "code",
   "execution_count": 114,
   "id": "14293eba",
   "metadata": {},
   "outputs": [],
   "source": [
    "for (r1 in unique(meta_data['sample'])$sample){\n",
    "    for (r2 in unique(meta_data['sample'])$sample){\n",
    "        if (r1 != r2){\n",
    "            r <- results(dds_all, contrast=c(\"sample\",r1,r2))\n",
    "            fname <- paste(data_dir, 'deseq_genes_', r1, '_', r2, '.csv', sep = '')\n",
    "            write.csv(r, file=fname)\n",
    "        }\n",
    "    }\n",
    "}"
   ]
  }
 ],
 "metadata": {
  "kernelspec": {
   "display_name": "R [conda env:.conda-rpy_env] *",
   "language": "R",
   "name": "conda-env-.conda-rpy_env-r"
  },
  "language_info": {
   "codemirror_mode": "r",
   "file_extension": ".r",
   "mimetype": "text/x-r-source",
   "name": "R",
   "pygments_lexer": "r",
   "version": "4.1.1"
  }
 },
 "nbformat": 4,
 "nbformat_minor": 5
}
