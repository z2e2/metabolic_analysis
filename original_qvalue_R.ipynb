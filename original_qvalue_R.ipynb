{
 "cells": [
  {
   "cell_type": "code",
   "execution_count": 1,
   "id": "9b99be6d",
   "metadata": {},
   "outputs": [],
   "source": [
    "# if (!require(\"BiocManager\", quietly = TRUE))\n",
    "#     install.packages(\"BiocManager\")\n",
    "\n",
    "# BiocManager::install(\"qvalue\")"
   ]
  },
  {
   "cell_type": "markdown",
   "id": "d5ffd469",
   "metadata": {},
   "source": [
    "# cd8 pathway"
   ]
  },
  {
   "cell_type": "code",
   "execution_count": 3,
   "id": "d7bbffc9",
   "metadata": {},
   "outputs": [],
   "source": [
    "library(qvalue)\n",
    "# df <- read.csv(file = 'test_q_val.csv')\n",
    "df <- read.csv(file = 'cd8_atlas/hypergeom_results_cd8_overlap_2_q_values.csv')\n",
    "pvalues <- df$p\n",
    "qobj <- qvalue(p = pvalues)\n",
    "df$qval_r <- qobj$qvalues\n",
    "sorted_df <- df[order(df$qval_r),]\n",
    "significant_terms = sorted_df[sorted_df$qval_r<0.05,]"
   ]
  },
  {
   "cell_type": "code",
   "execution_count": 51,
   "id": "3064ada1",
   "metadata": {},
   "outputs": [
    {
     "name": "stdout",
     "output_type": "stream",
     "text": [
      "==================================================================== \n",
      "------------------ 5BQ_diffexpr-nonnaive-cluster18 ------------------ \n",
      " [1] \"KEGG_MM_NF-KAPPA_B_SIGNALING_PATHWAY\"                        \n",
      " [2] \"KEGG_MM_TNF_SIGNALING_PATHWAY\"                               \n",
      " [3] \"KEGG_MM_IL-17_SIGNALING_PATHWAY\"                             \n",
      " [4] \"KEGG_MM_TOLL-LIKE_RECEPTOR_SIGNALING_PATHWAY\"                \n",
      " [5] \"KEGG_MM_PI3K-AKT_SIGNALING_PATHWAY\"                          \n",
      " [6] \"KEGG_MM_TGF-BETA_SIGNALING_PATHWAY\"                          \n",
      " [7] \"KEGG_MM_ALDOSTERONE_SYNTHESIS_AND_SECRETION\"                 \n",
      " [8] \"KEGG_MM_AGE-RAGE_SIGNALING_PATHWAY_IN_DIABETIC_COMPLICATIONS\"\n",
      " [9] \"KEGG_MM_CORTISOL_SYNTHESIS_AND_SECRETION\"                    \n",
      "[10] \"KEGG_MM_JAK-STAT_SIGNALING_PATHWAY\"                          \n",
      "[11] \"KEGG_MM_C-TYPE_LECTIN_RECEPTOR_SIGNALING_PATHWAY\"            \n",
      "[12] \"KEGG_MM_NITROGEN_METABOLISM\"                                 \n",
      "[13] \"KEGG_MM_PATHWAYS_OF_NEURODEGENERATION_MULTIPLE_DISEASES\"     \n",
      "==================================================================== \n",
      "------------------ 5BR_diffexpr-nonnaive-cluster20 ------------------ \n",
      "[1] \"KEGG_MM_PYRIMIDINE_METABOLISM\"  \"KEGG_MM_NUCLEOTIDE_METABOLISM\" \n",
      "[3] \"KEGG_MM_FOXO_SIGNALING_PATHWAY\" \"KEGG_MM_GLUTATHIONE_METABOLISM\"\n",
      "==================================================================== \n",
      "------------------ 5BD_diffexpr-nonnaive-cluster4 ------------------ \n",
      "[1] \"KEGG_MM_PYRIMIDINE_METABOLISM\"          \n",
      "[2] \"KEGG_MM_NUCLEOTIDE_METABOLISM\"          \n",
      "[3] \"KEGG_MM_GLUTATHIONE_METABOLISM\"         \n",
      "[4] \"KEGG_MM_GLYCOLYSIS_GLUCONEOGENESIS\"     \n",
      "[5] \"KEGG_MM_BIOSYNTHESIS_OF_AMINO_ACIDS\"    \n",
      "[6] \"KEGG_MM_FRUCTOSE_AND_MANNOSE_METABOLISM\"\n",
      "==================================================================== \n",
      "------------------ 5BM_diffexpr-nonnaive-cluster14 ------------------ \n",
      "[1] \"KEGG_MM_HIPPO_SIGNALING_PATHWAY\" \"KEGG_MM_GLUTATHIONE_METABOLISM\" \n",
      "[3] \"KEGG_MM_PYRIMIDINE_METABOLISM\"  \n",
      "==================================================================== \n",
      "------------------ 5BO_diffexpr-nonnaive-cluster16 ------------------ \n",
      "[1] \"KEGG_MM_TOLL-LIKE_RECEPTOR_SIGNALING_PATHWAY\"\n",
      "==================================================================== \n",
      "------------------ 5BA_diffexpr-nonnaive-cluster1 ------------------ \n",
      "[1] \"KEGG_MM_GLYCOSAMINOGLYCAN_BIOSYNTHESIS_KERATAN_SULFATE\"\n",
      "==================================================================== \n",
      "------------------ 5BK_diffexpr-nonnaive-cluster12 ------------------ \n",
      "[1] \"KEGG_MM_PI3K-AKT_SIGNALING_PATHWAY\"                   \n",
      "[2] \"KEGG_MM_NITROGEN_METABOLISM\"                          \n",
      "[3] \"KEGG_MM_JAK-STAT_SIGNALING_PATHWAY\"                   \n",
      "[4] \"KEGG_MM_RAS_SIGNALING_PATHWAY\"                        \n",
      "[5] \"KEGG_MM_GLYCOSPHINGOLIPID_BIOSYNTHESIS_GANGLIO_SERIES\"\n",
      "[6] \"KEGG_MM_MUCIN_TYPE_O-GLYCAN_BIOSYNTHESIS\"             \n",
      "==================================================================== \n",
      "------------------ 5BJ_diffexpr-nonnaive-cluster11 ------------------ \n",
      "[1] \"KEGG_MM_NITROGEN_METABOLISM\"                           \n",
      "[2] \"KEGG_MM_GLYCOSAMINOGLYCAN_BIOSYNTHESIS_KERATAN_SULFATE\"\n",
      "[3] \"KEGG_MM_TNF_SIGNALING_PATHWAY\"                         \n",
      "[4] \"KEGG_MM_FOXO_SIGNALING_PATHWAY\"                        \n",
      "[5] \"KEGG_MM_RAS_SIGNALING_PATHWAY\"                         \n",
      "==================================================================== \n",
      "------------------ 5BS_diffexpr-nonnaive-cluster21 ------------------ \n",
      "[1] \"KEGG_MM_NITROGEN_METABOLISM\"              \n",
      "[2] \"KEGG_MM_RAP1_SIGNALING_PATHWAY\"           \n",
      "[3] \"KEGG_MM_THYROID_HORMONE_SIGNALING_PATHWAY\"\n",
      "==================================================================== \n",
      "------------------ 5BF_diffexpr-nonnaive-cluster6 ------------------ \n",
      "[1] \"KEGG_MM_HIPPO_SIGNALING_PATHWAY\"\n",
      "==================================================================== \n",
      "------------------ 5BC_diffexpr-nonnaive-cluster3 ------------------ \n",
      "[1] \"KEGG_MM_PROLACTIN_SIGNALING_PATHWAY\" \"KEGG_MM_JAK-STAT_SIGNALING_PATHWAY\" \n",
      "==================================================================== \n",
      "------------------ 5BG_diffexpr-nonnaive-cluster8 ------------------ \n",
      "[1] \"KEGG_MM_FOXO_SIGNALING_PATHWAY\" \"KEGG_MM_PYRIMIDINE_METABOLISM\" \n",
      "==================================================================== \n",
      "------------------ 5BB_diffexpr-nonnaive-cluster2 ------------------ \n",
      "[1] \"KEGG_MM_GLYCOSAMINOGLYCAN_BIOSYNTHESIS_HEPARAN_SULFATE_HEPARIN\"\n",
      "[2] \"KEGG_MM_RAP1_SIGNALING_PATHWAY\"                                \n",
      "==================================================================== \n",
      "------------------ 5BL_diffexpr-nonnaive-cluster13 ------------------ \n",
      "[1] \"KEGG_MM_FOXO_SIGNALING_PATHWAY\"                                \n",
      "[2] \"KEGG_MM_GLYCOSAMINOGLYCAN_BIOSYNTHESIS_HEPARAN_SULFATE_HEPARIN\"\n",
      "[3] \"KEGG_MM_CGMP-PKG_SIGNALING_PATHWAY\"                            \n",
      "==================================================================== \n",
      "------------------ 5BP_diffexpr-nonnaive-cluster17 ------------------ \n",
      "[1] \"KEGG_MM_FOXO_SIGNALING_PATHWAY\"\n",
      "==================================================================== \n"
     ]
    }
   ],
   "source": [
    "cat(paste('====================================================================', '\\n'))\n",
    "for (x in unique(significant_terms$variable)) {\n",
    "    cat(paste('------------------', x, '------------------', '\\n'))\n",
    "    print(significant_terms[significant_terms$variable==x,]$term)\n",
    "    cat(paste('====================================================================', '\\n'))\n",
    "}"
   ]
  },
  {
   "cell_type": "code",
   "execution_count": 53,
   "id": "2828dbd8",
   "metadata": {},
   "outputs": [],
   "source": [
    "#head(abs(qobj$qvalues-df$q)/df$q)"
   ]
  },
  {
   "cell_type": "code",
   "execution_count": 52,
   "id": "b2d88cb5",
   "metadata": {
    "scrolled": true
   },
   "outputs": [],
   "source": [
    "#head(abs(qobj$qvalues-df$q)/qobj$qvalues)"
   ]
  },
  {
   "cell_type": "code",
   "execution_count": 14,
   "id": "45035958",
   "metadata": {},
   "outputs": [
    {
     "data": {
      "image/png": "[encoded data removed]",
      "text/plain": [
       "plot without title"
      ]
     },
     "metadata": {
      "image/png": {
       "height": 420,
       "width": 420
      }
     },
     "output_type": "display_data"
    }
   ],
   "source": [
    "plot(qobj)"
   ]
  },
  {
   "cell_type": "markdown",
   "id": "abe6a34a",
   "metadata": {},
   "source": [
    "# cd8 reaction subsystems"
   ]
  },
  {
   "cell_type": "code",
   "execution_count": 124,
   "id": "c88aacb8",
   "metadata": {},
   "outputs": [
    {
     "name": "stdout",
     "output_type": "stream",
     "text": [
      "==================================================================== \n",
      "------------------ 5BB_diffexpr-nonnaive-cluster2 ------------------ \n",
      "[1] \"Chondroitin synthesis\"\n",
      "==================================================================== \n",
      "------------------ 5BD_diffexpr-nonnaive-cluster4 ------------------ \n",
      "[1] \"Nucleotide interconversion\"                       \n",
      "[2] \"Folate metabolism\"                                \n",
      "[3] \"Glycine, serine, alanine and threonine metabolism\"\n",
      "[4] \"Pyruvate metabolism\"                              \n",
      "[5] \"Eicosanoid metabolism\"                            \n",
      "[6] \"Methionine and cysteine metabolism\"               \n",
      "[7] \"Glyoxylate and dicarboxylate metabolism\"          \n",
      "[8] \"Propanoate metabolism\"                            \n",
      "==================================================================== \n",
      "------------------ 5BF_diffexpr-nonnaive-cluster6 ------------------ \n",
      "[1] \"Nucleotide interconversion\"\n",
      "==================================================================== \n",
      "------------------ 5BG_diffexpr-nonnaive-cluster8 ------------------ \n",
      "[1] \"Nucleotide interconversion\"\n",
      "==================================================================== \n",
      "------------------ 5BH_diffexpr-nonnaive-cluster9 ------------------ \n",
      "[1] \"Pyruvate metabolism\"                    \n",
      "[2] \"Eicosanoid metabolism\"                  \n",
      "[3] \"Methionine and cysteine metabolism\"     \n",
      "[4] \"Glyoxylate and dicarboxylate metabolism\"\n",
      "[5] \"Propanoate metabolism\"                  \n",
      "[6] \"Inositol phosphate metabolism\"          \n",
      "==================================================================== \n",
      "------------------ 5BL_diffexpr-nonnaive-cluster13 ------------------ \n",
      "[1] \"Chondroitin synthesis\"    \"Transport, extracellular\"\n",
      "==================================================================== \n",
      "------------------ 5BM_diffexpr-nonnaive-cluster14 ------------------ \n",
      "[1] \"Nucleotide interconversion\"\n",
      "==================================================================== \n",
      "------------------ 5BQ_diffexpr-nonnaive-cluster18 ------------------ \n",
      "[1] \"Tetrahydrobiopterin metabolism\"\n",
      "==================================================================== \n",
      "------------------ 5BR_diffexpr-nonnaive-cluster20 ------------------ \n",
      "[1] \"Nucleotide interconversion\" \"Folate metabolism\"         \n",
      "[3] \"Pyrimidine catabolism\"     \n",
      "==================================================================== \n"
     ]
    }
   ],
   "source": [
    "df <- read.csv(file = 'cd8_atlas/hypergeom_results_cd8_compass_reactions_overlap_q.csv')\n",
    "df <- df[!is.na(df$p),]\n",
    "pvalues <- df$p\n",
    "# qobj <- qvalue(p = pvalues)\n",
    "# df$qval_r <- qobj$qvalues\n",
    "df$qval_r <- df$q\n",
    "sorted_df <- df[order(df$qval_r),]\n",
    "sorted_df <- df[order(df$qval_r),]\n",
    "significant_terms = sorted_df[sorted_df$qval_r<0.05,]\n",
    "cat(paste('====================================================================', '\\n'))\n",
    "for (x in unique(significant_terms$variable)) {\n",
    "    cat(paste('------------------', x, '------------------', '\\n'))\n",
    "    print(significant_terms[significant_terms$variable==x,]$term)\n",
    "    cat(paste('====================================================================', '\\n'))\n",
    "}"
   ]
  },
  {
   "cell_type": "markdown",
   "id": "188feb27",
   "metadata": {},
   "source": [
    "# compass subsystem level analysis"
   ]
  },
  {
   "cell_type": "code",
   "execution_count": 128,
   "id": "e91caf52",
   "metadata": {},
   "outputs": [
    {
     "data": {
      "text/html": [
       "<table class=\"dataframe\">\n",
       "<caption>A data.frame: 6 × 6</caption>\n",
       "<thead>\n",
       "\t<tr><th></th><th scope=col>X</th><th scope=col>term</th><th scope=col>p</th><th scope=col>padj</th><th scope=col>q</th><th scope=col>qval_r</th></tr>\n",
       "\t<tr><th></th><th scope=col>&lt;int&gt;</th><th scope=col>&lt;chr&gt;</th><th scope=col>&lt;dbl&gt;</th><th scope=col>&lt;lgl&gt;</th><th scope=col>&lt;dbl&gt;</th><th scope=col>&lt;dbl&gt;</th></tr>\n",
       "</thead>\n",
       "<tbody>\n",
       "\t<tr><th scope=row>2</th><td> 1</td><td>Nucleotide interconversion                       </td><td>0.002879110</td><td>NA</td><td>0.03114129</td><td>0.03114129</td></tr>\n",
       "\t<tr><th scope=row>13</th><td>12</td><td>Valine, leucine, and isoleucine metabolism       </td><td>0.002096059</td><td>NA</td><td>0.03114129</td><td>0.03114129</td></tr>\n",
       "\t<tr><th scope=row>18</th><td>17</td><td>Glycine, serine, alanine and threonine metabolism</td><td>0.003425542</td><td>NA</td><td>0.03114129</td><td>0.03114129</td></tr>\n",
       "\t<tr><th scope=row>46</th><td>45</td><td>Purine synthesis                                 </td><td>0.005890298</td><td>NA</td><td>0.04016112</td><td>0.04016112</td></tr>\n",
       "\t<tr><th scope=row>28</th><td>27</td><td>Pentose phosphate pathway                        </td><td>0.008620349</td><td>NA</td><td>0.04702009</td><td>0.04702009</td></tr>\n",
       "\t<tr><th scope=row>60</th><td>59</td><td>Transport, lysosomal                             </td><td>0.010499285</td><td>NA</td><td>0.04772402</td><td>0.04772402</td></tr>\n",
       "</tbody>\n",
       "</table>\n"
      ],
      "text/latex": [
       "A data.frame: 6 × 6\n",
       "\\begin{tabular}{r|llllll}\n",
       "  & X & term & p & padj & q & qval\\_r\\\\\n",
       "  & <int> & <chr> & <dbl> & <lgl> & <dbl> & <dbl>\\\\\n",
       "\\hline\n",
       "\t2 &  1 & Nucleotide interconversion                        & 0.002879110 & NA & 0.03114129 & 0.03114129\\\\\n",
       "\t13 & 12 & Valine, leucine, and isoleucine metabolism        & 0.002096059 & NA & 0.03114129 & 0.03114129\\\\\n",
       "\t18 & 17 & Glycine, serine, alanine and threonine metabolism & 0.003425542 & NA & 0.03114129 & 0.03114129\\\\\n",
       "\t46 & 45 & Purine synthesis                                  & 0.005890298 & NA & 0.04016112 & 0.04016112\\\\\n",
       "\t28 & 27 & Pentose phosphate pathway                         & 0.008620349 & NA & 0.04702009 & 0.04702009\\\\\n",
       "\t60 & 59 & Transport, lysosomal                              & 0.010499285 & NA & 0.04772402 & 0.04772402\\\\\n",
       "\\end{tabular}\n"
      ],
      "text/markdown": [
       "\n",
       "A data.frame: 6 × 6\n",
       "\n",
       "| <!--/--> | X &lt;int&gt; | term &lt;chr&gt; | p &lt;dbl&gt; | padj &lt;lgl&gt; | q &lt;dbl&gt; | qval_r &lt;dbl&gt; |\n",
       "|---|---|---|---|---|---|---|\n",
       "| 2 |  1 | Nucleotide interconversion                        | 0.002879110 | NA | 0.03114129 | 0.03114129 |\n",
       "| 13 | 12 | Valine, leucine, and isoleucine metabolism        | 0.002096059 | NA | 0.03114129 | 0.03114129 |\n",
       "| 18 | 17 | Glycine, serine, alanine and threonine metabolism | 0.003425542 | NA | 0.03114129 | 0.03114129 |\n",
       "| 46 | 45 | Purine synthesis                                  | 0.005890298 | NA | 0.04016112 | 0.04016112 |\n",
       "| 28 | 27 | Pentose phosphate pathway                         | 0.008620349 | NA | 0.04702009 | 0.04702009 |\n",
       "| 60 | 59 | Transport, lysosomal                              | 0.010499285 | NA | 0.04772402 | 0.04772402 |\n",
       "\n"
      ],
      "text/plain": [
       "   X  term                                              p           padj\n",
       "2   1 Nucleotide interconversion                        0.002879110 NA  \n",
       "13 12 Valine, leucine, and isoleucine metabolism        0.002096059 NA  \n",
       "18 17 Glycine, serine, alanine and threonine metabolism 0.003425542 NA  \n",
       "46 45 Purine synthesis                                  0.005890298 NA  \n",
       "28 27 Pentose phosphate pathway                         0.008620349 NA  \n",
       "60 59 Transport, lysosomal                              0.010499285 NA  \n",
       "   q          qval_r    \n",
       "2  0.03114129 0.03114129\n",
       "13 0.03114129 0.03114129\n",
       "18 0.03114129 0.03114129\n",
       "46 0.04016112 0.04016112\n",
       "28 0.04702009 0.04702009\n",
       "60 0.04772402 0.04772402"
      ]
     },
     "metadata": {},
     "output_type": "display_data"
    }
   ],
   "source": [
    "df <- read.csv(file = 'compass_hypergeom_results/results_Th17p_v_n_compass_rxns_q.csv')\n",
    "df <- df[!is.na(df$p),]\n",
    "pvalues <- df$p\n",
    "# qobj <- qvalue(p = pvalues, pi0 = 0.1)\n",
    "# df$qval_r <- qobj$qvalues\n",
    "df$qval_r <- df$q\n",
    "sorted_df <- df[order(df$qval_r),]\n",
    "significant_terms = sorted_df[sorted_df$qval_r<0.05,]\n",
    "significant_terms"
   ]
  },
  {
   "cell_type": "code",
   "execution_count": 129,
   "id": "6e184274",
   "metadata": {},
   "outputs": [
    {
     "data": {
      "text/html": [
       "<table class=\"dataframe\">\n",
       "<caption>A data.frame: 5 × 6</caption>\n",
       "<thead>\n",
       "\t<tr><th></th><th scope=col>X</th><th scope=col>term</th><th scope=col>p</th><th scope=col>padj</th><th scope=col>q</th><th scope=col>qval_r</th></tr>\n",
       "\t<tr><th></th><th scope=col>&lt;int&gt;</th><th scope=col>&lt;chr&gt;</th><th scope=col>&lt;dbl&gt;</th><th scope=col>&lt;lgl&gt;</th><th scope=col>&lt;dbl&gt;</th><th scope=col>&lt;dbl&gt;</th></tr>\n",
       "</thead>\n",
       "<tbody>\n",
       "\t<tr><th scope=row>11</th><td>10</td><td>Inositol phosphate metabolism</td><td>0.0004541879</td><td>NA</td><td>0.008257962</td><td>0.008257962</td></tr>\n",
       "\t<tr><th scope=row>15</th><td>14</td><td>Cholesterol metabolism       </td><td>0.0019231850</td><td>NA</td><td>0.014876048</td><td>0.014876048</td></tr>\n",
       "\t<tr><th scope=row>44</th><td>43</td><td>Heme synthesis               </td><td>0.0024545479</td><td>NA</td><td>0.014876048</td><td>0.014876048</td></tr>\n",
       "\t<tr><th scope=row>6</th><td> 5</td><td>Keratan sulfate synthesis    </td><td>0.0036124834</td><td>NA</td><td>0.016420379</td><td>0.016420379</td></tr>\n",
       "\t<tr><th scope=row>21</th><td>20</td><td>Aminosugar metabolism        </td><td>0.0085825516</td><td>NA</td><td>0.031209278</td><td>0.031209278</td></tr>\n",
       "</tbody>\n",
       "</table>\n"
      ],
      "text/latex": [
       "A data.frame: 5 × 6\n",
       "\\begin{tabular}{r|llllll}\n",
       "  & X & term & p & padj & q & qval\\_r\\\\\n",
       "  & <int> & <chr> & <dbl> & <lgl> & <dbl> & <dbl>\\\\\n",
       "\\hline\n",
       "\t11 & 10 & Inositol phosphate metabolism & 0.0004541879 & NA & 0.008257962 & 0.008257962\\\\\n",
       "\t15 & 14 & Cholesterol metabolism        & 0.0019231850 & NA & 0.014876048 & 0.014876048\\\\\n",
       "\t44 & 43 & Heme synthesis                & 0.0024545479 & NA & 0.014876048 & 0.014876048\\\\\n",
       "\t6 &  5 & Keratan sulfate synthesis     & 0.0036124834 & NA & 0.016420379 & 0.016420379\\\\\n",
       "\t21 & 20 & Aminosugar metabolism         & 0.0085825516 & NA & 0.031209278 & 0.031209278\\\\\n",
       "\\end{tabular}\n"
      ],
      "text/markdown": [
       "\n",
       "A data.frame: 5 × 6\n",
       "\n",
       "| <!--/--> | X &lt;int&gt; | term &lt;chr&gt; | p &lt;dbl&gt; | padj &lt;lgl&gt; | q &lt;dbl&gt; | qval_r &lt;dbl&gt; |\n",
       "|---|---|---|---|---|---|---|\n",
       "| 11 | 10 | Inositol phosphate metabolism | 0.0004541879 | NA | 0.008257962 | 0.008257962 |\n",
       "| 15 | 14 | Cholesterol metabolism        | 0.0019231850 | NA | 0.014876048 | 0.014876048 |\n",
       "| 44 | 43 | Heme synthesis                | 0.0024545479 | NA | 0.014876048 | 0.014876048 |\n",
       "| 6 |  5 | Keratan sulfate synthesis     | 0.0036124834 | NA | 0.016420379 | 0.016420379 |\n",
       "| 21 | 20 | Aminosugar metabolism         | 0.0085825516 | NA | 0.031209278 | 0.031209278 |\n",
       "\n"
      ],
      "text/plain": [
       "   X  term                          p            padj q           qval_r     \n",
       "11 10 Inositol phosphate metabolism 0.0004541879 NA   0.008257962 0.008257962\n",
       "15 14 Cholesterol metabolism        0.0019231850 NA   0.014876048 0.014876048\n",
       "44 43 Heme synthesis                0.0024545479 NA   0.014876048 0.014876048\n",
       "6   5 Keratan sulfate synthesis     0.0036124834 NA   0.016420379 0.016420379\n",
       "21 20 Aminosugar metabolism         0.0085825516 NA   0.031209278 0.031209278"
      ]
     },
     "metadata": {},
     "output_type": "display_data"
    }
   ],
   "source": [
    "df <- read.csv(file = 'compass_hypergeom_results/results_Th17n_v_p_compass_rxns_q.csv')\n",
    "df <- df[!is.na(df$p),]\n",
    "pvalues <- df$p\n",
    "# qobj <- qvalue(p = pvalues, pi0 = 0.1)\n",
    "# df$qval_r <- qobj$qvalues\n",
    "df$qval_r <- df$q\n",
    "sorted_df <- df[order(df$qval_r),]\n",
    "significant_terms = sorted_df[sorted_df$qval_r<0.05,]\n",
    "significant_terms"
   ]
  },
  {
   "cell_type": "markdown",
   "id": "e5800bbd",
   "metadata": {},
   "source": [
    "# compass reaction level analysis"
   ]
  },
  {
   "cell_type": "code",
   "execution_count": 155,
   "id": "03232caa",
   "metadata": {},
   "outputs": [
    {
     "name": "stdout",
     "output_type": "stream",
     "text": [
      "                                                Var1 Freq\n",
      "14                              Fatty acid oxidation   63\n",
      "30                       Keratan sulfate degradation   42\n",
      "31                         Keratan sulfate synthesis   41\n",
      "39                        Nucleotide interconversion   29\n",
      "29                     Inositol phosphate metabolism   18\n",
      "9                    Chondroitin sulfate degradation   16\n",
      "10                             Chondroitin synthesis   15\n",
      "8                             Cholesterol metabolism   10\n",
      "21                    Glycerophospholipid metabolism   10\n",
      "58                             Tryptophan metabolism   10\n",
      "61        Valine, leucine, and isoleucine metabolism   10\n",
      "4                    Arginine and Proline Metabolism    9\n",
      "3                              Aminosugar metabolism    7\n",
      "45                             Pyrimidine catabolism    7\n",
      "47                               Pyruvate metabolism    7\n",
      "38                                    NAD metabolism    6\n",
      "44                                 Purine catabolism    6\n",
      "50                           Sphingolipid metabolism    6\n",
      "24           Glyoxylate and dicarboxylate metabolism    5\n",
      "34                Methionine and cysteine metabolism    5\n",
      "5                            beta-Alanine metabolism    4\n",
      "7                C5-branched dibasic acid metabolism    4\n",
      "17                   Fructose and mannose metabolism    4\n",
      "25                                    Heme synthesis    4\n",
      "33                                 Lysine metabolism    4\n",
      "36                              N-glycan degradation    4\n",
      "43                             Propanoate metabolism    4\n",
      "51                     Starch and sucrose metabolism    4\n",
      "59                               Tyrosine metabolism    4\n",
      "13                             Eicosanoid metabolism    3\n",
      "15                              Fatty acid synthesis    3\n",
      "16                                 Folate metabolism    3\n",
      "19                              Glutamate metabolism    3\n",
      "22 Glycine, serine, alanine and threonine metabolism    3\n",
      "26                       Heparan sulfate degradation    3\n",
      "27                              Histidine metabolism    3\n",
      "32                   Limonene and pinene degradation    3\n",
      "48                                ROS detoxification    3\n",
      "49                       Selenoamino acid metabolism    3\n",
      "1                   Alanine and aspartate metabolism    2\n",
      "6                              Blood group synthesis    2\n",
      "18                              Galactose metabolism    2\n",
      "20                            Glutathione metabolism    2\n",
      "23                        Glycolysis/gluconeogenesis    2\n",
      "40                         Oxidative phosphorylation    2\n",
      "42                          Phenylalanine metabolism    2\n",
      "53                Taurine and hypotaurine metabolism    2\n",
      "55                          Transport, extracellular    2\n",
      "63                             Vitamin B6 metabolism    2\n",
      "2                                 Alkaloid synthesis    1\n",
      "11                                 Citric acid cycle    1\n",
      "12                                    CoA catabolism    1\n",
      "28                             Hyaluronan metabolism    1\n",
      "35                                     Miscellaneous    1\n",
      "37                                N-glycan synthesis    1\n",
      "41                         Pentose phosphate pathway    1\n",
      "46                              Pyrimidine synthesis    1\n",
      "52                                Steroid metabolism    1\n",
      "54                    Tetrahydrobiopterin metabolism    1\n",
      "56                              Transport, lysosomal    1\n",
      "57                         Triacylglycerol synthesis    1\n",
      "60                                        Urea cycle    1\n",
      "62                             Vitamin B2 metabolism    1\n",
      "64                              Vitamin C metabolism    1\n"
     ]
    }
   ],
   "source": [
    "df <- read.csv(file = 'compass_hypergeom_results/results_Th17n_v_p_compass_rxns_q_reaction_scoring.csv')\n",
    "df <- df[!is.na(df$p),]\n",
    "pvalues <- df$p\n",
    "# qobj <- qvalue(p = pvalues, pi0 = 0.1)\n",
    "# df$qval_r <- qobj$qvalues\n",
    "df$qval_r <- df$q\n",
    "sorted_df <- df[order(df$qval_r),]\n",
    "significant_terms = sorted_df[sorted_df$qval_r<0.05,]\n",
    "res = as.data.frame(table(significant_terms$subsystem))\n",
    "print(res[order(res$Freq, decreasing = TRUE),], nrow=62)"
   ]
  },
  {
   "cell_type": "code",
   "execution_count": 139,
   "id": "43ade70c",
   "metadata": {},
   "outputs": [
    {
     "name": "stdout",
     "output_type": "stream",
     "text": [
      "                                                Var1 Freq\n",
      "36                        Nucleotide interconversion   75\n",
      "28                         Keratan sulfate synthesis   40\n",
      "14                                 Folate metabolism   26\n",
      "27                       Keratan sulfate degradation   26\n",
      "12                              Fatty acid oxidation   21\n",
      "13                              Fatty acid synthesis   17\n",
      "59        Valine, leucine, and isoleucine metabolism   16\n",
      "20 Glycine, serine, alanine and threonine metabolism   11\n",
      "8                    Chondroitin sulfate degradation   10\n",
      "47                               Pyruvate metabolism   10\n",
      "56                             Tryptophan metabolism   10\n",
      "9                              Chondroitin synthesis    9\n",
      "26                     Inositol phosphate metabolism    9\n",
      "57                               Tyrosine metabolism    9\n",
      "3                    Arginine and Proline Metabolism    8\n",
      "45                             Pyrimidine catabolism    8\n",
      "19                    Glycerophospholipid metabolism    7\n",
      "30                                 Lysine metabolism    7\n",
      "40                         Pentose phosphate pathway    7\n",
      "43                                 Purine catabolism    6\n",
      "49                           Sphingolipid metabolism    6\n",
      "17                              Glutamate metabolism    5\n",
      "35                                    NAD metabolism    5\n",
      "58                                        Urea cycle    5\n",
      "2                              Aminosugar metabolism    4\n",
      "7                             Cholesterol metabolism    4\n",
      "31                Methionine and cysteine metabolism    4\n",
      "46                              Pyrimidine synthesis    4\n",
      "15                   Fructose and mannose metabolism    3\n",
      "18                            Glutathione metabolism    3\n",
      "21           Glyoxylate and dicarboxylate metabolism    3\n",
      "29                   Limonene and pinene degradation    3\n",
      "39                         Oxidative phosphorylation    3\n",
      "44                                  Purine synthesis    3\n",
      "48                       Selenoamino acid metabolism    3\n",
      "55                         Triacylglycerol synthesis    3\n",
      "1                   Alanine and aspartate metabolism    2\n",
      "4                            beta-Alanine metabolism    2\n",
      "5                                  Biotin metabolism    2\n",
      "6                               Butanoate metabolism    2\n",
      "11                             Eicosanoid metabolism    2\n",
      "16                              Galactose metabolism    2\n",
      "25                             Hyaluronan metabolism    2\n",
      "33                              N-glycan degradation    2\n",
      "37                        Nucleotide salvage pathway    2\n",
      "50                                Steroid metabolism    2\n",
      "52                    Tetrahydrobiopterin metabolism    2\n",
      "61                              Vitamin C metabolism    2\n",
      "10                                     CoA synthesis    1\n",
      "22                                    Heme synthesis    1\n",
      "23                       Heparan sulfate degradation    1\n",
      "24                              Histidine metabolism    1\n",
      "32                                     Miscellaneous    1\n",
      "34                                N-glycan synthesis    1\n",
      "38                                O-glycan synthesis    1\n",
      "41         Phosphatidylinositol phosphate metabolism    1\n",
      "42                             Propanoate metabolism    1\n",
      "51          Stilbene, coumarine and lignin synthesis    1\n",
      "53                          Transport, extracellular    1\n",
      "54                              Transport, lysosomal    1\n",
      "60                              Vitamin A metabolism    1\n"
     ]
    }
   ],
   "source": [
    "df <- read.csv(file = 'compass_hypergeom_results/results_Th17p_v_n_compass_rxns_q_reaction_scoring.csv')\n",
    "df <- df[!is.na(df$p),]\n",
    "pvalues <- df$p\n",
    "# qobj <- qvalue(p = pvalues, pi0 = 0.1)\n",
    "# df$qval_r <- qobj$qvalues\n",
    "df$qval_r <- df$q\n",
    "sorted_df <- df[order(df$qval_r),]\n",
    "significant_terms = sorted_df[sorted_df$qval_r<0.05,]\n",
    "res = as.data.frame(table(significant_terms$subsystem))\n",
    "print(res[order(res$Freq, decreasing = TRUE),], nrow=62)"
   ]
  },
  {
   "cell_type": "code",
   "execution_count": null,
   "id": "bc206ceb",
   "metadata": {},
   "outputs": [],
   "source": []
  }
 ],
 "metadata": {
  "kernelspec": {
   "display_name": "chromvar",
   "language": "R",
   "name": "chromvar"
  },
  "language_info": {
   "codemirror_mode": "r",
   "file_extension": ".r",
   "mimetype": "text/x-r-source",
   "name": "R",
   "pygments_lexer": "r",
   "version": "4.1.3"
  }
 },
 "nbformat": 4,
 "nbformat_minor": 5
}
